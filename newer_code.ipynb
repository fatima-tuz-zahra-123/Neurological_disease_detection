{
 "cells": [
  {
   "cell_type": "code",
   "execution_count": 2,
   "id": "f0d68a18",
   "metadata": {},
   "outputs": [
    {
     "name": "stdout",
     "output_type": "stream",
     "text": [
      "Total images in testing folder: 84825\n"
     ]
    }
   ],
   "source": [
    "import os\n",
    "total_images = 0\n",
    "base_dir = r\"/Users/fatimatuzzahra/Downloads/processed_slices/train\"\n",
    "\n",
    "for root, dirs, files in os.walk(base_dir):\n",
    "    for file in files:\n",
    "        if file.lower().endswith('.png'):\n",
    "            total_images += 1\n",
    "\n",
    "print(\"Total images in testing folder:\", total_images)\n"
   ]
  },
  {
   "cell_type": "code",
   "execution_count": 3,
   "id": "20f1cfb0",
   "metadata": {},
   "outputs": [],
   "source": [
    "import os\n",
    "import numpy as np\n",
    "import pandas as pd\n",
    "from tqdm import tqdm\n",
    "from PIL import Image\n",
    "import torch\n",
    "import clip\n",
    "# from sklearn.model_selection import train_test_split\n",
    "# from sklearn.preprocessing import StandardScaler\n",
    "# from sklearn.metrics import accuracy_score, classification_report, confusion_matrix\n",
    "import matplotlib.pyplot as plt\n",
    "import seaborn as sns\n",
    "from torch import nn\n",
    "from torch.utils.data import DataLoader, TensorDataset\n",
    "from sklearn.ensemble import RandomForestClassifier"
   ]
  },
  {
   "cell_type": "code",
   "execution_count": 4,
   "id": "a10913f6",
   "metadata": {},
   "outputs": [
    {
     "name": "stdout",
     "output_type": "stream",
     "text": [
      "AD axial images: 17575\n",
      "CN axial images: 25795\n",
      "MCI axial images: 41455\n",
      "Total axial images: 84825\n"
     ]
    }
   ],
   "source": [
    "base_dir = r\"/Users/fatimatuzzahra/Downloads/processed_slices/train\"\n",
    "class_names = ['AD', 'CN', 'MCI']\n",
    "total_images = 0\n",
    "\n",
    "for class_name in class_names:\n",
    "    path = os.path.join(base_dir, class_name, 'axial')\n",
    "    if os.path.exists(path):\n",
    "        num_files = len([f for f in os.listdir(path) if f.lower().endswith('.png')])\n",
    "        print(f\"{class_name} axial images: {num_files}\")\n",
    "        total_images += num_files\n",
    "    else:\n",
    "        print(f\" Path not found: {path}\")\n",
    "\n",
    "print(\"Total axial images:\", total_images)\n"
   ]
  },
  {
   "cell_type": "code",
   "execution_count": 5,
   "id": "6e3614c1",
   "metadata": {},
   "outputs": [
    {
     "name": "stdout",
     "output_type": "stream",
     "text": [
      "Using device: cpu\n"
     ]
    }
   ],
   "source": [
    "import torch\n",
    "\n",
    "if torch.backends.mps.is_available():\n",
    "    device = torch.device(\"cpu\")\n",
    "else:\n",
    "    device = torch.device(\"cpu\")\n",
    "\n",
    "print(f\"Using device: {device}\")"
   ]
  },
  {
   "cell_type": "code",
   "execution_count": 6,
   "id": "b0d17226",
   "metadata": {},
   "outputs": [
    {
     "name": "stdout",
     "output_type": "stream",
     "text": [
      "Torch: 2.7.0\n",
      "TorchVision: 0.22.0\n"
     ]
    }
   ],
   "source": [
    "import torch, torchvision\n",
    "print(\"Torch:\", torch.__version__)\n",
    "print(\"TorchVision:\", torchvision.__version__)"
   ]
  },
  {
   "cell_type": "code",
   "execution_count": null,
   "id": "fb2f48ff",
   "metadata": {},
   "outputs": [],
   "source": [
    "import torch\n",
    "import os\n",
    "import numpy as np\n",
    "from tqdm import tqdm\n",
    "from PIL import Image\n",
    "import torchvision.transforms as T\n",
    "from monai.networks.nets import DenseNet121\n",
    "from monai.transforms import Compose, LoadImage, Resize, ScaleIntensity, EnsureChannelFirst, ToTensor\n",
    "from torchvision.models import densenet121, DenseNet121_Weights\n",
    "\n",
    "device = torch.device(\"cuda\" if torch.cuda.is_available() else \"mps\" if torch.backends.mps.is_available() else \"cpu\")\n",
    "\n",
    "# ---- Model ----\n",
    "weights = DenseNet121_Weights.DEFAULT \n",
    "model = densenet121(weights=weights)\n",
    "full_model = DenseNet121(spatial_dims=2, in_channels=3, out_channels=1, pretrained=True)\n",
    "feature_extractor = torch.nn.Sequential(*list(full_model.children())[:-1]).to(device)\n",
    "feature_extractor.eval()\n",
    "\n",
    "# ---- Transforms ----\n",
    "class RepeatChannel:\n",
    "    def __call__(self, img):\n",
    "        if isinstance(img, np.ndarray):\n",
    "            img = torch.tensor(img)\n",
    "        if img.shape[0] == 1:\n",
    "            return img.repeat(3, 1, 1)\n",
    "        return img\n",
    "\n",
    "transform = Compose([\n",
    "    LoadImage(image_only=True),\n",
    "    EnsureChannelFirst(),\n",
    "    Resize((224, 224)),\n",
    "    ScaleIntensity(),\n",
    "    ToTensor(),\n",
    "    RepeatChannel()\n",
    "])\n",
    "\n",
    "augmenter = T.Compose([\n",
    "    T.Grayscale(num_output_channels=1),\n",
    "    T.Resize((224, 224)),\n",
    "    T.RandomHorizontalFlip(),\n",
    "    T.RandomRotation(10),\n",
    "    T.ToTensor(),\n",
    "    RepeatChannel(),\n",
    "    T.Normalize((0.5, 0.5, 0.5), (0.5, 0.5, 0.5))\n",
    "])\n",
    "\n",
    "# ---- Paths and Labels ----\n",
    "base_dir = r\"/Users/fatimatuzzahra/Downloads/processed_slices/train\"\n",
    "classes = ['AD', 'CN', 'MCI']\n",
    "label_map = {cls: idx for idx, cls in enumerate(classes)}\n",
    "\n",
    "# ---- Mini-batch params ----\n",
    "BATCH_SIZE = 64\n",
    "\n",
    "for cls in classes:\n",
    "    print(f\"\\nProcessing class: {cls}\")\n",
    "    class_dir = os.path.join(base_dir, cls, 'axial')\n",
    "    if not os.path.exists(class_dir):\n",
    "        print(f\"Directory not found: {class_dir}\")\n",
    "        continue\n",
    "\n",
    "    features, labels, image_paths = [], [], []\n",
    "    file_list = [f for f in os.listdir(class_dir) if f.lower().endswith('.png')]\n",
    "\n",
    "    for i in tqdm(range(0, len(file_list), BATCH_SIZE), desc=f\"Class {cls}\"):\n",
    "        batch_filenames = file_list[i:i + BATCH_SIZE]\n",
    "        orig_batch, aug_batch = [], []\n",
    "        batch_paths, batch_labels = [], []\n",
    "\n",
    "        for fname in batch_filenames:\n",
    "            img_path = os.path.join(class_dir, fname)\n",
    "            try:\n",
    "                # Original\n",
    "                monai_img = transform(img_path).unsqueeze(0)  # shape: [1, 3, 224, 224]\n",
    "                orig_batch.append(monai_img)\n",
    "                batch_labels.append(label_map[cls])\n",
    "                batch_paths.append(img_path)\n",
    "\n",
    "                # Augmented\n",
    "                pil_img = Image.open(img_path).convert(\"L\")\n",
    "                aug_img = augmenter(pil_img).unsqueeze(0)\n",
    "                aug_batch.append(aug_img)\n",
    "                batch_labels.append(label_map[cls])\n",
    "                batch_paths.append(img_path + \"_aug\")\n",
    "\n",
    "            except Exception as e:\n",
    "                print(f\"Failed to process {img_path}: {e}\")\n",
    "\n",
    "        # Stack and send to device\n",
    "        if orig_batch:\n",
    "            orig_batch_tensor = torch.cat(orig_batch).to(device)\n",
    "            aug_batch_tensor = torch.cat(aug_batch).to(device)\n",
    "\n",
    "            with torch.no_grad():\n",
    "                orig_feats = feature_extractor(orig_batch_tensor).cpu().numpy()\n",
    "                aug_feats = feature_extractor(aug_batch_tensor).cpu().numpy()\n",
    "\n",
    "            all_feats = np.concatenate([orig_feats, aug_feats], axis=0)\n",
    "            features.extend(all_feats)\n",
    "            labels.extend(batch_labels)\n",
    "            image_paths.extend(batch_paths)\n",
    "\n",
    "    # Save after processing each class\n",
    "    np.save(f\"features_{cls}.npy\", np.array(features))\n",
    "    np.save(f\"labels_{cls}.npy\", np.array(labels))\n",
    "    np.save(f\"image_paths_{cls}.npy\", np.array(image_paths))\n",
    "\n",
    "    print(f\"✅ Saved: features_{cls}.npy | labels_{cls}.npy | image_paths_{cls}.npy\")"
   ]
  },
  {
   "cell_type": "code",
   "execution_count": null,
   "id": "543944b0",
   "metadata": {},
   "outputs": [],
   "source": [
    "features_AD = np.load(\"features_AD.npy\")\n",
    "features_CN = np.load(\"features_CN.npy\")\n",
    "features_MCI = np.load(\"features_MCI.npy\")\n",
    "\n",
    "# Flatten: (35150, 1024, 7, 7) → (35150, 1024 * 7 * 7)\n",
    "features_AD = features_AD.reshape(features_AD.shape[0], -1)\n",
    "features_CN = features_CN.reshape(features_CN.shape[0], -1)\n",
    "features_MCI = features_MCI.reshape(features_MCI.shape[0], -1)"
   ]
  },
  {
   "cell_type": "code",
   "execution_count": null,
   "id": "c7d8c654",
   "metadata": {},
   "outputs": [],
   "source": [
    "import numpy as np\n",
    "from sklearn.utils import shuffle\n",
    "\n",
    "\n",
    "# Labels\n",
    "labels_AD = np.full(len(features_AD), 0)    # Alzheimer's Disease\n",
    "labels_CN = np.full(len(features_CN), 1)    # Cognitively Normal\n",
    "labels_MCI = np.full(len(features_MCI), 2)  # Mild Cognitive Impairment\n",
    "\n",
    "features_AD = features_AD.astype(np.float16)\n",
    "features_CN = features_CN.astype(np.float16)\n",
    "features_MCI = features_MCI.astype(np.float16)\n",
    "\n",
    "# Concatenate features and labels\n",
    "all_features = np.concatenate([features_AD, features_CN, features_MCI], axis=0)\n",
    "all_labels = np.concatenate([labels_AD, labels_CN, labels_MCI], axis=0)\n",
    "\n",
    "print(\"All features shape:\", all_features.shape)\n",
    "print(\"All labels shape:\", all_labels.shape)\n",
    "\n"
   ]
  },
  {
   "cell_type": "code",
   "execution_count": null,
   "id": "d37ccfe8",
   "metadata": {},
   "outputs": [],
   "source": [
    "np.save(\"train_features_axial_monai.npy\", all_features)\n",
    "np.save(\"train_labels_axial_monai.npy\", all_labels)\n",
    "\n",
    "print(\"Feature vectors saved:\")\n",
    "print(\"train_features_axial_monai.npy\")\n",
    "print(\"train_labels_axial_monai.npy\")"
   ]
  },
  {
   "cell_type": "markdown",
   "id": "215a2d8a",
   "metadata": {},
   "source": [
    "same process as above for validation data"
   ]
  },
  {
   "cell_type": "code",
   "execution_count": null,
   "id": "e6fa41ea",
   "metadata": {},
   "outputs": [],
   "source": [
    "import os\n",
    "import numpy as np\n",
    "from tqdm import tqdm\n",
    "# import imgaug.augmenters as iaa\n",
    "# from tensorflow.keras.applications.efficientnet import EfficientNetB0, preprocess_input\n",
    "# from tensorflow.keras.preprocessing.image import load_img, img_to_array\n",
    "# from tensorflow.keras.models import Model\n",
    "# from tensorflow.keras.layers import GlobalAveragePooling2D, Dropout, Dense\n",
    "import torchvision.transforms as T\n",
    "from monai.networks.nets import DenseNet121\n",
    "from monai.transforms import Compose, LoadImage, Resize, ScaleIntensity, EnsureChannelFirst, ToTensor\n",
    "from PIL import Image\n",
    "from torchvision.models import densenet121, DenseNet121_Weights\n",
    "\n",
    "\n",
    "# Extracting MONAI Image features\n",
    "\n",
    "weights = DenseNet121_Weights.DEFAULT \n",
    "model = densenet121(weights=weights)\n",
    "full_model = DenseNet121(spatial_dims=2, in_channels=3, out_channels=1, pretrained=True)\n",
    "\n",
    "# Remove classifier (keep features before final dense layer)\n",
    "feature_extractor = torch.nn.Sequential(*list(full_model.children())[:-1]).to(device)\n",
    "feature_extractor.eval()\n",
    "\n",
    "class RepeatChannel:\n",
    "    def __call__(self, img):\n",
    "        if isinstance(img, np.ndarray):\n",
    "            img = torch.tensor(img)\n",
    "        if img.shape[0] == 1:\n",
    "            return img.repeat(3, 1, 1)\n",
    "        return img\n",
    "\n",
    "# --- MONAI Transform for original grayscale image ---\n",
    "transform = Compose([\n",
    "    LoadImage(image_only=True),\n",
    "    EnsureChannelFirst(),       # Shape: [1, H, W]\n",
    "    Resize((224, 224)),\n",
    "    ScaleIntensity(),\n",
    "    ToTensor(),\n",
    "    RepeatChannel()             # Now shape becomes [3, H, W]\n",
    "])\n",
    "\n",
    "# --- Torch augmentations for grayscale input ---\n",
    "augmenter = T.Compose([\n",
    "    T.Grayscale(num_output_channels=1),        # Enforce 1 channel\n",
    "    T.Resize((224, 224)),\n",
    "    T.RandomHorizontalFlip(),\n",
    "    T.RandomRotation(10),\n",
    "    T.ToTensor(),                               # -> [1, H, W]\n",
    "    RepeatChannel(),                            # -> [3, H, W]\n",
    "    T.Normalize((0.5, 0.5, 0.5), (0.5, 0.5, 0.5))  # Standard normalization\n",
    "])\n",
    "\n",
    "# EfficientNet base model\n",
    "# base_model = EfficientNetB0(weights='imagenet', include_top=False, input_shape=(224,224,3))\n",
    "# # Step 3: Build feature extractor model (outputs 256-dim feature vectors)\n",
    "# x = base_model.output\n",
    "# x = GlobalAveragePooling2D()(x)\n",
    "# x = Dropout(0.5)(x)\n",
    "# x = Dense(256, activation='relu')(x)\n",
    "# feature_extractor = Model(inputs=base_model.input, outputs=x)\n",
    "\n",
    "# Step 4: Setup paths and label mapping\n",
    "base_dir = r\"/Users/fatimatuzzahra/Downloads/processed_slices/val\"\n",
    "classes = ['AD', 'CN', 'MCI']\n",
    "label_map = {cls: idx for idx, cls in enumerate(classes)}\n",
    "\n",
    "features, labels, image_paths = [], [], []\n",
    "\n",
    "# Step 5: Loop through dataset and extract features\n",
    "\n",
    "for cls in classes:\n",
    "    print(cls)\n",
    "    class_dir = os.path.join(base_dir, cls, 'axial')\n",
    "    if not os.path.exists(class_dir):\n",
    "        print(f\"Directory not found: {class_dir}\")\n",
    "        continue\n",
    "\n",
    "    for fname in tqdm(os.listdir(class_dir), desc=f\"Processing {cls}\"):\n",
    "        if fname.lower().endswith('.png'):\n",
    "            img_path = os.path.join(class_dir, fname)\n",
    "            try:\n",
    "                # --------- Original Image (Grayscale assumed) ---------\n",
    "                monai_img = transform(img_path).unsqueeze(0).to(device)  # shape: [1, 3, 224, 224]\n",
    "                with torch.no_grad():\n",
    "                    orig_feat = feature_extractor(monai_img).cpu().numpy().flatten()\n",
    "                features.append(orig_feat)\n",
    "                labels.append(label_map[cls])\n",
    "                image_paths.append(img_path)\n",
    "\n",
    "                # --------- Augmented Image  ---------\n",
    "                pil_img = Image.open(img_path).convert(\"L\")\n",
    "                aug_img_tensor = augmenter(pil_img).unsqueeze(0).to(device)  # shape: [1, 3, 224, 224]\n",
    "                with torch.no_grad():\n",
    "                    aug_feat = feature_extractor(aug_img_tensor).cpu().numpy().flatten()\n",
    "                features.append(aug_feat)\n",
    "                labels.append(label_map[cls])\n",
    "                image_paths.append(img_path + \"_aug\")\n",
    "\n",
    "            except Exception as e:\n",
    "                print(f\"Failed to process {img_path}: {e}\")\n",
    "\n",
    "# Step 6: Save features, labels, and paths\n",
    "features = np.array(features)\n",
    "labels = np.array(labels)\n",
    "image_paths = np.array(image_paths)\n",
    "\n",
    "np.save(\"val_features_axial_monai.npy\", features)\n",
    "np.save(\"val_labels_axial_monai.npy\", labels)\n",
    "np.save(\"val_image_paths_axial_monai.npy\", image_paths)\n",
    "\n",
    "print(\"Feature vectors saved:\")\n",
    "print(\"val_features_axial_monai.npy\")\n",
    "print(\"val_labels_axial_monai.npy\")\n",
    "print(\"val_image_paths_axial_monai.npy\")"
   ]
  },
  {
   "cell_type": "code",
   "execution_count": 8,
   "id": "f44be791",
   "metadata": {},
   "outputs": [
    {
     "name": "stdout",
     "output_type": "stream",
     "text": [
      "(169650, 50176)\n",
      "(169650,)\n"
     ]
    }
   ],
   "source": [
    "features = np.load(\"train_features_axial_monai.npy\")       # Shape: (84755, 256)\n",
    "print(features.shape)\n",
    "labels = np.load(\"train_labels_axial_monai.npy\")           # Shape: (84755,)\n",
    "print(labels.shape)\n",
    "# image_paths = np.load(\"train_image_paths_axial_monai.npy\") # Shape: (84755,)\n",
    "# print(image_paths.shape)\n"
   ]
  },
  {
   "cell_type": "markdown",
   "id": "5662fce4",
   "metadata": {},
   "source": [
    "loading and printing features and other things for validation data as well"
   ]
  },
  {
   "cell_type": "code",
   "execution_count": 7,
   "id": "37d6d23f",
   "metadata": {},
   "outputs": [
    {
     "name": "stdout",
     "output_type": "stream",
     "text": [
      "(16830, 50176)\n",
      "(8415,)\n",
      "(8415,)\n"
     ]
    }
   ],
   "source": [
    "features = np.load(\"val_features_axial_monai.npy\")       # Shape: (84755, 256)\n",
    "print(features.shape)\n",
    "labels = np.load(\"val_labels_axial.npy\")           # Shape: (84755,)\n",
    "print(labels.shape)\n",
    "image_paths = np.load(\"val_image_paths_axial.npy\") # Shape: (84755,)\n",
    "print(image_paths.shape)\n"
   ]
  },
  {
   "cell_type": "code",
   "execution_count": null,
   "id": "bac77227",
   "metadata": {},
   "outputs": [],
   "source": [
    "X_train = np.load(\"train_features_axial_monai.npy\")\n",
    "y_train = np.load(\"train_labels_axial_monai.npy\")\n",
    "X_val = np.load(\"val_features_axial_monai.npy\")"
   ]
  },
  {
   "cell_type": "code",
   "execution_count": null,
   "id": "39ff2bcc",
   "metadata": {},
   "outputs": [],
   "source": [
    "X_small = X_train[:20000]  # or fewer\n",
    "y_small = y_train[:20000]\n",
    "\n",
    "rf = RandomForestClassifier(n_estimators=100, random_state=42, n_jobs=-1)\n",
    "rf.fit(X_small, y_small)"
   ]
  },
  {
   "cell_type": "code",
   "execution_count": null,
   "id": "fee1d030",
   "metadata": {},
   "outputs": [
    {
     "name": "stdout",
     "output_type": "stream",
     "text": [
      "Processing chunk 1/10\n",
      "Processing chunk 2/10\n",
      "Processing chunk 3/10\n",
      "Processing chunk 4/10\n",
      "Processing chunk 5/10\n",
      "Processing chunk 6/10\n",
      "Processing chunk 7/10\n",
      "Processing chunk 8/10\n",
      "Processing chunk 9/10\n",
      "Processing chunk 10/10\n"
     ]
    },
    {
     "data": {
      "text/plain": [
       "Text(0, 0.5, 'Importance')"
      ]
     },
     "execution_count": 7,
     "metadata": {},
     "output_type": "execute_result"
    },
    {
     "data": {
      "image/png": "[encoded data removed]",
      "text/plain": [
       "<Figure size 1000x500 with 1 Axes>"
      ]
     },
     "metadata": {},
     "output_type": "display_data"
    }
   ],
   "source": [
    "import numpy as np\n",
    "import joblib\n",
    "import gc\n",
    "\n",
    "X_train = np.load(\"train_features_axial_monai.npy\", mmap_mode='r')  # read without loading all\n",
    "y_train = np.load(\"train_labels_axial_monai.npy\")\n",
    "X_val = np.load(\"val_features_axial_monai.npy\")\n",
    "\n",
    "n_chunks = 10\n",
    "chunk_size = X_train.shape[0] // n_chunks\n",
    "\n",
    "feature_importances = np.zeros(X_train.shape[1])\n",
    "\n",
    "for i in range(n_chunks):\n",
    "    print(f\"Processing chunk {i+1}/{n_chunks}\")\n",
    "    start = i * chunk_size\n",
    "    end = (i + 1) * chunk_size if i < n_chunks - 1 else X_train.shape[0]\n",
    "    \n",
    "    X_chunk = X_train[start:end]\n",
    "    y_chunk = y_train[start:end]\n",
    "\n",
    "    rf = RandomForestClassifier(n_estimators=25, random_state=42+i, n_jobs=-1)\n",
    "    rf.fit(X_chunk, y_chunk)\n",
    "    feature_importances += rf.feature_importances_\n",
    "    del rf\n",
    "    gc.collect()\n",
    "\n",
    "# Average importances over chunks\n",
    "feature_importances /= n_chunks\n",
    "\n",
    "# Top features\n",
    "top_indices = np.argsort(feature_importances)[::-1][:30]\n",
    "np.save(\"rf_top30_indices.npy\", top_indices)\n",
    "X_train_reduced = X_train[:, top_indices]\n",
    "X_val_reduced = X_val[:, top_indices]  # Do the same for test/val sets\n",
    "\n",
    "# Save reduced datasets\n",
    "np.save(\"X_train_reduced_monai.npy\", X_train_reduced)\n",
    "np.save(\"X_val_reduced_monai.npy\", X_val_reduced)\n",
    "\n",
    "# Save selected feature indices for future use\n",
    "joblib.dump(top_indices, \"selected_rf_indices_monai.pkl\")\n",
    "X_train_reduced = X_train[:, top_indices]\n",
    "X_test_reduced = X_val[:, top_indices]  # Do the same for test/val sets\n",
    "plt.figure(figsize=(10, 5))\n",
    "plt.bar(range(len(top_indices)), feature_importances[top_indices])\n",
    "plt.title(\"Top 30 Important Features\")\n",
    "plt.xlabel(\"Feature Index\")\n",
    "plt.ylabel(\"Importance\")\n",
    "plt.show()"
   ]
  },
  {
   "cell_type": "code",
   "execution_count": 10,
   "id": "01dd2598",
   "metadata": {},
   "outputs": [
    {
     "name": "stderr",
     "output_type": "stream",
     "text": [
      "/opt/anaconda3/lib/python3.12/site-packages/umap/umap_.py:1952: UserWarning: n_jobs value 1 overridden to 1 by setting random_state. Use no seed for parallelism.\n",
      "  warn(\n"
     ]
    },
    {
     "data": {
      "image/png": "[encoded data removed]",
      "text/plain": [
       "<Figure size 640x480 with 2 Axes>"
      ]
     },
     "metadata": {},
     "output_type": "display_data"
    }
   ],
   "source": [
    "# for visualisation\n",
    "import umap.umap_ as umap\n",
    "\n",
    "X_train_reduced = np.load(\"X_train_reduced_monai.npy\")\n",
    "y_train = np.load(\"train_labels_axial_monai.npy\")\n",
    "reducer = umap.UMAP(n_components=2, random_state=42)\n",
    "X_umap = reducer.fit_transform(X_train_reduced)\n",
    "\n",
    "# Visualize 2D UMAP\n",
    "import matplotlib.pyplot as plt\n",
    "plt.scatter(X_umap[:, 0], X_umap[:, 1], c=y_train, cmap=\"viridis\", s=2)\n",
    "plt.title(\"UMAP of Fused Features\")\n",
    "plt.colorbar()\n",
    "plt.show()"
   ]
  },
  {
   "cell_type": "code",
   "execution_count": 12,
   "id": "a231d3c2",
   "metadata": {},
   "outputs": [
    {
     "name": "stdout",
     "output_type": "stream",
     "text": [
      "{0: 35150, 1: 51590, 2: 82910}\n"
     ]
    }
   ],
   "source": [
    "import numpy as np\n",
    "unique, counts = np.unique(y_train, return_counts=True)\n",
    "print(dict(zip(unique, counts)))"
   ]
  },
  {
   "cell_type": "code",
   "execution_count": null,
   "id": "dc061213",
   "metadata": {},
   "outputs": [],
   "source": [
    "# Undersampled balanced\n",
    "from imblearn.under_sampling import RandomUnderSampler\n",
    "\n",
    "rus = RandomUnderSampler(random_state=42)\n",
    "X_balanced, y_balanced = rus.fit_resample(X_train_reduced, y_train)\n",
    "\n",
    "# Then re-run UMAP\n",
    "X_umap_bal = reducer.fit_transform(X_balanced)"
   ]
  },
  {
   "cell_type": "code",
   "execution_count": null,
   "id": "797f3175",
   "metadata": {},
   "outputs": [
    {
     "name": "stderr",
     "output_type": "stream",
     "text": [
      "/opt/anaconda3/lib/python3.12/site-packages/umap/umap_.py:1952: UserWarning: n_jobs value 1 overridden to 1 by setting random_state. Use no seed for parallelism.\n",
      "  warn(\n"
     ]
    }
   ],
   "source": [
    "# Supervised UMAP\n",
    "reducer = umap.UMAP(n_components=2, random_state=42, target_metric='categorical')\n",
    "X_umap_supervised = reducer.fit_transform(X_balanced, y_balanced)"
   ]
  },
  {
   "cell_type": "code",
   "execution_count": 19,
   "id": "aeadd5c5",
   "metadata": {},
   "outputs": [
    {
     "data": {
      "image/png": "[encoded data removed]",
      "text/plain": [
       "<Figure size 640x480 with 2 Axes>"
      ]
     },
     "metadata": {},
     "output_type": "display_data"
    }
   ],
   "source": [
    "# Visualize 2D UMAP\n",
    "import matplotlib.pyplot as plt\n",
    "plt.scatter(X_umap_supervised[:, 0], X_umap_supervised[:, 1], c=y_balanced, cmap=\"viridis\", s=2)\n",
    "plt.title(\"UMAP of Fused Features\")\n",
    "plt.colorbar()\n",
    "plt.show()"
   ]
  },
  {
   "cell_type": "code",
   "execution_count": 8,
   "id": "d6074a65",
   "metadata": {},
   "outputs": [
    {
     "name": "stdout",
     "output_type": "stream",
     "text": [
      " Saved: train_axial_features_and_labels_only_monai.csv\n"
     ]
    }
   ],
   "source": [
    "# Load the .npy files\n",
    "import pandas as pd\n",
    "features = np.load(\"X_train_reduced_monai.npy\")       \n",
    "labels = np.load(\"train_labels_axial_monai.npy\")           \n",
    "\n",
    "# Combine features and labels\n",
    "combined = np.hstack((features, labels.reshape(-1, 1)))  \n",
    "\n",
    "# Create a DataFrame\n",
    "df = pd.DataFrame(combined)\n",
    "\n",
    "# Optionally name columns\n",
    "\n",
    "feature_columns = [f\"f{i}\" for i in range(features.shape[1])]\n",
    "df.columns = feature_columns + [\"label\"]\n",
    "\n",
    "# Save to CSV\n",
    "df.to_csv(\"train_axial_features_and_labels_only_monai.csv\", index=False)\n",
    "\n",
    "print(\" Saved: train_axial_features_and_labels_only_monai.csv\")\n"
   ]
  },
  {
   "cell_type": "markdown",
   "id": "a555839c",
   "metadata": {},
   "source": [
    "same process for validation set"
   ]
  },
  {
   "cell_type": "code",
   "execution_count": 9,
   "id": "5bab0f0b",
   "metadata": {},
   "outputs": [
    {
     "name": "stdout",
     "output_type": "stream",
     "text": [
      " Saved: val_axial_features_and_labels_only_monai.csv\n"
     ]
    }
   ],
   "source": [
    "# Load the .npy files\n",
    "features = np.load(\"X_val_reduced_monai.npy\")       # Shape: (84755, 256)\n",
    "labels = np.load(\"val_labels_axial_monai.npy\")           # Shape: (84755,)\n",
    "\n",
    "# Combine features and labels\n",
    "combined = np.hstack((features, labels.reshape(-1, 1)))  # Shape: (84755, 257)\n",
    "\n",
    "# Create a DataFrame\n",
    "df = pd.DataFrame(combined)\n",
    "\n",
    "# Optionally name columns\n",
    "feature_columns = [f\"f{i}\" for i in range(features.shape[1])]\n",
    "df.columns = feature_columns + [\"label\"]\n",
    "\n",
    "# Save to CSV\n",
    "df.to_csv(\"val_axial_features_and_labels_only_monai.csv\", index=False)\n",
    "\n",
    "print(\" Saved: val_axial_features_and_labels_only_monai.csv\")\n"
   ]
  },
  {
   "cell_type": "code",
   "execution_count": 7,
   "id": "f4d363cf",
   "metadata": {},
   "outputs": [
    {
     "name": "stdout",
     "output_type": "stream",
     "text": [
      "(2294, 51)\n"
     ]
    },
    {
     "data": {
      "text/html": [
       "<div>\n",
       "<style scoped>\n",
       "    .dataframe tbody tr th:only-of-type {\n",
       "        vertical-align: middle;\n",
       "    }\n",
       "\n",
       "    .dataframe tbody tr th {\n",
       "        vertical-align: top;\n",
       "    }\n",
       "\n",
       "    .dataframe thead th {\n",
       "        text-align: right;\n",
       "    }\n",
       "</style>\n",
       "<table border=\"1\" class=\"dataframe\">\n",
       "  <thead>\n",
       "    <tr style=\"text-align: right;\">\n",
       "      <th></th>\n",
       "      <th>Image Data ID</th>\n",
       "      <th>Subject</th>\n",
       "      <th>Group</th>\n",
       "      <th>Sex</th>\n",
       "      <th>Age</th>\n",
       "      <th>Visit</th>\n",
       "      <th>Modality</th>\n",
       "      <th>Description</th>\n",
       "      <th>Type</th>\n",
       "      <th>Acq Date</th>\n",
       "      <th>...</th>\n",
       "      <th>AXCRYING</th>\n",
       "      <th>AXELMOOD</th>\n",
       "      <th>AXWANDER</th>\n",
       "      <th>AXFALL</th>\n",
       "      <th>AXOTHER</th>\n",
       "      <th>ID</th>\n",
       "      <th>SITEID</th>\n",
       "      <th>USERDATE</th>\n",
       "      <th>USERDATE2</th>\n",
       "      <th>update_stamp</th>\n",
       "    </tr>\n",
       "  </thead>\n",
       "  <tbody>\n",
       "    <tr>\n",
       "      <th>0</th>\n",
       "      <td>I112538</td>\n",
       "      <td>941_S_1311</td>\n",
       "      <td>MCI</td>\n",
       "      <td>M</td>\n",
       "      <td>70</td>\n",
       "      <td>m12</td>\n",
       "      <td>MRI</td>\n",
       "      <td>MPR; GradWarp; B1 Correction; N3; Scaled</td>\n",
       "      <td>Processed</td>\n",
       "      <td>6/1/2008</td>\n",
       "      <td>...</td>\n",
       "      <td>1.0</td>\n",
       "      <td>1.0</td>\n",
       "      <td>1.0</td>\n",
       "      <td>1.0</td>\n",
       "      <td>1.0</td>\n",
       "      <td>4150.0</td>\n",
       "      <td>127.0</td>\n",
       "      <td>5/5/2008</td>\n",
       "      <td>NaN</td>\n",
       "      <td>00:00.0</td>\n",
       "    </tr>\n",
       "    <tr>\n",
       "      <th>1</th>\n",
       "      <td>I97341</td>\n",
       "      <td>941_S_1311</td>\n",
       "      <td>MCI</td>\n",
       "      <td>M</td>\n",
       "      <td>70</td>\n",
       "      <td>m06</td>\n",
       "      <td>MRI</td>\n",
       "      <td>MPR-R; GradWarp; B1 Correction; N3; Scaled</td>\n",
       "      <td>Processed</td>\n",
       "      <td>9/27/2007</td>\n",
       "      <td>...</td>\n",
       "      <td>1.0</td>\n",
       "      <td>1.0</td>\n",
       "      <td>1.0</td>\n",
       "      <td>1.0</td>\n",
       "      <td>2.0</td>\n",
       "      <td>2370.0</td>\n",
       "      <td>127.0</td>\n",
       "      <td>9/18/2007</td>\n",
       "      <td>NaN</td>\n",
       "      <td>00:00.0</td>\n",
       "    </tr>\n",
       "    <tr>\n",
       "      <th>2</th>\n",
       "      <td>I97327</td>\n",
       "      <td>941_S_1311</td>\n",
       "      <td>MCI</td>\n",
       "      <td>M</td>\n",
       "      <td>69</td>\n",
       "      <td>sc</td>\n",
       "      <td>MRI</td>\n",
       "      <td>MPR; GradWarp; B1 Correction; N3; Scaled</td>\n",
       "      <td>Processed</td>\n",
       "      <td>3/2/2007</td>\n",
       "      <td>...</td>\n",
       "      <td>NaN</td>\n",
       "      <td>NaN</td>\n",
       "      <td>NaN</td>\n",
       "      <td>NaN</td>\n",
       "      <td>NaN</td>\n",
       "      <td>NaN</td>\n",
       "      <td>NaN</td>\n",
       "      <td>NaN</td>\n",
       "      <td>NaN</td>\n",
       "      <td>NaN</td>\n",
       "    </tr>\n",
       "    <tr>\n",
       "      <th>3</th>\n",
       "      <td>I63874</td>\n",
       "      <td>941_S_1202</td>\n",
       "      <td>CN</td>\n",
       "      <td>M</td>\n",
       "      <td>78</td>\n",
       "      <td>sc</td>\n",
       "      <td>MRI</td>\n",
       "      <td>MPR-R; GradWarp; B1 Correction; N3; Scaled</td>\n",
       "      <td>Processed</td>\n",
       "      <td>1/30/2007</td>\n",
       "      <td>...</td>\n",
       "      <td>NaN</td>\n",
       "      <td>NaN</td>\n",
       "      <td>NaN</td>\n",
       "      <td>NaN</td>\n",
       "      <td>NaN</td>\n",
       "      <td>NaN</td>\n",
       "      <td>NaN</td>\n",
       "      <td>NaN</td>\n",
       "      <td>NaN</td>\n",
       "      <td>NaN</td>\n",
       "    </tr>\n",
       "    <tr>\n",
       "      <th>4</th>\n",
       "      <td>I75150</td>\n",
       "      <td>941_S_1202</td>\n",
       "      <td>CN</td>\n",
       "      <td>M</td>\n",
       "      <td>78</td>\n",
       "      <td>m06</td>\n",
       "      <td>MRI</td>\n",
       "      <td>MPR; GradWarp; B1 Correction; N3; Scaled</td>\n",
       "      <td>Processed</td>\n",
       "      <td>8/24/2007</td>\n",
       "      <td>...</td>\n",
       "      <td>1.0</td>\n",
       "      <td>1.0</td>\n",
       "      <td>1.0</td>\n",
       "      <td>2.0</td>\n",
       "      <td>1.0</td>\n",
       "      <td>2110.0</td>\n",
       "      <td>127.0</td>\n",
       "      <td>8/15/2007</td>\n",
       "      <td>NaN</td>\n",
       "      <td>00:00.0</td>\n",
       "    </tr>\n",
       "  </tbody>\n",
       "</table>\n",
       "<p>5 rows × 51 columns</p>\n",
       "</div>"
      ],
      "text/plain": [
       "  Image Data ID     Subject Group Sex  Age Visit Modality  \\\n",
       "0       I112538  941_S_1311   MCI   M   70   m12      MRI   \n",
       "1        I97341  941_S_1311   MCI   M   70   m06      MRI   \n",
       "2        I97327  941_S_1311   MCI   M   69    sc      MRI   \n",
       "3        I63874  941_S_1202    CN   M   78    sc      MRI   \n",
       "4        I75150  941_S_1202    CN   M   78   m06      MRI   \n",
       "\n",
       "                                  Description       Type   Acq Date  ...  \\\n",
       "0    MPR; GradWarp; B1 Correction; N3; Scaled  Processed   6/1/2008  ...   \n",
       "1  MPR-R; GradWarp; B1 Correction; N3; Scaled  Processed  9/27/2007  ...   \n",
       "2    MPR; GradWarp; B1 Correction; N3; Scaled  Processed   3/2/2007  ...   \n",
       "3  MPR-R; GradWarp; B1 Correction; N3; Scaled  Processed  1/30/2007  ...   \n",
       "4    MPR; GradWarp; B1 Correction; N3; Scaled  Processed  8/24/2007  ...   \n",
       "\n",
       "  AXCRYING AXELMOOD AXWANDER AXFALL  AXOTHER      ID SITEID   USERDATE  \\\n",
       "0      1.0      1.0      1.0    1.0      1.0  4150.0  127.0   5/5/2008   \n",
       "1      1.0      1.0      1.0    1.0      2.0  2370.0  127.0  9/18/2007   \n",
       "2      NaN      NaN      NaN    NaN      NaN     NaN    NaN        NaN   \n",
       "3      NaN      NaN      NaN    NaN      NaN     NaN    NaN        NaN   \n",
       "4      1.0      1.0      1.0    2.0      1.0  2110.0  127.0  8/15/2007   \n",
       "\n",
       "   USERDATE2  update_stamp  \n",
       "0        NaN       00:00.0  \n",
       "1        NaN       00:00.0  \n",
       "2        NaN           NaN  \n",
       "3        NaN           NaN  \n",
       "4        NaN       00:00.0  \n",
       "\n",
       "[5 rows x 51 columns]"
      ]
     },
     "execution_count": 7,
     "metadata": {},
     "output_type": "execute_result"
    }
   ],
   "source": [
    "# for text embeddings\n",
    "import pandas as pd\n",
    "\n",
    "# Load your file\n",
    "df = pd.read_csv(\"/Users/fatimatuzzahra/Downloads/ADNI1_Merged_AllImages.csv\")\n",
    "\n",
    "# Preview the first few rows\n",
    "print(df.shape)\n",
    "df.head()\n"
   ]
  },
  {
   "cell_type": "code",
   "execution_count": 13,
   "id": "4af21829",
   "metadata": {},
   "outputs": [],
   "source": [
    "import pandas as pd\n",
    "\n",
    "# Remove label \n",
    "df_cleaned = df.drop(columns=[\"Group\", \"Downloaded\", \"Modality\", \"Type\", \"Format\"])\n",
    "\n",
    "# Keep Image ID separately for future mapping\n",
    "image_ids = df_cleaned[\"Image Data ID\"].values\n",
    "\n",
    "# Drop ID from the text encoding input\n",
    "text_only = df_cleaned.drop(columns=[\"Image Data ID\"])\n",
    "\n",
    "# Convert each row to string and generate sentence embeddings\n",
    "texts = text_only.astype(str).agg(\" \".join, axis=1).tolist()\n",
    "texts = [t.lower().strip() for t in texts]\n",
    "\n",
    "# Tokenize all text using CLIP\n",
    "text_tokens = clip.tokenize(texts, truncate=True).to(device)\n",
    "\n",
    "# Generate text embeddings\n",
    "with torch.no_grad():\n",
    "    text_embeddings = model.encode_text(text_tokens).cpu().numpy()  # shape: (n_samples, 512)\n",
    "# Save with Image IDs\n",
    "import numpy as np\n",
    "np.save(\"text_embeddings_cleaned.npy\", text_embeddings)\n",
    "np.save(\"text_image_ids.npy\", image_ids)\n"
   ]
  },
  {
   "cell_type": "code",
   "execution_count": 14,
   "id": "44817dcc",
   "metadata": {},
   "outputs": [
    {
     "name": "stdout",
     "output_type": "stream",
     "text": [
      " Saved: text_embeddings_cleaned_with_ids_monai.csv\n",
      " Shape: (2294, 513)\n"
     ]
    }
   ],
   "source": [
    "import numpy as np\n",
    "import pandas as pd\n",
    "\n",
    "# Load the cleaned text embeddings and associated image IDs\n",
    "text_embeddings = np.load(\"text_embeddings_cleaned.npy\")           # shape: (2294, 384)\n",
    "text_image_ids = np.load(\"text_image_ids.npy\", allow_pickle=True)  # shape: (2294,)\n",
    "\n",
    "# Convert to DataFrame and add IDs as the first column\n",
    "df = pd.DataFrame(text_embeddings)\n",
    "df.insert(0, \"Image_ID\", text_image_ids)\n",
    "\n",
    "# Save to CSV\n",
    "df.to_csv(\"text_embeddings_cleaned_with_ids_monai.csv\", index=False)\n",
    "\n",
    "print(\" Saved: text_embeddings_cleaned_with_ids_monai.csv\")\n",
    "print(\" Shape:\", df.shape)\n"
   ]
  },
  {
   "cell_type": "code",
   "execution_count": null,
   "id": "bcbd2b46",
   "metadata": {},
   "outputs": [],
   "source": [
    "image_features = np.load(\"X_train_reduced_monai.npy\")  \n",
    "print(image_features.shape)"
   ]
  },
  {
   "cell_type": "code",
   "execution_count": 21,
   "id": "d29d59e9",
   "metadata": {},
   "outputs": [
    {
     "name": "stderr",
     "output_type": "stream",
     "text": [
      "100%|██████████| 169650/169650 [00:00<00:00, 442467.39it/s]\n"
     ]
    },
    {
     "name": "stdout",
     "output_type": "stream",
     "text": [
      " Matched samples: 169650\n",
      " Final train fused shape: (169650, 542)\n",
      " Labels shape: (169650,)\n"
     ]
    }
   ],
   "source": [
    "import numpy as np\n",
    "from tqdm import tqdm\n",
    "import os\n",
    "\n",
    "# Load image feature data\n",
    "image_features = np.load(\"X_train_reduced_monai.npy\")      \n",
    "image_labels = np.load(\"train_labels_axial_monai.npy\")     \n",
    "image_paths = np.load(\"train_image_paths_axial.npy\")      \n",
    "\n",
    "# Load cleaned textual embeddings and IDs\n",
    "textual_embeddings = np.load(\"text_embeddings_cleaned.npy\")   # (2294, 384)\n",
    "text_ids = np.load(\"text_image_ids.npy\", allow_pickle=True)      # (2294,)\n",
    "\n",
    "# Step 1: Build a lookup from Image ID → text embedding\n",
    "text_lookup = {id_: emb for id_, emb in zip(text_ids, textual_embeddings)}\n",
    "\n",
    "# Step 2: Match each image with its text embedding (based on ID prefix)\n",
    "fused_features = []\n",
    "fused_labels = []\n",
    "matched_count = 0\n",
    "\n",
    "for i, (img_feat, label, path) in enumerate(tqdm(zip(image_features, image_labels, image_paths), total=len(image_paths))):\n",
    "    filename = os.path.basename(path)  # e.g., 'I31143_AD_axial_55.png'\n",
    "    img_id = filename.split('_')[0]             # 'I31143'\n",
    "\n",
    "    if img_id in text_lookup:\n",
    "        text_feat = text_lookup[img_id]\n",
    "        fused = np.concatenate([img_feat, text_feat])  # shape (640,)\n",
    "        fused_features.append(fused)\n",
    "        fused_labels.append(label)\n",
    "        matched_count += 1\n",
    "\n",
    "print(f\" Matched samples: {matched_count}\")\n",
    "\n",
    "# Convert to arrays and save\n",
    "fused_features = np.array(fused_features)\n",
    "fused_labels = np.array(fused_labels)\n",
    "\n",
    "np.save(\"train_fused_features_clean_monai.npy\", fused_features)\n",
    "np.save(\"train_fused_labels_clean_monai.npy\", fused_labels)\n",
    "\n",
    "print(\" Final train fused shape:\", fused_features.shape)\n",
    "print(\" Labels shape:\", fused_labels.shape)\n"
   ]
  },
  {
   "cell_type": "markdown",
   "id": "235ec044",
   "metadata": {},
   "source": [
    "fusion for the validation set is done below"
   ]
  },
  {
   "cell_type": "code",
   "execution_count": 23,
   "id": "0259cb92",
   "metadata": {},
   "outputs": [
    {
     "name": "stderr",
     "output_type": "stream",
     "text": [
      "100%|██████████| 8415/8415 [00:00<00:00, 224616.21it/s]"
     ]
    },
    {
     "name": "stdout",
     "output_type": "stream",
     "text": [
      " Matched samples: 8415\n",
      " Final val fused shape: (8415, 542)\n",
      " Labels shape: (8415,)\n"
     ]
    },
    {
     "name": "stderr",
     "output_type": "stream",
     "text": [
      "\n"
     ]
    }
   ],
   "source": [
    "import numpy as np\n",
    "from tqdm import tqdm\n",
    "import os\n",
    "\n",
    "# Load image feature data\n",
    "image_features = np.load(\"X_val_reduced_monai.npy\")       # (84755, 256)\n",
    "image_labels = np.load(\"val_labels_axial_monai.npy\")           # (84755,)\n",
    "image_paths = np.load(\"val_image_paths_axial.npy\")       # (84755,)\n",
    "\n",
    "# Load cleaned textual embeddings and IDs\n",
    "textual_embeddings = np.load(\"text_embeddings_cleaned.npy\")   # (2294, 384)\n",
    "text_ids = np.load(\"text_image_ids.npy\", allow_pickle=True)      # (2294,)\n",
    "\n",
    "# Step 1: Build a lookup from Image ID → text embedding\n",
    "text_lookup = {id_: emb for id_, emb in zip(text_ids, textual_embeddings)}\n",
    "\n",
    "# Step 2: Match each image with its text embedding (based on ID prefix)\n",
    "fused_features = []\n",
    "fused_labels = []\n",
    "matched_count = 0\n",
    "\n",
    "for i, (img_feat, label, path) in enumerate(tqdm(zip(image_features, image_labels, image_paths), total=len(image_paths))):\n",
    "    filename = os.path.basename(path)  # e.g., 'I31143_AD_axial_55.png'\n",
    "    img_id = filename.split('_')[0]             # 'I31143'\n",
    "\n",
    "    if img_id in text_lookup:\n",
    "        text_feat = text_lookup[img_id]\n",
    "        fused = np.concatenate([img_feat, text_feat])  # shape (640,)\n",
    "        fused_features.append(fused)\n",
    "        fused_labels.append(label)\n",
    "        matched_count += 1\n",
    "\n",
    "print(f\" Matched samples: {matched_count}\")\n",
    "\n",
    "# Convert to arrays and save\n",
    "fused_features = np.array(fused_features)\n",
    "fused_labels = np.array(fused_labels)\n",
    "\n",
    "np.save(\"val_fused_features_clean_monai.npy\", fused_features)\n",
    "np.save(\"val_fused_labels_clean_monai.npy\", fused_labels)\n",
    "\n",
    "print(\" Final val fused shape:\", fused_features.shape)\n",
    "print(\" Labels shape:\", fused_labels.shape)\n"
   ]
  },
  {
   "cell_type": "code",
   "execution_count": 24,
   "id": "48d4d7a4",
   "metadata": {},
   "outputs": [
    {
     "name": "stdout",
     "output_type": "stream",
     "text": [
      " Saved: train_fused_embeddings_with_labels_monai.csv\n"
     ]
    }
   ],
   "source": [
    "import numpy as np\n",
    "import pandas as pd\n",
    "\n",
    "# Load\n",
    "X = np.load(\"train_fused_features_clean_monai.npy\")\n",
    "y = np.load(\"train_fused_labels_clean_monai.npy\")\n",
    "\n",
    "# Combine into DataFrame\n",
    "df = pd.DataFrame(X)\n",
    "df[\"label\"] = y\n",
    "\n",
    "# Save to CSV\n",
    "df.to_csv(\"train_fused_embeddings_with_labels_monai.csv\", index=False)\n",
    "print(\" Saved: train_fused_embeddings_with_labels_monai.csv\")\n"
   ]
  },
  {
   "cell_type": "markdown",
   "id": "2ee22e49",
   "metadata": {},
   "source": [
    "savinf into csv the validation fused sets"
   ]
  },
  {
   "cell_type": "code",
   "execution_count": null,
   "id": "d9a26a8b",
   "metadata": {},
   "outputs": [
    {
     "name": "stdout",
     "output_type": "stream",
     "text": [
      " Saved: val_fused_embeddings_with_labels_monai.csv\n"
     ]
    }
   ],
   "source": [
    "import numpy as np\n",
    "import pandas as pd\n",
    "\n",
    "# Load\n",
    "X = np.load(\"val_fused_features_clean_monai.npy\")\n",
    "y = np.load(\"val_fused_labels_clean_monai.npy\")\n",
    "\n",
    "# Combine into DataFrame\n",
    "df = pd.DataFrame(X)\n",
    "df[\"label\"] = y\n",
    "\n",
    "# Save to CSV\n",
    "df.to_csv(\"val_fused_embeddings_with_labels_monai.csv\", index=False)\n",
    "print(\" Saved: val_fused_embeddings_with_labels_monai.csv\")\n"
   ]
  },
  {
   "cell_type": "code",
   "execution_count": 30,
   "id": "4b85573d",
   "metadata": {},
   "outputs": [
    {
     "name": "stdout",
     "output_type": "stream",
     "text": [
      "(8415,)\n"
     ]
    }
   ],
   "source": [
    "print(y.shape)"
   ]
  },
  {
   "cell_type": "markdown",
   "id": "33e52c97",
   "metadata": {},
   "source": [
    "saving image and textual data separately for training dataset"
   ]
  },
  {
   "cell_type": "code",
   "execution_count": 26,
   "id": "faf7279c",
   "metadata": {},
   "outputs": [
    {
     "name": "stdout",
     "output_type": "stream",
     "text": [
      " Saved:\n",
      "  train_image_features_only_monai.npy (shape: (169650, 256) )\n",
      "  train_text_features_only_monai.npy  (shape: (169650, 286) )\n"
     ]
    }
   ],
   "source": [
    "import numpy as np\n",
    "\n",
    "# Load fused embeddings\n",
    "fused = np.load(\"train_fused_features_clean_monai.npy\")  # (84755, 640)\n",
    "\n",
    "# Split features\n",
    "image_features = fused[:, :256]   # CNN-based\n",
    "text_features  = fused[:, 256:]   # Sentence-transformer-based\n",
    "\n",
    "# Save separately\n",
    "np.save(\"train_image_features_only_monai.npy\", image_features)\n",
    "np.save(\"train_text_features_only_monai.npy\", text_features)\n",
    "\n",
    "print(\" Saved:\")\n",
    "print(\"  train_image_features_only_monai.npy (shape:\", image_features.shape, \")\")\n",
    "print(\"  train_text_features_only_monai.npy  (shape:\", text_features.shape, \")\")\n"
   ]
  },
  {
   "cell_type": "markdown",
   "id": "35e01d91",
   "metadata": {},
   "source": [
    "saving image and textual data separately for validation dataset"
   ]
  },
  {
   "cell_type": "code",
   "execution_count": 27,
   "id": "a537a856",
   "metadata": {},
   "outputs": [
    {
     "name": "stdout",
     "output_type": "stream",
     "text": [
      " Saved:\n",
      "  val_image_features_only_monai.npy (shape: (8415, 256) )\n",
      "  val_text_features_only_monai.npy  (shape: (8415, 286) )\n"
     ]
    }
   ],
   "source": [
    "import numpy as np\n",
    "\n",
    "# Load fused embeddings\n",
    "fused = np.load(\"val_fused_features_clean_monai.npy\")  # (84755, 640)\n",
    "\n",
    "# Split features\n",
    "image_features = fused[:, :256]   # CNN-based\n",
    "text_features  = fused[:, 256:]   # Sentence-transformer-based\n",
    "\n",
    "# Save separately\n",
    "np.save(\"val_image_features_only_monai.npy\", image_features)\n",
    "np.save(\"val_text_features_only_monai.npy\", text_features)\n",
    "\n",
    "print(\" Saved:\")\n",
    "print(\"  val_image_features_only_monai.npy (shape:\", image_features.shape, \")\")\n",
    "print(\"  val_text_features_only_monai.npy  (shape:\", text_features.shape, \")\")\n"
   ]
  },
  {
   "cell_type": "code",
   "execution_count": 29,
   "id": "1d327bf4",
   "metadata": {},
   "outputs": [
    {
     "name": "stdout",
     "output_type": "stream",
     "text": [
      "{0: 3740, 1: 4675}\n"
     ]
    }
   ],
   "source": [
    "unique, counts = np.unique(y, return_counts=True)\n",
    "print(dict(zip(unique, counts)))"
   ]
  },
  {
   "cell_type": "code",
   "execution_count": null,
   "id": "5337d2ab",
   "metadata": {},
   "outputs": [],
   "source": [
    "import torch.nn as nn\n",
    "\n",
    "class MLPWithDropout(nn.Module):\n",
    "    def __init__(self):\n",
    "        super(MLPWithDropout, self).__init__()\n",
    "        self.net = nn.Sequential(\n",
    "            nn.Linear(1024, 512),   # input size must match your fused feature size (e.g., 1024 if CLIP image+text)\n",
    "            nn.ReLU(),\n",
    "            nn.Dropout(0.4),\n",
    "            nn.Linear(512, 256),\n",
    "            nn.ReLU(),\n",
    "            nn.Dropout(0.3),\n",
    "            nn.Linear(256, 3)       # 3 output classes (AD, CN, MCI)\n",
    "        )\n",
    "\n",
    "    def forward(self, x):\n",
    "        return self.net(x)"
   ]
  },
  {
   "cell_type": "code",
   "execution_count": null,
   "id": "f7803cb1",
   "metadata": {},
   "outputs": [],
   "source": [
    "from sklearn.metrics import accuracy_score, classification_report, confusion_matrix\n",
    "import matplotlib.pyplot as plt\n",
    "import numpy as np\n",
    "import seaborn as sns\n",
    "from imblearn.over_sampling import RandomOverSampler\n",
    "from sklearn.ensemble import RandomForestClassifier\n",
    "from xgboost import XGBClassifier\n",
    "import torch.nn as nn\n",
    "from sklearn.utils.class_weight import compute_sample_weight\n",
    "from imblearn.over_sampling import SMOTE\n",
    "import torch \n",
    "from torch.utils.data import DataLoader, TensorDataset\n",
    "from sklearn.preprocessing import StandardScaler\n",
    "\n",
    "# Load data\n",
    "X_train = np.load(\"train_fused_features_clean.npy\")\n",
    "y_train = np.load(\"train_fused_labels_clean.npy\")\n",
    "X_val = np.load(\"val_fused_features_clean.npy\")\n",
    "y_val = np.load(\"val_fused_labels_clean.npy\")\n",
    "\n",
    "# Optional: if your MLP has 1024 input, pad image/text features accordingly\n",
    "# assert X_train.shape[1] == 1024\n",
    "\n",
    "# Scale inputs\n",
    "scaler = StandardScaler()\n",
    "X_train = scaler.fit_transform(X_train)\n",
    "X_val = scaler.transform(X_val)\n",
    "\n",
    "sm = SMOTE(random_state=42)\n",
    "X_train_bal, y_train_bal = sm.fit_resample(X_train, y_train)\n",
    "\n",
    "# Convert to PyTorch tensors\n",
    "X_train_tensor = torch.tensor(X_train_bal, dtype=torch.float32)\n",
    "y_train_tensor = torch.tensor(y_train_bal, dtype=torch.long)\n",
    "X_val_tensor = torch.tensor(X_val, dtype=torch.float32)\n",
    "y_val_tensor = torch.tensor(y_val, dtype=torch.long)\n",
    "\n",
    "# Create datasets and dataloaders\n",
    "train_dataset = TensorDataset(X_train_tensor, y_train_tensor)\n",
    "val_dataset = TensorDataset(X_val_tensor, y_val_tensor)\n",
    "\n",
    "train_loader = DataLoader(train_dataset, batch_size=128, shuffle=True)\n",
    "val_loader = DataLoader(val_dataset, batch_size=128)\n",
    "\n",
    "\n",
    "\n",
    "model = MLPWithDropout().to(\"cuda\" if torch.cuda.is_available() else \"cpu\")\n",
    "criterion = nn.CrossEntropyLoss()\n",
    "optimizer = torch.optim.Adam(model.parameters(), lr=1e-4)\n",
    "\n",
    "num_epochs = 10\n",
    "device = \"cuda\" if torch.cuda.is_available() else \"cpu\"\n",
    "\n",
    "\n",
    "for epoch in range(num_epochs):\n",
    "    model.train()\n",
    "    total_loss = 0\n",
    "\n",
    "    for xb, yb in train_loader:\n",
    "        xb, yb = xb.to(device), yb.to(device)\n",
    "        optimizer.zero_grad()\n",
    "        preds = model(xb)\n",
    "        loss = criterion(preds, yb)\n",
    "        loss.backward()\n",
    "        optimizer.step()\n",
    "        total_loss += loss.item()\n",
    "\n",
    "    print(f\"Epoch {epoch+1}/{num_epochs}, Loss: {total_loss/len(train_loader):.4f}\")\n",
    "\n",
    "# ros = RandomOverSampler(random_state=42)\n",
    "# X_train_resampled, y_train_resampled = ros.fit_resample(X_train, y_train)\n",
    "import gc\n",
    "gc.collect()\n",
    "torch.cuda.empty_cache()\n",
    "\n",
    "# 🔹 Evaluate on Training Set\n",
    "model.eval()\n",
    "y_train_preds = []\n",
    "y_train_true = []\n",
    "\n",
    "with torch.no_grad():\n",
    "    for xb, yb in train_loader:\n",
    "        xb = xb.to(device)\n",
    "        out = model(xb)\n",
    "        preds = torch.argmax(out, dim=1)\n",
    "        y_train_preds.extend(preds.cpu().numpy())\n",
    "        y_train_true.extend(yb.numpy())\n",
    "\n",
    "# Training Metrics\n",
    "train_acc = accuracy_score(y_train_true, y_train_preds)\n",
    "print(f\"📊 Training Accuracy: {train_acc:.4f}\")\n",
    "\n",
    "# 🔹 Evaluate on Validation Set\n",
    "model.eval()\n",
    "y_val_preds = []\n",
    "y_val_true = []\n",
    "\n",
    "with torch.no_grad():\n",
    "    for xb, yb in val_loader:\n",
    "        xb = xb.to(device)\n",
    "        out = model(xb)\n",
    "        preds = torch.argmax(out, dim=1)\n",
    "        y_val_preds.extend(preds.cpu().numpy())\n",
    "        y_val_true.extend(yb.numpy())\n",
    "\n",
    "# Metrics\n",
    "val_acc = accuracy_score(y_val_true, y_val_preds)\n",
    "print(f\"✅ Validation Accuracy: {val_acc:.4f}\")\n",
    "print(\"Classification Report:\\n\", classification_report(y_val_true, y_val_preds, target_names=[\"AD\", \"CN\", \"MCI\"]))\n",
    "\n",
    "# Confusion Matrix\n",
    "cm = confusion_matrix(y_val_true, y_val_preds)\n",
    "plt.figure(figsize=(6, 5))\n",
    "sns.heatmap(cm, annot=True, fmt=\"d\", cmap=\"Purples\", xticklabels=[\"AD\", \"CN\", \"MCI\"], yticklabels=[\"AD\", \"CN\", \"MCI\"])\n",
    "plt.xlabel(\"Predicted\")\n",
    "plt.ylabel(\"True\")\n",
    "plt.title(\"Confusion Matrix - MLP (Validation Set)\")\n",
    "plt.tight_layout()\n",
    "plt.show()"
   ]
  },
  {
   "cell_type": "code",
   "execution_count": null,
   "id": "844c6eed",
   "metadata": {},
   "outputs": [],
   "source": [
    "from sklearn.metrics import classification_report, accuracy_score\n",
    "\n",
    "# Assuming y_test and y_pred are already defined from your previous evaluation\n",
    "\n",
    "# Define class labels (you can update these if your label encoding is different)\n",
    "class_names = ['AD', 'CN', 'MCI']\n",
    "\n",
    "# Accuracy\n",
    "accuracy = accuracy_score(y_val_true, y_val_preds)\n",
    "print(f\"\\n Accuracy: {accuracy:.4f}\")\n",
    "\n",
    "# Precision, Recall, F1-score\n",
    "print(\"\\n Classification Report:\")\n",
    "print(classification_report(y_val_true, y_val_preds, target_names=class_names))\n"
   ]
  },
  {
   "cell_type": "code",
   "execution_count": null,
   "id": "78bceadf",
   "metadata": {},
   "outputs": [],
   "source": []
  }
 ],
 "metadata": {
  "kernelspec": {
   "display_name": "base",
   "language": "python",
   "name": "python3"
  },
  "language_info": {
   "codemirror_mode": {
    "name": "ipython",
    "version": 3
   },
   "file_extension": ".py",
   "mimetype": "text/x-python",
   "name": "python",
   "nbconvert_exporter": "python",
   "pygments_lexer": "ipython3",
   "version": "3.12.4"
  }
 },
 "nbformat": 4,
 "nbformat_minor": 5
}
