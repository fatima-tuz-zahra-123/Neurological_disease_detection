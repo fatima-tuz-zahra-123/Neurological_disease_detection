{
 "cells": [
  {
   "cell_type": "code",
   "execution_count": 102,
   "id": "15af0bb1",
   "metadata": {},
   "outputs": [
    {
     "name": "stdout",
     "output_type": "stream",
     "text": [
      "Total images in testing folder: 840\n"
     ]
    }
   ],
   "source": [
    "import os\n",
    "total_images = 0\n",
    "base_dir = r\"/Users/fatimatuzzahra/Downloads/ADNI_coronal_sorted_5\"\n",
    "\n",
    "for root, dirs, files in os.walk(base_dir):\n",
    "    for file in files:\n",
    "        if file.lower().endswith('.png'):\n",
    "            total_images += 1\n",
    "\n",
    "print(\"Total images in testing folder:\", total_images)\n"
   ]
  },
  {
   "cell_type": "code",
   "execution_count": 103,
   "id": "1309767c",
   "metadata": {},
   "outputs": [],
   "source": [
    "import os\n",
    "import numpy as np\n",
    "import pandas as pd\n",
    "from tqdm import tqdm\n",
    "from PIL import Image\n",
    "import torch\n",
    "import clip\n",
    "from sklearn.model_selection import train_test_split\n",
    "from sklearn.preprocessing import StandardScaler\n",
    "from sklearn.metrics import accuracy_score, classification_report, confusion_matrix\n",
    "import matplotlib.pyplot as plt\n",
    "import seaborn as sns\n",
    "from torch import nn\n",
    "from torch.utils.data import DataLoader, TensorDataset"
   ]
  },
  {
   "cell_type": "code",
   "execution_count": 104,
   "id": "33933561",
   "metadata": {},
   "outputs": [
    {
     "name": "stdout",
     "output_type": "stream",
     "text": [
      "AD coronal images: 225\n",
      "CN coronal images: 300\n",
      "MCI coronal images: 315\n",
      "Total coronal images: 840\n"
     ]
    }
   ],
   "source": [
    "base_dir = r\"/Users/fatimatuzzahra/Downloads/ADNI_coronal_sorted_5\"\n",
    "class_names = ['AD', 'CN', 'MCI']\n",
    "total_images = 0\n",
    "\n",
    "for class_name in class_names:\n",
    "    path = os.path.join(base_dir, class_name)\n",
    "    if os.path.exists(path):\n",
    "        num_files = len([f for f in os.listdir(path) if f.lower().endswith('.png')])\n",
    "        print(f\"{class_name} coronal images: {num_files}\")\n",
    "        total_images += num_files\n",
    "    else:\n",
    "        print(f\" Path not found: {path}\")\n",
    "\n",
    "print(\"Total coronal images:\", total_images)\n"
   ]
  },
  {
   "cell_type": "code",
   "execution_count": 109,
   "id": "bc963fc8",
   "metadata": {},
   "outputs": [
    {
     "name": "stdout",
     "output_type": "stream",
     "text": [
      "Split complete (subject-wise):\n",
      "Train: 570, Val: 135, Test: 135\n",
      "Subjects - Train: 38, Val: 9, Test: 9\n",
      "Train class distribution:\n",
      "  AD: 150\n",
      "  CN: 210\n",
      "  MCI: 210\n",
      "Val class distribution:\n",
      "  AD: 30\n",
      "  CN: 45\n",
      "  MCI: 60\n",
      "Test class distribution:\n",
      "  AD: 45\n",
      "  CN: 45\n",
      "  MCI: 45\n"
     ]
    }
   ],
   "source": [
    "import os\n",
    "import numpy as np\n",
    "from sklearn.model_selection import train_test_split\n",
    "\n",
    "# ==== CONFIG ====\n",
    "base_dir = r\"/Users/fatimatuzzahra/Downloads/ADNI_coronal_sorted_5\"\n",
    "classes = ['AD', 'CN', 'MCI']\n",
    "test_size = 0.15\n",
    "val_size = 0.15\n",
    "random_state = 42\n",
    "\n",
    "# ==== COLLECT SUBJECTS & FILE PATHS ====\n",
    "subject_to_files = {}\n",
    "subject_to_label = {}\n",
    "\n",
    "for cls in classes:\n",
    "    class_dir = os.path.join(base_dir, cls)\n",
    "    if not os.path.exists(class_dir):\n",
    "        print(f\"Directory not found: {class_dir}\")\n",
    "        continue\n",
    "    for fname in os.listdir(class_dir):\n",
    "        if fname.lower().endswith(\".png\"):\n",
    "            # Extract subject ID (adjust split logic depending on filename pattern)\n",
    "            # Example: \"ADNI_12345_something.png\" → subject_id = \"12345\"\n",
    "            subject_id = fname.split(\"_\")[0]  # Change this depending on your naming\n",
    "\n",
    "            path = os.path.join(class_dir, fname)\n",
    "            subject_to_files.setdefault(subject_id, []).append(path)\n",
    "            subject_to_label[subject_id] = cls\n",
    "\n",
    "# Map class names to numeric labels\n",
    "label_map = {cls: idx for idx, cls in enumerate(classes)}\n",
    "subject_ids = list(subject_to_files.keys())\n",
    "subject_labels = [label_map[subject_to_label[sid]] for sid in subject_ids]\n",
    "\n",
    "# ==== SUBJECT-WISE SPLIT ====\n",
    "# Step 1: Train+Val vs Test\n",
    "sub_train_val, sub_test, y_train_val, y_test = train_test_split(\n",
    "    subject_ids, subject_labels,\n",
    "    test_size=test_size,\n",
    "    stratify=subject_labels,\n",
    "    random_state=random_state\n",
    ")\n",
    "\n",
    "# Step 2: Train vs Val\n",
    "val_relative_size = val_size / (1 - test_size)\n",
    "sub_train, sub_val, y_train, y_val = train_test_split(\n",
    "    sub_train_val, y_train_val,\n",
    "    test_size=val_relative_size,\n",
    "    stratify=y_train_val,\n",
    "    random_state=random_state\n",
    ")\n",
    "\n",
    "# ==== EXPAND SUBJECT SPLITS TO IMAGE LISTS ====\n",
    "def expand_subjects(sub_ids):\n",
    "    paths = []\n",
    "    labels = []\n",
    "    for sid in sub_ids:\n",
    "        paths.extend(subject_to_files[sid])\n",
    "        labels.extend([label_map[subject_to_label[sid]]] * len(subject_to_files[sid]))\n",
    "    return np.array(paths), np.array(labels)\n",
    "\n",
    "X_train, y_train = expand_subjects(sub_train)\n",
    "X_val, y_val = expand_subjects(sub_val)\n",
    "X_test, y_test = expand_subjects(sub_test)\n",
    "\n",
    "# ==== SAVE SPLITS ====\n",
    "np.save(\"train_paths.npy\", X_train)\n",
    "np.save(\"train_labels.npy\", y_train)\n",
    "np.save(\"val_paths.npy\", X_val)\n",
    "np.save(\"val_labels.npy\", y_val)\n",
    "np.save(\"test_paths.npy\", X_test)\n",
    "np.save(\"test_labels.npy\", y_test)\n",
    "\n",
    "# ==== PRINT RESULTS ====\n",
    "print(\"Split complete (subject-wise):\")\n",
    "print(f\"Train: {len(X_train)}, Val: {len(X_val)}, Test: {len(X_test)}\")\n",
    "print(f\"Subjects - Train: {len(sub_train)}, Val: {len(sub_val)}, Test: {len(sub_test)}\")\n",
    "\n",
    "# Per-class distribution for each split\n",
    "for split_name, labels in zip([\"Train\", \"Val\", \"Test\"], [y_train, y_val, y_test]):\n",
    "    counts = np.bincount(labels, minlength=len(classes))\n",
    "    print(f\"{split_name} class distribution:\")\n",
    "    for cls_name, count in zip(classes, counts):\n",
    "        print(f\"  {cls_name}: {count}\")"
   ]
  },
  {
   "cell_type": "code",
   "execution_count": 132,
   "id": "992716d1",
   "metadata": {},
   "outputs": [
    {
     "name": "stderr",
     "output_type": "stream",
     "text": [
      "Processing Train Images: 100%|██████████| 570/570 [00:12<00:00, 44.07it/s]"
     ]
    },
    {
     "name": "stdout",
     "output_type": "stream",
     "text": [
      " Features saved. Total processed: 570 (expected: 570)\n",
      " Skipped images: 0\n"
     ]
    },
    {
     "name": "stderr",
     "output_type": "stream",
     "text": [
      "\n"
     ]
    }
   ],
   "source": [
    "import os\n",
    "import numpy as np\n",
    "from tqdm import tqdm\n",
    "from PIL import Image\n",
    "from monai.transforms import ToTensor\n",
    "from tensorflow.keras.applications.efficientnet import EfficientNetB0, preprocess_input\n",
    "import torchvision.transforms as T\n",
    "from monai.networks.nets import DenseNet121\n",
    "from monai.transforms import Compose, LoadImage, Resize, ScaleIntensity, EnsureChannelFirst\n",
    "import torch\n",
    "\n",
    "# ===== Load training split =====\n",
    "train_paths = np.load(\"train_paths.npy\", allow_pickle=True)\n",
    "train_labels = np.load(\"train_labels.npy\", allow_pickle=True)\n",
    "\n",
    "# Extracting CLIP Image features\n",
    "device = torch.device(\"mps\" if torch.backends.mps.is_available() else \"cpu\")\n",
    "model, preprocess_clip = clip.load(\"ViT-B/32\", device=device)\n",
    "\n",
    "# Define your own compatible augmentations\n",
    "# augmenter = T.Compose([\n",
    "#     T.Resize(224),\n",
    "#     T.RandomHorizontalFlip(p=0.5),\n",
    "#     T.RandomRotation(10),\n",
    "#     T.GaussianBlur(kernel_size=3),\n",
    "#     T.ToTensor(),\n",
    "#     T.Normalize((0.48145466, 0.4578275, 0.40821073), (0.26862954, 0.26130258, 0.27577711))  # CLIP normalization\n",
    "# ])\n",
    "\n",
    "# EfficientNet base model\n",
    "# base_model = EfficientNetB0(weights='imagenet', include_top=False, input_shape=(224,224,3))\n",
    "# # Step 3: Build feature extractor model (outputs 256-dim feature vectors)\n",
    "# x = base_model.output\n",
    "# x = GlobalAveragePooling2D()(x)\n",
    "# x = Dropout(0.5)(x)\n",
    "# x = Dense(256, activation='relu')(x)\n",
    "# feature_extractor = Model(inputs=base_model.input, outputs=x)\n",
    "\n",
    "# MONAI DenseNet model (pretrained on ImageNet)\n",
    "# model = DenseNet121(spatial_dims=2, in_channels=3, out_channels=1000, pretrained=True)\n",
    "# model.class_layers = torch.nn.Identity()  # remove classification head → gives feature vector\n",
    "# model.to(device)\n",
    "# model.eval()\n",
    "\n",
    "# # MONAI transforms for preprocessing\n",
    "# transform = Compose([\n",
    "#     lambda p: Image.open(p).convert(\"RGB\"),  # load as PIL\n",
    "#     EnsureChannelFirst(),\n",
    "#     Resize((224, 224)),\n",
    "#     ScaleIntensity()\n",
    "# ])\n",
    "\n",
    "features, labels, image_paths = [], [], []\n",
    "skipped_images = []\n",
    "\n",
    "\n",
    "\n",
    "# Loop through training images for CLIP\n",
    "for img_path, label in tqdm(zip(train_paths, train_labels), total=len(train_paths), desc=\"Processing Train Images\"):\n",
    "    try:\n",
    "        pil_img = Image.open(img_path).convert(\"RGB\")\n",
    "        img_tensor = preprocess_clip(pil_img).unsqueeze(0).to(device)\n",
    "\n",
    "        with torch.no_grad():\n",
    "            feat = model.encode_image(img_tensor).cpu().numpy().flatten()\n",
    "\n",
    "        features.append(feat)\n",
    "        labels.append(label)\n",
    "        image_paths.append(img_path)\n",
    "\n",
    "    except Exception as e:\n",
    "        print(f\"Failed to process {img_path}: {e}\")\n",
    "        skipped_images.append(img_path)\n",
    "\n",
    "# Loop through training images for EfficientNetB0\n",
    "# for img_path, label in tqdm(zip(train_paths, train_labels), total=len(train_paths), desc=\"Processing Train Images\"):\n",
    "#     try:\n",
    "#         img = Image.open(img_path).convert(\"RGB\").resize((224, 224))\n",
    "#         img_array = np.array(img)\n",
    "#         img_array = np.expand_dims(img_array, axis=0)  # Add batch dim\n",
    "#         img_array = preprocess_input(img_array)\n",
    "\n",
    "#         feat = feature_extractor.predict(img_array, verbose=0).flatten()\n",
    "\n",
    "#         features.append(feat)\n",
    "#         labels.append(label)\n",
    "#         image_paths.append(img_path)\n",
    "\n",
    "#     except Exception as e:\n",
    "#         print(f\"Failed to process {img_path}: {e}\")\n",
    "#         skipped_images.append(img_path)\n",
    "\n",
    "# Loop through training images for monai\n",
    "# for img_path, label in tqdm(zip(train_paths, train_labels), total=len(train_paths), desc=\"Processing Train Images\"):\n",
    "#     try:\n",
    "#         img = transform(img_path)  # MONAI pipeline\n",
    "#         img = img.unsqueeze(0).to(device)  # add batch dim\n",
    "\n",
    "#         with torch.no_grad():\n",
    "#             feat = model(img).cpu().numpy().flatten()\n",
    "\n",
    "#         features.append(feat)\n",
    "#         labels.append(label)\n",
    "#         image_paths.append(img_path)\n",
    "\n",
    "#     except Exception as e:\n",
    "#         print(f\"Failed to process {img_path}: {e}\")\n",
    "#         skipped_images.append(img_path)\n",
    "\n",
    "# Save results\n",
    "features = np.array(features)\n",
    "labels = np.array(labels)\n",
    "image_paths = np.array(image_paths)\n",
    "\n",
    "np.save(\"train_features_coronal.npy\", features)\n",
    "np.save(\"train_labels_coronal.npy\", labels)\n",
    "np.save(\"train_image_paths_coronal.npy\", image_paths)\n",
    "\n",
    "print(f\" Features saved. Total processed: {len(features)} (expected: {len(train_paths) })\")\n",
    "print(f\" Skipped images: {len(skipped_images)}\")"
   ]
  },
  {
   "cell_type": "code",
   "execution_count": 133,
   "id": "88ce2b94",
   "metadata": {},
   "outputs": [
    {
     "name": "stderr",
     "output_type": "stream",
     "text": [
      "/opt/anaconda3/lib/python3.12/site-packages/umap/umap_.py:1952: UserWarning: n_jobs value 1 overridden to 1 by setting random_state. Use no seed for parallelism.\n",
      "  warn(\n"
     ]
    },
    {
     "data": {
      "image/png": "[encoded data removed]",
      "text/plain": [
       "<Figure size 800x600 with 2 Axes>"
      ]
     },
     "metadata": {},
     "output_type": "display_data"
    }
   ],
   "source": [
    "import numpy as np\n",
    "import matplotlib.pyplot as plt\n",
    "import umap\n",
    "from sklearn.preprocessing import StandardScaler\n",
    "\n",
    "# Load features and labels\n",
    "features = np.load(\"train_features_coronal.npy\")\n",
    "labels = np.load(\"train_labels_coronal.npy\")\n",
    "\n",
    "# Optional: scale features (UMAP often works better after scaling)\n",
    "features_scaled = StandardScaler().fit_transform(features)\n",
    "\n",
    "# Initialize and fit UMAP\n",
    "reducer = umap.UMAP(n_neighbors=15, min_dist=0.1, random_state=42)\n",
    "embedding = reducer.fit_transform(features_scaled)  # shape: (n_samples, 2)\n",
    "\n",
    "# Plot\n",
    "plt.figure(figsize=(8, 6))\n",
    "scatter = plt.scatter(embedding[:, 0], embedding[:, 1], c=labels, cmap='tab10', s=10)\n",
    "plt.colorbar(scatter, ticks=range(len(np.unique(labels))))\n",
    "plt.title(\"UMAP projection of CLIP features\")\n",
    "plt.xlabel(\"UMAP-1\")\n",
    "plt.ylabel(\"UMAP-2\")\n",
    "plt.show()"
   ]
  },
  {
   "cell_type": "markdown",
   "id": "803ce3e5",
   "metadata": {},
   "source": [
    "same process as above for validation data"
   ]
  },
  {
   "cell_type": "code",
   "execution_count": 135,
   "id": "75cb0718",
   "metadata": {},
   "outputs": [
    {
     "name": "stderr",
     "output_type": "stream",
     "text": [
      "Processing Train Images: 100%|██████████| 135/135 [00:02<00:00, 51.73it/s]"
     ]
    },
    {
     "name": "stdout",
     "output_type": "stream",
     "text": [
      " Features saved. Total processed: 135 (expected: 135)\n",
      " Skipped images: 0\n"
     ]
    },
    {
     "name": "stderr",
     "output_type": "stream",
     "text": [
      "\n"
     ]
    }
   ],
   "source": [
    "import os\n",
    "import numpy as np\n",
    "from tqdm import tqdm\n",
    "import imgaug.augmenters as iaa\n",
    "from tensorflow.keras.applications.efficientnet import EfficientNetB0, preprocess_input\n",
    "# from tensorflow.keras.applications import DenseNet121.  # densenet code\n",
    "from tensorflow.keras.preprocessing.image import load_img, img_to_array\n",
    "from tensorflow.keras.models import Model\n",
    "from tensorflow.keras.layers import GlobalAveragePooling2D, Dropout, Dense\n",
    "import torchvision.transforms as T\n",
    "\n",
    "# ===== Load training split =====\n",
    "train_paths = np.load(\"val_paths.npy\", allow_pickle=True)\n",
    "train_labels = np.load(\"val_labels.npy\", allow_pickle=True)\n",
    "\n",
    "# Extracting CLIP Image features\n",
    "model, preprocess_clip = clip.load(\"ViT-B/32\", device=device)\n",
    "\n",
    "# Define your own compatible augmentations\n",
    "# augmenter = T.Compose([\n",
    "#     T.Resize(224),\n",
    "#     T.RandomHorizontalFlip(p=0.5),\n",
    "#     T.RandomRotation(10),\n",
    "#     T.GaussianBlur(kernel_size=3),\n",
    "#     T.ToTensor(),\n",
    "#     T.Normalize((0.48145466, 0.4578275, 0.40821073), (0.26862954, 0.26130258, 0.27577711))  # CLIP normalization\n",
    "# ])\n",
    "\n",
    "\n",
    "# EfficientNet ase model\n",
    "# base_model = EfficientNetB0(weights='imagenet', include_top=False, input_shape=(224,224,3))\n",
    "# # Step 3: Build feature extractor model (outputs 256-dim feature vectors)\n",
    "# x = base_model.output\n",
    "# x = GlobalAveragePooling2D()(x)\n",
    "# x = Dropout(0.5)(x)\n",
    "# x = Dense(256, activation='relu')(x)\n",
    "# feature_extractor = Model(inputs=base_model.input, outputs=x)\n",
    "\n",
    "\n",
    "\n",
    "\n",
    "features, labels, image_paths = [], [], []\n",
    "skipped_images = []\n",
    "\n",
    "# Loop through training images\n",
    "for img_path, label in tqdm(zip(train_paths, train_labels), total=len(train_paths), desc=\"Processing Train Images\"):\n",
    "    try:\n",
    "        pil_img = Image.open(img_path).convert(\"RGB\")\n",
    "        img_tensor = preprocess_clip(pil_img).unsqueeze(0).to(device)\n",
    "\n",
    "        with torch.no_grad():\n",
    "            feat = model.encode_image(img_tensor).cpu().numpy().flatten()\n",
    "\n",
    "        features.append(feat)\n",
    "        labels.append(label)\n",
    "        image_paths.append(img_path)\n",
    "\n",
    "    except Exception as e:\n",
    "        print(f\"Failed to process {img_path}: {e}\")\n",
    "        skipped_images.append(img_path)\n",
    "\n",
    "# Save results\n",
    "features = np.array(features)\n",
    "labels = np.array(labels)\n",
    "image_paths = np.array(image_paths)\n",
    "\n",
    "np.save(\"val_features_coronal.npy\", features)\n",
    "np.save(\"val_labels_coronal.npy\", labels)\n",
    "np.save(\"val_image_paths_coronal.npy\", image_paths)\n",
    "\n",
    "print(f\" Features saved. Total processed: {len(features)} (expected: {len(train_paths) })\")\n",
    "print(f\" Skipped images: {len(skipped_images)}\")"
   ]
  },
  {
   "cell_type": "code",
   "execution_count": 136,
   "id": "ba414ef4",
   "metadata": {},
   "outputs": [
    {
     "name": "stderr",
     "output_type": "stream",
     "text": [
      "Processing Test Images: 100%|██████████| 135/135 [00:05<00:00, 23.12it/s]"
     ]
    },
    {
     "name": "stdout",
     "output_type": "stream",
     "text": [
      " Test features saved. Total processed: 135 / 135\n",
      " Skipped images: 0\n"
     ]
    },
    {
     "name": "stderr",
     "output_type": "stream",
     "text": [
      "\n"
     ]
    }
   ],
   "source": [
    "import os\n",
    "import numpy as np\n",
    "from tqdm import tqdm\n",
    "import torch\n",
    "import clip\n",
    "from PIL import Image\n",
    "\n",
    "# ===== Load testing split =====\n",
    "test_paths = np.load(\"test_paths.npy\", allow_pickle=True)\n",
    "test_labels = np.load(\"test_labels.npy\", allow_pickle=True)\n",
    "\n",
    "# Load CLIP model (ViT-B/32)\n",
    "device = \"mps\" if torch.cuda.is_available() else \"cpu\"\n",
    "model, preprocess_clip = clip.load(\"ViT-B/32\", device=device)\n",
    "\n",
    "features, labels, image_paths = [], [], []\n",
    "skipped_images = []\n",
    "\n",
    "# Loop through test images (no augmentation)\n",
    "for img_path, label in tqdm(zip(test_paths, test_labels), total=len(test_paths), desc=\"Processing Test Images\"):\n",
    "    try:\n",
    "        pil_img = Image.open(img_path).convert(\"RGB\")\n",
    "\n",
    "        # Preprocess for CLIP\n",
    "        img_tensor = preprocess_clip(pil_img).unsqueeze(0).to(device)\n",
    "\n",
    "        # Extract features\n",
    "        with torch.no_grad():\n",
    "            feat = model.encode_image(img_tensor).cpu().numpy().flatten()\n",
    "\n",
    "        features.append(feat)\n",
    "        labels.append(label)\n",
    "        image_paths.append(img_path)\n",
    "\n",
    "    except Exception as e:\n",
    "        print(f\"Failed to process {img_path}: {e}\")\n",
    "        skipped_images.append(img_path)\n",
    "\n",
    "# Save results\n",
    "features = np.array(features)\n",
    "labels = np.array(labels)\n",
    "image_paths = np.array(image_paths)\n",
    "\n",
    "np.save(\"test_features_coronal.npy\", features)\n",
    "np.save(\"test_labels_coronal.npy\", labels)\n",
    "np.save(\"test_image_paths_coronal.npy\", image_paths)\n",
    "\n",
    "print(f\" Test features saved. Total processed: {len(features)} / {len(test_paths)}\")\n",
    "print(f\" Skipped images: {len(skipped_images)}\")"
   ]
  },
  {
   "cell_type": "code",
   "execution_count": 137,
   "id": "06d7369c",
   "metadata": {},
   "outputs": [
    {
     "name": "stdout",
     "output_type": "stream",
     "text": [
      "(570, 512)\n",
      "(570,)\n",
      "(570,)\n"
     ]
    }
   ],
   "source": [
    "features = np.load(\"train_features_coronal.npy\")       # Shape: (525, 512)\n",
    "print(features.shape)\n",
    "labels = np.load(\"train_labels_coronal.npy\")           # Shape: (525,)\n",
    "print(labels.shape)\n",
    "image_paths = np.load(\"train_image_paths_coronal.npy\") # Shape: (525,)\n",
    "print(image_paths.shape)\n"
   ]
  },
  {
   "cell_type": "code",
   "execution_count": 138,
   "id": "e3b05433",
   "metadata": {},
   "outputs": [
    {
     "name": "stdout",
     "output_type": "stream",
     "text": [
      "(135, 512)\n",
      "(135,)\n",
      "(135,)\n"
     ]
    }
   ],
   "source": [
    "features = np.load(\"val_features_coronal.npy\")       # Shape: (127, 512))\n",
    "print(features.shape)\n",
    "labels = np.load(\"val_labels_coronal.npy\")           # Shape: (127,)\n",
    "print(labels.shape)\n",
    "image_paths = np.load(\"val_image_paths_coronal.npy\") # Shape: (127,)\n",
    "print(image_paths.shape)\n"
   ]
  },
  {
   "cell_type": "code",
   "execution_count": 139,
   "id": "36e3fbb2",
   "metadata": {},
   "outputs": [
    {
     "name": "stdout",
     "output_type": "stream",
     "text": [
      "(135, 512)\n",
      "(135,)\n",
      "(135,)\n"
     ]
    }
   ],
   "source": [
    "features = np.load(\"test_features_coronal.npy\")       # Shape: (126, 512)\n",
    "print(features.shape)\n",
    "labels = np.load(\"test_labels_coronal.npy\")           # Shape: (126,)\n",
    "print(labels.shape)\n",
    "image_paths = np.load(\"test_image_paths_coronal.npy\") # Shape: (126,)\n",
    "print(image_paths.shape)\n"
   ]
  },
  {
   "cell_type": "code",
   "execution_count": 140,
   "id": "17262be6",
   "metadata": {},
   "outputs": [
    {
     "name": "stdout",
     "output_type": "stream",
     "text": [
      " Saved: train_coronal_features_and_labels_only.csv\n"
     ]
    }
   ],
   "source": [
    "# Load the .npy files\n",
    "import pandas as pd\n",
    "features = np.load(\"train_features_coronal.npy\")       # Shape: (84755, 256)\n",
    "labels = np.load(\"train_labels_coronal.npy\")           # Shape: (84755,)\n",
    "\n",
    "# Combine features and labels\n",
    "combined = np.hstack((features, labels.reshape(-1, 1)))  # Shape: (84755, 257)\n",
    "\n",
    "# Create a DataFrame\n",
    "df = pd.DataFrame(combined)\n",
    "\n",
    "# Optionally name columns\n",
    "\n",
    "feature_columns = [f\"f{i}\" for i in range(features.shape[1])]\n",
    "df.columns = feature_columns + [\"label\"]\n",
    "\n",
    "# Save to CSV\n",
    "df.to_csv(\"train_coronal_features_and_labels_only.csv\", index=False)\n",
    "\n",
    "print(\" Saved: train_coronal_features_and_labels_only.csv\")\n"
   ]
  },
  {
   "cell_type": "markdown",
   "id": "73b8f8f1",
   "metadata": {},
   "source": [
    "same process for validation set"
   ]
  },
  {
   "cell_type": "code",
   "execution_count": null,
   "id": "9af99964",
   "metadata": {},
   "outputs": [
    {
     "name": "stdout",
     "output_type": "stream",
     "text": [
      " Saved: val_coronal_features_and_labels_only.csv\n"
     ]
    }
   ],
   "source": [
    "# Load the .npy files\n",
    "features = np.load(\"val_features_coronal.npy\")       # Shape: (135, 512)\n",
    "labels = np.load(\"val_labels_coronal.npy\")           # Shape: (135,)\n",
    "\n",
    "# Combine features and labels\n",
    "combined = np.hstack((features, labels.reshape(-1, 1)))  # Shape: (135, 513)\n",
    "\n",
    "# Create a DataFrame\n",
    "df = pd.DataFrame(combined)\n",
    "\n",
    "# Optionally name columns\n",
    "feature_columns = [f\"f{i}\" for i in range(features.shape[1])]\n",
    "df.columns = feature_columns + [\"label\"]\n",
    "\n",
    "# Save to CSV\n",
    "df.to_csv(\"val_coronal_features_and_labels_only.csv\", index=False)\n",
    "\n",
    "print(\" Saved: val_coronal_features_and_labels_only.csv\")\n"
   ]
  },
  {
   "cell_type": "code",
   "execution_count": null,
   "id": "5fd01d64",
   "metadata": {},
   "outputs": [
    {
     "name": "stdout",
     "output_type": "stream",
     "text": [
      " Saved: test_coronal_features_and_labels_only.csv\n"
     ]
    }
   ],
   "source": [
    "# Load the .npy files\n",
    "features = np.load(\"test_features_coronal.npy\")       # Shape: (135, 512)\n",
    "labels = np.load(\"test_labels_coronal.npy\")           # Shape: (135, )\n",
    "\n",
    "# Combine features and labels\n",
    "combined = np.hstack((features, labels.reshape(-1, 1)))  # Shape: (135, 513)\n",
    "\n",
    "# Create a DataFrame\n",
    "df = pd.DataFrame(combined)\n",
    "\n",
    "# Optionally name columns\n",
    "feature_columns = [f\"f{i}\" for i in range(features.shape[1])]\n",
    "df.columns = feature_columns + [\"label\"]\n",
    "\n",
    "# Save to CSV\n",
    "df.to_csv(\"test_coronal_features_and_labels_only.csv\", index=False)\n",
    "\n",
    "print(\" Saved: test_coronal_features_and_labels_only.csv\")\n"
   ]
  },
  {
   "cell_type": "code",
   "execution_count": 163,
   "id": "efcdee1c",
   "metadata": {},
   "outputs": [
    {
     "name": "stdout",
     "output_type": "stream",
     "text": [
      "Saved: train_text_features.npy (570, 512)\n",
      "train_text_labels.npy (570,)\n"
     ]
    }
   ],
   "source": [
    "text_embeddings = np.load(\"text_embeddings_cleaned.npy\")  # (N_text, dim_text)\n",
    "text_ids = np.load(\"text_image_ids.npy\", allow_pickle=True)\n",
    "\n",
    "# Build lookup\n",
    "text_lookup = {tid: emb for tid, emb in zip(text_ids, text_embeddings)}\n",
    "\n",
    "def get_text_features_for_split(image_paths, image_labels):\n",
    "    feats, labels = [], []\n",
    "    for path, label in zip(image_paths, image_labels):\n",
    "        sid = os.path.basename(path).split('_')[0]\n",
    "        if sid in text_lookup:\n",
    "            feats.append(text_lookup[sid])\n",
    "            labels.append(label)\n",
    "    return np.array(feats), np.array(labels)\n",
    "\n",
    "# Train text features\n",
    "train_paths = np.load(\"train_image_paths_coronal.npy\", allow_pickle=True)\n",
    "train_labels = np.load(\"train_labels_coronal.npy\", allow_pickle=True)\n",
    "train_text_feats, train_text_labels = get_text_features_for_split(train_paths, train_labels)\n",
    "np.save(\"train_text_features.npy\", train_text_feats)\n",
    "np.save(\"train_text_labels.npy\", train_text_labels)\n",
    "print(\"Saved: train_text_features.npy\", train_text_feats.shape)\n",
    "print(\"train_text_labels.npy\", train_text_labels.shape)"
   ]
  },
  {
   "cell_type": "code",
   "execution_count": 153,
   "id": "83033d15",
   "metadata": {},
   "outputs": [],
   "source": [
    "text_embeddings = np.load(\"text_embeddings_cleaned.npy\")  # (N_text, dim_text)\n",
    "text_ids = np.load(\"text_image_ids.npy\", allow_pickle=True)\n",
    "\n",
    "# Build lookup\n",
    "text_lookup = {tid: emb for tid, emb in zip(text_ids, text_embeddings)}\n",
    "\n",
    "def get_text_features_for_split(image_paths, image_labels):\n",
    "    feats, labels = [], []\n",
    "    for path, label in zip(image_paths, image_labels):\n",
    "        sid = os.path.basename(path).split('_')[0]\n",
    "        if sid in text_lookup:\n",
    "            feats.append(text_lookup[sid])\n",
    "            labels.append(label)\n",
    "    return np.array(feats), np.array(labels)\n",
    "\n",
    "# val text features\n",
    "val_paths = np.load(\"val_image_paths_coronal.npy\", allow_pickle=True)\n",
    "val_labels = np.load(\"val_labels_coronal.npy\", allow_pickle=True)\n",
    "val_text_feats, val_text_labels = get_text_features_for_split(val_paths, val_labels)\n",
    "np.save(\"val_text_features.npy\", val_text_feats)\n",
    "np.save(\"val_text_labels.npy\", val_text_labels)"
   ]
  },
  {
   "cell_type": "code",
   "execution_count": 148,
   "id": "c44de64f",
   "metadata": {},
   "outputs": [],
   "source": [
    "text_embeddings = np.load(\"text_embeddings_cleaned.npy\")  # (N_text, dim_text)\n",
    "text_ids = np.load(\"text_image_ids.npy\", allow_pickle=True)\n",
    "\n",
    "# Build lookup\n",
    "text_lookup = {tid: emb for tid, emb in zip(text_ids, text_embeddings)}\n",
    "\n",
    "def get_text_features_for_split(image_paths, image_labels):\n",
    "    feats, labels = [], []\n",
    "    for path, label in zip(image_paths, image_labels):\n",
    "        sid = os.path.basename(path).split('_')[0]\n",
    "        if sid in text_lookup:\n",
    "            feats.append(text_lookup[sid])\n",
    "            labels.append(label)\n",
    "    return np.array(feats), np.array(labels)\n",
    "\n",
    "# test text features\n",
    "test_paths = np.load(\"test_image_paths_coronal.npy\", allow_pickle=True)\n",
    "test_labels = np.load(\"test_labels_coronal.npy\", allow_pickle=True)\n",
    "test_text_feats, test_text_labels = get_text_features_for_split(test_paths, test_labels)\n",
    "np.save(\"test_text_features.npy\", test_text_feats)\n",
    "np.save(\"test_text_labels.npy\", test_text_labels)"
   ]
  },
  {
   "cell_type": "code",
   "execution_count": 157,
   "id": "dacd1a3b",
   "metadata": {},
   "outputs": [
    {
     "name": "stdout",
     "output_type": "stream",
     "text": [
      "Saved: train_fused_features.npy (570, 1024)\n",
      "Saved: train_fused_labels.npy (570,)\n"
     ]
    }
   ],
   "source": [
    "def fuse_features(image_features, image_paths, text_lookup):\n",
    "    fused = []\n",
    "    for feat, path in zip(image_features, image_paths):\n",
    "        sid = os.path.basename(path).split('_')[0]\n",
    "        if sid in text_lookup:\n",
    "            fused.append(np.concatenate([feat, text_lookup[sid]]))\n",
    "    return np.array(fused)\n",
    "\n",
    "# Build text lookup from train_text_features\n",
    "train_paths = np.load(\"train_image_paths_coronal.npy\", allow_pickle=True)\n",
    "train_labels = np.load(\"train_labels_coronal.npy\", allow_pickle=True)\n",
    "\n",
    "train_text_feats = np.load(\"train_text_features.npy\")\n",
    "train_text_lookup = {os.path.basename(p).split('_')[0]: feat \n",
    "                     for p, feat in zip(train_paths, train_text_feats)}\n",
    "\n",
    "# Fuse train\n",
    "train_mri_feats = np.load(\"train_features_coronal.npy\")\n",
    "train_fused_feats = fuse_features(train_mri_feats, train_paths, train_text_lookup)\n",
    "\n",
    "# Save fused features and labels\n",
    "np.save(\"train_fused_features.npy\", train_fused_feats)\n",
    "np.save(\"train_fused_labels.npy\", train_labels)\n",
    "\n",
    "print(\"Saved: train_fused_features.npy\", train_fused_feats.shape)\n",
    "print(\"Saved: train_fused_labels.npy\", train_labels.shape)"
   ]
  },
  {
   "cell_type": "code",
   "execution_count": 158,
   "id": "4e9b83fe",
   "metadata": {},
   "outputs": [
    {
     "name": "stdout",
     "output_type": "stream",
     "text": [
      "Saved: val_fused_features.npy (135, 1024)\n",
      "Saved: val_fused_labels.npy (135,)\n"
     ]
    }
   ],
   "source": [
    "def fuse_features(image_features, image_paths, text_lookup):\n",
    "    fused = []\n",
    "    for feat, path in zip(image_features, image_paths):\n",
    "        sid = os.path.basename(path).split('_')[0]\n",
    "        if sid in text_lookup:\n",
    "            fused.append(np.concatenate([feat, text_lookup[sid]]))\n",
    "    return np.array(fused)\n",
    "\n",
    "# Build text lookup from val_text_features\n",
    "val_paths = np.load(\"val_image_paths_coronal.npy\", allow_pickle=True)\n",
    "val_labels = np.load(\"val_labels_coronal.npy\", allow_pickle=True)\n",
    "\n",
    "val_text_feats = np.load(\"val_text_features.npy\")\n",
    "val_text_lookup = {os.path.basename(p).split('_')[0]: feat \n",
    "                     for p, feat in zip(val_paths, val_text_feats)}\n",
    "\n",
    "# Fuse val\n",
    "val_mri_feats = np.load(\"val_features_coronal.npy\")\n",
    "val_fused_feats = fuse_features(val_mri_feats, val_paths, val_text_lookup)\n",
    "\n",
    "# Save fused features and labels\n",
    "np.save(\"val_fused_features.npy\", val_fused_feats)\n",
    "np.save(\"val_fused_labels.npy\", val_labels)\n",
    "\n",
    "print(\"Saved: val_fused_features.npy\", val_fused_feats.shape)\n",
    "print(\"Saved: val_fused_labels.npy\", val_labels.shape)"
   ]
  },
  {
   "cell_type": "code",
   "execution_count": 159,
   "id": "876b69de",
   "metadata": {},
   "outputs": [
    {
     "name": "stdout",
     "output_type": "stream",
     "text": [
      "Saved: test_fused_features.npy (135, 1024)\n",
      "Saved: test_fused_labels.npy (135,)\n"
     ]
    }
   ],
   "source": [
    "def fuse_features(image_features, image_paths, text_lookup):\n",
    "    fused = []\n",
    "    for feat, path in zip(image_features, image_paths):\n",
    "        sid = os.path.basename(path).split('_')[0]\n",
    "        if sid in text_lookup:\n",
    "            fused.append(np.concatenate([feat, text_lookup[sid]]))\n",
    "    return np.array(fused)\n",
    "\n",
    "# Build text lookup from test_text_features\n",
    "test_paths = np.load(\"test_image_paths_coronal.npy\", allow_pickle=True)\n",
    "test_labels = np.load(\"test_labels_coronal.npy\", allow_pickle=True)\n",
    "\n",
    "test_text_feats = np.load(\"test_text_features.npy\")\n",
    "test_text_lookup = {os.path.basename(p).split('_')[0]: feat \n",
    "                     for p, feat in zip(test_paths, test_text_feats)}\n",
    "\n",
    "# Fuse test\n",
    "test_mri_feats = np.load(\"test_features_coronal.npy\")\n",
    "test_fused_feats = fuse_features(test_mri_feats, test_paths, test_text_lookup)\n",
    "\n",
    "# Save fused features and labels\n",
    "np.save(\"test_fused_features.npy\", test_fused_feats)\n",
    "np.save(\"test_fused_labels.npy\", test_labels)\n",
    "\n",
    "print(\"Saved: test_fused_features.npy\", test_fused_feats.shape)\n",
    "print(\"Saved: test_fused_labels.npy\", test_labels.shape)"
   ]
  },
  {
   "cell_type": "markdown",
   "id": "917722db",
   "metadata": {},
   "source": [
    "import numpy as np\n",
    "from tqdm import tqdm\n",
    "import os\n",
    "\n",
    "# Load image feature data\n",
    "image_features = np.load(\"train_features_coronal.npy\")       # (84755, 256)\n",
    "image_labels = np.load(\"train_labels_coronal.npy\")           # (84755,)\n",
    "image_paths = np.load(\"train_image_paths_coronal.npy\")       # (84755,)\n",
    "\n",
    "\n",
    "\n",
    "# Step 2: Match each image with its text embedding (based on ID prefix)\n",
    "fused_features = []\n",
    "fused_labels = []\n",
    "matched_count = 0\n",
    "\n",
    "for i, (img_feat, label, path) in enumerate(tqdm(zip(image_features, image_labels, image_paths), total=len(image_paths))):\n",
    "    filename = os.path.basename(path)  # e.g., 'I31143_AD_coronal_55.png'\n",
    "    img_id = filename.split('_')[0]             # 'I31143'\n",
    "\n",
    "    if img_id in text_lookup:\n",
    "        text_feat = text_lookup[img_id]\n",
    "        fused = np.concatenate([img_feat, text_feat])  # shape (640,)\n",
    "        fused_features.append(fused)\n",
    "        fused_labels.append(label)\n",
    "        matched_count += 1\n",
    "\n",
    "print(f\" Matched samples: {matched_count}\")\n",
    "\n",
    "# Convert to arrays and save\n",
    "fused_features = np.array(fused_features)\n",
    "fused_labels = np.array(fused_labels)\n",
    "\n",
    "np.save(\"train_fused_features_clean.npy\", fused_features)\n",
    "np.save(\"train_fused_labels_clean.npy\", fused_labels)\n",
    "\n",
    "print(\" Final train fused shape:\", fused_features.shape)\n",
    "print(\" Labels shape:\", fused_labels.shape)\n"
   ]
  },
  {
   "cell_type": "markdown",
   "id": "d05348e3",
   "metadata": {},
   "source": [
    "fusion for the validation set is done below"
   ]
  },
  {
   "cell_type": "markdown",
   "id": "672a555e",
   "metadata": {},
   "source": [
    "import numpy as np\n",
    "from tqdm import tqdm\n",
    "import os\n",
    "\n",
    "# Load image feature data\n",
    "image_features = np.load(\"val_features_coronal.npy\")       # (84755, 256)\n",
    "image_labels = np.load(\"val_labels_coronal.npy\")           # (84755,)\n",
    "image_paths = np.load(\"val_image_paths_coronal.npy\")       # (84755,)\n",
    "\n",
    "# Load cleaned textual embeddings and IDs\n",
    "textual_embeddings = np.load(\"text_embeddings_cleaned.npy\")   # (2294, 384)\n",
    "text_ids = np.load(\"text_image_ids.npy\", allow_pickle=True)      # (2294,)\n",
    "\n",
    "# Step 1: Build a lookup from Image ID → text embedding\n",
    "text_lookup = {id_: emb for id_, emb in zip(text_ids, textual_embeddings)}\n",
    "\n",
    "# Step 2: Match each image with its text embedding (based on ID prefix)\n",
    "fused_features = []\n",
    "fused_labels = []\n",
    "matched_count = 0\n",
    "\n",
    "for i, (img_feat, label, path) in enumerate(tqdm(zip(image_features, image_labels, image_paths), total=len(image_paths))):\n",
    "    filename = os.path.basename(path)  # e.g., 'I31143_AD_coronal_55.png'\n",
    "    img_id = filename.split('_')[0]             # 'I31143'\n",
    "\n",
    "    if img_id in text_lookup:\n",
    "        text_feat = text_lookup[img_id]\n",
    "        fused = np.concatenate([img_feat, text_feat])  # shape (640,)\n",
    "        fused_features.append(fused)\n",
    "        fused_labels.append(label)\n",
    "        matched_count += 1\n",
    "\n",
    "print(f\" Matched samples: {matched_count}\")\n",
    "\n",
    "# Convert to arrays and save\n",
    "fused_features = np.array(fused_features)\n",
    "fused_labels = np.array(fused_labels)\n",
    "\n",
    "np.save(\"val_fused_features_clean.npy\", fused_features)\n",
    "np.save(\"val_fused_labels_clean.npy\", fused_labels)\n",
    "\n",
    "print(\" Final val fused shape:\", fused_features.shape)\n",
    "print(\" Labels shape:\", fused_labels.shape)\n"
   ]
  },
  {
   "cell_type": "markdown",
   "id": "54639b07",
   "metadata": {},
   "source": [
    "import numpy as np\n",
    "from tqdm import tqdm\n",
    "import os\n",
    "\n",
    "# Load image feature data\n",
    "image_features = np.load(\"test_features_coronal.npy\")       # (84755, 256)\n",
    "image_labels = np.load(\"test_labels_coronal.npy\")           # (84755,)\n",
    "image_paths = np.load(\"test_image_paths_coronal.npy\")       # (84755,)\n",
    "\n",
    "# Load cleaned textual embeddings and IDs\n",
    "textual_embeddings = np.load(\"text_embeddings_cleaned.npy\")   # (2294, 384)\n",
    "text_ids = np.load(\"text_image_ids.npy\", allow_pickle=True)      # (2294,)\n",
    "\n",
    "# Step 1: Build a lookup from Image ID → text embedding\n",
    "text_lookup = {id_: emb for id_, emb in zip(text_ids, textual_embeddings)}\n",
    "\n",
    "# Step 2: Match each image with its text embedding (based on ID prefix)\n",
    "fused_features = []\n",
    "fused_labels = []\n",
    "matched_count = 0\n",
    "\n",
    "for i, (img_feat, label, path) in enumerate(tqdm(zip(image_features, image_labels, image_paths), total=len(image_paths))):\n",
    "    filename = os.path.basename(path)  # e.g., 'I31143_AD_coronal_55.png'\n",
    "    img_id = filename.split('_')[0]             # 'I31143'\n",
    "\n",
    "    if img_id in text_lookup:\n",
    "        text_feat = text_lookup[img_id]\n",
    "        fused = np.concatenate([img_feat, text_feat])  # shape (640,)\n",
    "        fused_features.append(fused)\n",
    "        fused_labels.append(label)\n",
    "        matched_count += 1\n",
    "\n",
    "print(f\" Matched samples: {matched_count}\")\n",
    "\n",
    "# Convert to arrays and save\n",
    "fused_features = np.array(fused_features)\n",
    "fused_labels = np.array(fused_labels)\n",
    "\n",
    "np.save(\"test_fused_features_clean.npy\", fused_features)\n",
    "np.save(\"test_fused_labels_clean.npy\", fused_labels)\n",
    "\n",
    "print(\" Final test fused shape:\", fused_features.shape)\n",
    "print(\" Labels shape:\", fused_labels.shape)\n"
   ]
  },
  {
   "cell_type": "code",
   "execution_count": 160,
   "id": "b11ac337",
   "metadata": {},
   "outputs": [
    {
     "name": "stdout",
     "output_type": "stream",
     "text": [
      " Saved: train_fused_embeddings_with_labels.csv\n"
     ]
    }
   ],
   "source": [
    "import numpy as np\n",
    "import pandas as pd\n",
    "\n",
    "# Load\n",
    "X = np.load(\"train_fused_features.npy\")\n",
    "y = np.load(\"train_fused_labels.npy\")\n",
    "\n",
    "# Combine into DataFrame\n",
    "df = pd.DataFrame(X)\n",
    "df[\"label\"] = y\n",
    "\n",
    "# Save to CSV\n",
    "df.to_csv(\"train_fused_embeddings_with_labels.csv\", index=False)\n",
    "print(\" Saved: train_fused_embeddings_with_labels.csv\")\n"
   ]
  },
  {
   "cell_type": "markdown",
   "id": "117c2db0",
   "metadata": {},
   "source": [
    "savinf into csv the validation fused sets"
   ]
  },
  {
   "cell_type": "code",
   "execution_count": 161,
   "id": "886ef189",
   "metadata": {},
   "outputs": [
    {
     "name": "stdout",
     "output_type": "stream",
     "text": [
      " Saved: val_fused_embeddings_with_labels.csv\n"
     ]
    }
   ],
   "source": [
    "import numpy as np\n",
    "import pandas as pd\n",
    "\n",
    "# Load\n",
    "X = np.load(\"val_fused_features_clean.npy\")\n",
    "y = np.load(\"val_fused_labels_clean.npy\")\n",
    "\n",
    "# Combine into DataFrame\n",
    "df = pd.DataFrame(X)\n",
    "df[\"label\"] = y\n",
    "\n",
    "# Save to CSV\n",
    "df.to_csv(\"val_fused_embeddings_with_labels.csv\", index=False)\n",
    "print(\" Saved: val_fused_embeddings_with_labels.csv\")\n"
   ]
  },
  {
   "cell_type": "code",
   "execution_count": 162,
   "id": "d6ed7a8a",
   "metadata": {},
   "outputs": [
    {
     "name": "stdout",
     "output_type": "stream",
     "text": [
      " Saved: test_fused_embeddings_with_labels.csv\n"
     ]
    }
   ],
   "source": [
    "import numpy as np\n",
    "import pandas as pd\n",
    "\n",
    "# Load\n",
    "X = np.load(\"test_fused_features_clean.npy\")\n",
    "y = np.load(\"test_fused_labels_clean.npy\")\n",
    "\n",
    "# Combine into DataFrame\n",
    "df = pd.DataFrame(X)\n",
    "df[\"label\"] = y\n",
    "\n",
    "# Save to CSV\n",
    "df.to_csv(\"test_fused_embeddings_with_labels.csv\", index=False)\n",
    "print(\" Saved: test_fused_embeddings_with_labels.csv\")\n"
   ]
  },
  {
   "cell_type": "markdown",
   "id": "50158e89",
   "metadata": {},
   "source": [
    "saving image and textual data separately for training dataset"
   ]
  },
  {
   "cell_type": "code",
   "execution_count": 77,
   "id": "315c40f4",
   "metadata": {},
   "outputs": [
    {
     "name": "stdout",
     "output_type": "stream",
     "text": [
      " Saved:\n",
      "  train_image_features_only.npy (shape: (587, 512) )\n",
      "  train_text_features_only.npy  (shape: (587, 512) )\n"
     ]
    }
   ],
   "source": [
    "import numpy as np\n",
    "\n",
    "# Load fused embeddings\n",
    "fused = np.load(\"train_fused_features_clean.npy\")  # (84755, 640)\n",
    "\n",
    "# Split features\n",
    "image_features = fused[:, :512]   # CNN-based\n",
    "text_features  = fused[:, 512:]   # Sentence-transformer-based\n",
    "\n",
    "# Save separately\n",
    "np.save(\"train_image_features_only.npy\", image_features)\n",
    "np.save(\"train_text_features_only.npy\", text_features)\n",
    "\n",
    "print(\" Saved:\")\n",
    "print(\"  train_image_features_only.npy (shape:\", image_features.shape, \")\")\n",
    "print(\"  train_text_features_only.npy  (shape:\", text_features.shape, \")\")\n"
   ]
  },
  {
   "cell_type": "markdown",
   "id": "1136a005",
   "metadata": {},
   "source": [
    "saving image and textual data separately for validation dataset"
   ]
  },
  {
   "cell_type": "code",
   "execution_count": null,
   "id": "5e6e17f8",
   "metadata": {},
   "outputs": [
    {
     "name": "stdout",
     "output_type": "stream",
     "text": [
      " Saved:\n",
      "  val_image_features_only.npy (shape: (127, 512) )\n",
      "  val_text_features_only.npy  (shape: (127, 512) )\n"
     ]
    }
   ],
   "source": [
    "import numpy as np\n",
    "\n",
    "# Load fused embeddings\n",
    "fused = np.load(\"val_fused_features_clean.npy\")  # (127, 1024)\n",
    "\n",
    "# Split features\n",
    "image_features = fused[:, :512]   # CNN-based\n",
    "text_features  = fused[:, 512:]   # Sentence-transformer-based\n",
    "\n",
    "# Save separately\n",
    "np.save(\"val_image_features_only.npy\", image_features)\n",
    "np.save(\"val_text_features_only.npy\", text_features)\n",
    "\n",
    "print(\" Saved:\")\n",
    "print(\"  val_image_features_only.npy (shape:\", image_features.shape, \")\")\n",
    "print(\"  val_text_features_only.npy  (shape:\", text_features.shape, \")\")\n"
   ]
  },
  {
   "cell_type": "code",
   "execution_count": null,
   "id": "f5261b1f",
   "metadata": {},
   "outputs": [
    {
     "name": "stdout",
     "output_type": "stream",
     "text": [
      " Saved:\n",
      "  test_image_features_only.npy (shape: (126, 512) )\n",
      "  test_text_features_only.npy  (shape: (126, 512) )\n"
     ]
    }
   ],
   "source": [
    "import numpy as np\n",
    "\n",
    "# Load fused embeddings\n",
    "fused = np.load(\"test_fused_features_clean.npy\")  # (126, 1024)\n",
    "\n",
    "# Split features\n",
    "image_features = fused[:, :512]   # CNN-based\n",
    "text_features  = fused[:, 512:]   # Sentence-transformer-based\n",
    "\n",
    "# Save separately\n",
    "np.save(\"test_image_features_only.npy\", image_features)\n",
    "np.save(\"test_text_features_only.npy\", text_features)\n",
    "\n",
    "print(\" Saved:\")\n",
    "print(\"  test_image_features_only.npy (shape:\", image_features.shape, \")\")\n",
    "print(\"  test_text_features_only.npy  (shape:\", text_features.shape, \")\")\n"
   ]
  },
  {
   "cell_type": "markdown",
   "id": "cc33f960",
   "metadata": {},
   "source": [
    "the code below is added just to save the progress"
   ]
  },
  {
   "cell_type": "markdown",
   "id": "24f29456",
   "metadata": {},
   "source": [
    "import numpy as np\n",
    "from sklearn.model_selection import train_test_split\n",
    "from sklearn.neural_network import MLPClassifier\n",
    "from sklearn.metrics import accuracy_score, classification_report, confusion_matrix\n",
    "import matplotlib.pyplot as plt\n",
    "import seaborn as sns\n",
    "\n",
    "# 🔹 Step 1: Load training set fused features and labels\n",
    "X_train = np.load(\"train_fused_features_clean.npy\")   # Shape: (84755, 640)\n",
    "y_train = np.load(\"train_fused_labels_clean.npy\")     # Shape: (84755,)\n",
    "\n",
    "# Step 2: Load validation set fused features and labels\n",
    "X_val = np.load(\"val_fused_features_clean.npy\")\n",
    "y_val = np.load(\"val_fused_labels_clean.npy\")\n",
    "\n",
    "# 🔹 Step 2: Train/test split (not used for testing file)\n",
    "# X_train, X_test, y_train, y_test = train_test_split(\n",
    "#     X, y, test_size=0.2, random_state=42, stratify=y\n",
    "# )\n",
    "\n",
    "# 🔹 Step 3: Define and train MLP (no need of fitting again in test set)\n",
    "mlp = MLPClassifier(\n",
    "    hidden_layer_sizes=(512, 256, 64),   # You can adjust the architecture\n",
    "    activation='relu',\n",
    "    learning_rate_init=0.0006,\n",
    "    solver='adam',\n",
    "    max_iter=50,          # Increase to 100–300 for better results if time allows\n",
    "    random_state=42,\n",
    "    verbose=True\n",
    ")\n",
    "mlp.fit(X_train, y_train)\n",
    "\n",
    "# 🔹 Step 4: Predict and evaluate\n",
    "y_pred = mlp.predict(X_test)\n",
    "\n",
    "acc = accuracy_score(y_test, y_pred)\n",
    "print(f\"\\n MLP Accuracy: {acc:.4f}\")\n",
    "print(\"\\n Classification Report:\")\n",
    "print(classification_report(y_test, y_pred, target_names=[\"AD\", \"CN\", \"MCI\"]))\n",
    "\n",
    "# 🔹 Step 5: Plot Confusion Matrix\n",
    "cm = confusion_matrix(y_test, y_pred)\n",
    "plt.figure(figsize=(6, 5))\n",
    "sns.heatmap(cm, annot=True, fmt=\"d\", cmap=\"Greens\", xticklabels=[\"AD\", \"CN\", \"MCI\"], yticklabels=[\"AD\", \"CN\", \"MCI\"])\n",
    "plt.xlabel(\"Predicted\")\n",
    "plt.ylabel(\"True\")\n",
    "plt.title(\" Confusion Matrix - MLP (Fused Features)\")\n",
    "plt.tight_layout()\n",
    "plt.show()\n"
   ]
  },
  {
   "cell_type": "code",
   "execution_count": 82,
   "id": "7cd979ac",
   "metadata": {},
   "outputs": [],
   "source": [
    "class MLPWithDropout(nn.Module):\n",
    "    def __init__(self, input_dim):\n",
    "        super(MLPWithDropout, self).__init__()\n",
    "        self.net = nn.Sequential(\n",
    "            nn.Linear(input_dim, 128),\n",
    "            nn.ReLU(),\n",
    "            nn.Dropout(0.3),\n",
    "            nn.Linear(128, 64),\n",
    "            nn.ReLU(),\n",
    "            nn.Dropout(0.3),\n",
    "            nn.Linear(64, 3)\n",
    "        )\n",
    "\n",
    "    def forward(self, x):\n",
    "        return self.net(x)\n",
    "\n"
   ]
  },
  {
   "cell_type": "code",
   "execution_count": 171,
   "id": "e1daffc6",
   "metadata": {},
   "outputs": [
    {
     "name": "stdout",
     "output_type": "stream",
     "text": [
      "Epoch 1/100, Train Loss: 1.0955, Val Loss: 1.1339\n",
      "Epoch 2/100, Train Loss: 1.0641, Val Loss: 1.1123\n",
      "Epoch 3/100, Train Loss: 1.0335, Val Loss: 1.0918\n",
      "Epoch 4/100, Train Loss: 1.0121, Val Loss: 1.0718\n",
      "Epoch 5/100, Train Loss: 0.9839, Val Loss: 1.0520\n",
      "Epoch 6/100, Train Loss: 0.9643, Val Loss: 1.0328\n",
      "Epoch 7/100, Train Loss: 0.9339, Val Loss: 1.0120\n",
      "Epoch 8/100, Train Loss: 0.9136, Val Loss: 0.9903\n",
      "Epoch 9/100, Train Loss: 0.8836, Val Loss: 0.9666\n",
      "Epoch 10/100, Train Loss: 0.8767, Val Loss: 0.9436\n",
      "Epoch 11/100, Train Loss: 0.8459, Val Loss: 0.9196\n",
      "Epoch 12/100, Train Loss: 0.8178, Val Loss: 0.8968\n",
      "Epoch 13/100, Train Loss: 0.7900, Val Loss: 0.8735\n",
      "Epoch 14/100, Train Loss: 0.7692, Val Loss: 0.8505\n",
      "Epoch 15/100, Train Loss: 0.7464, Val Loss: 0.8278\n",
      "Epoch 16/100, Train Loss: 0.7295, Val Loss: 0.8048\n",
      "Epoch 17/100, Train Loss: 0.7009, Val Loss: 0.7817\n",
      "Epoch 18/100, Train Loss: 0.6693, Val Loss: 0.7603\n",
      "Epoch 19/100, Train Loss: 0.6425, Val Loss: 0.7404\n",
      "Epoch 20/100, Train Loss: 0.6395, Val Loss: 0.7184\n",
      "Epoch 21/100, Train Loss: 0.6100, Val Loss: 0.6972\n",
      "Epoch 22/100, Train Loss: 0.5916, Val Loss: 0.6732\n",
      "Epoch 23/100, Train Loss: 0.5696, Val Loss: 0.6516\n",
      "Epoch 24/100, Train Loss: 0.5517, Val Loss: 0.6317\n",
      "Epoch 25/100, Train Loss: 0.5265, Val Loss: 0.6114\n",
      "Epoch 26/100, Train Loss: 0.5067, Val Loss: 0.5923\n",
      "Epoch 27/100, Train Loss: 0.5006, Val Loss: 0.5754\n",
      "Epoch 28/100, Train Loss: 0.4629, Val Loss: 0.5569\n",
      "Epoch 29/100, Train Loss: 0.4547, Val Loss: 0.5392\n",
      "Epoch 30/100, Train Loss: 0.4405, Val Loss: 0.5215\n",
      "Epoch 31/100, Train Loss: 0.4119, Val Loss: 0.5030\n",
      "Epoch 32/100, Train Loss: 0.4068, Val Loss: 0.4858\n",
      "Epoch 33/100, Train Loss: 0.3737, Val Loss: 0.4694\n",
      "Epoch 34/100, Train Loss: 0.3752, Val Loss: 0.4529\n",
      "Epoch 35/100, Train Loss: 0.3518, Val Loss: 0.4373\n",
      "Epoch 36/100, Train Loss: 0.3266, Val Loss: 0.4216\n",
      "Epoch 37/100, Train Loss: 0.3178, Val Loss: 0.4063\n",
      "Epoch 38/100, Train Loss: 0.3060, Val Loss: 0.3930\n",
      "Epoch 39/100, Train Loss: 0.3020, Val Loss: 0.3839\n",
      "Epoch 40/100, Train Loss: 0.2693, Val Loss: 0.3747\n",
      "Epoch 41/100, Train Loss: 0.2637, Val Loss: 0.3639\n",
      "Epoch 42/100, Train Loss: 0.2456, Val Loss: 0.3518\n",
      "Epoch 43/100, Train Loss: 0.2418, Val Loss: 0.3416\n",
      "Epoch 44/100, Train Loss: 0.2256, Val Loss: 0.3307\n",
      "Epoch 45/100, Train Loss: 0.2224, Val Loss: 0.3207\n",
      "Epoch 46/100, Train Loss: 0.2087, Val Loss: 0.3110\n",
      "Epoch 47/100, Train Loss: 0.2060, Val Loss: 0.3022\n",
      "Epoch 48/100, Train Loss: 0.1939, Val Loss: 0.2947\n",
      "Epoch 49/100, Train Loss: 0.1747, Val Loss: 0.2878\n",
      "Epoch 50/100, Train Loss: 0.1717, Val Loss: 0.2822\n",
      "Epoch 51/100, Train Loss: 0.1692, Val Loss: 0.2746\n",
      "Epoch 52/100, Train Loss: 0.1551, Val Loss: 0.2682\n",
      "Epoch 53/100, Train Loss: 0.1556, Val Loss: 0.2626\n",
      "Epoch 54/100, Train Loss: 0.1435, Val Loss: 0.2582\n",
      "Epoch 55/100, Train Loss: 0.1369, Val Loss: 0.2532\n",
      "Epoch 56/100, Train Loss: 0.1365, Val Loss: 0.2473\n",
      "Epoch 57/100, Train Loss: 0.1196, Val Loss: 0.2427\n",
      "Epoch 58/100, Train Loss: 0.1193, Val Loss: 0.2394\n",
      "Epoch 59/100, Train Loss: 0.1258, Val Loss: 0.2360\n",
      "Epoch 60/100, Train Loss: 0.1145, Val Loss: 0.2308\n",
      "Epoch 61/100, Train Loss: 0.1075, Val Loss: 0.2278\n",
      "Epoch 62/100, Train Loss: 0.1072, Val Loss: 0.2250\n",
      "Epoch 63/100, Train Loss: 0.0917, Val Loss: 0.2229\n",
      "Epoch 64/100, Train Loss: 0.0970, Val Loss: 0.2203\n",
      "Epoch 65/100, Train Loss: 0.0939, Val Loss: 0.2188\n",
      "Epoch 66/100, Train Loss: 0.0893, Val Loss: 0.2168\n",
      "Epoch 67/100, Train Loss: 0.0838, Val Loss: 0.2150\n",
      "Epoch 68/100, Train Loss: 0.0810, Val Loss: 0.2120\n",
      "Epoch 69/100, Train Loss: 0.0659, Val Loss: 0.2099\n",
      "Epoch 70/100, Train Loss: 0.0717, Val Loss: 0.2087\n",
      "Epoch 71/100, Train Loss: 0.0731, Val Loss: 0.2068\n",
      "Epoch 72/100, Train Loss: 0.0627, Val Loss: 0.2047\n",
      "Epoch 73/100, Train Loss: 0.0628, Val Loss: 0.2028\n",
      "Epoch 74/100, Train Loss: 0.0673, Val Loss: 0.2018\n",
      "Epoch 75/100, Train Loss: 0.0610, Val Loss: 0.2008\n",
      "Epoch 76/100, Train Loss: 0.0530, Val Loss: 0.2006\n",
      "Epoch 77/100, Train Loss: 0.0543, Val Loss: 0.2003\n",
      "Epoch 78/100, Train Loss: 0.0593, Val Loss: 0.2005\n",
      "Epoch 79/100, Train Loss: 0.0533, Val Loss: 0.2005\n",
      "Epoch 80/100, Train Loss: 0.0510, Val Loss: 0.2002\n",
      "Epoch 81/100, Train Loss: 0.0480, Val Loss: 0.1997\n",
      "Epoch 82/100, Train Loss: 0.0469, Val Loss: 0.1997\n",
      "Epoch 83/100, Train Loss: 0.0454, Val Loss: 0.1996\n",
      "Epoch 84/100, Train Loss: 0.0430, Val Loss: 0.1995\n",
      "Epoch 85/100, Train Loss: 0.0402, Val Loss: 0.1998\n",
      "Epoch 86/100, Train Loss: 0.0386, Val Loss: 0.1996\n",
      "Epoch 87/100, Train Loss: 0.0378, Val Loss: 0.1997\n",
      "Epoch 88/100, Train Loss: 0.0355, Val Loss: 0.2003\n",
      "Epoch 89/100, Train Loss: 0.0408, Val Loss: 0.2010\n",
      " Early stopping triggered at epoch 89\n",
      "📊 Training Accuracy: 1.0000\n",
      " Validation Accuracy: 0.8889\n",
      "Classification Report:\n",
      "               precision    recall  f1-score   support\n",
      "\n",
      "          AD       0.73      1.00      0.85        30\n",
      "          CN       0.92      1.00      0.96        45\n",
      "         MCI       1.00      0.75      0.86        60\n",
      "\n",
      "    accuracy                           0.89       135\n",
      "   macro avg       0.88      0.92      0.89       135\n",
      "weighted avg       0.91      0.89      0.89       135\n",
      "\n"
     ]
    },
    {
     "data": {
      "image/png": "[encoded data removed]",
      "text/plain": [
       "<Figure size 600x500 with 2 Axes>"
      ]
     },
     "metadata": {},
     "output_type": "display_data"
    }
   ],
   "source": [
    "from sklearn.metrics import accuracy_score, classification_report, confusion_matrix\n",
    "import matplotlib.pyplot as plt\n",
    "import numpy as np\n",
    "import seaborn as sns\n",
    "from imblearn.over_sampling import RandomOverSampler\n",
    "from sklearn.ensemble import RandomForestClassifier\n",
    "from xgboost import XGBClassifier\n",
    "import torch.nn as nn\n",
    "from sklearn.utils.class_weight import compute_sample_weight\n",
    "from imblearn.over_sampling import SMOTE\n",
    "import torch \n",
    "from torch.utils.data import DataLoader, TensorDataset\n",
    "from sklearn.preprocessing import StandardScaler\n",
    "\n",
    "# Load data\n",
    "X_train = np.load(\"train_features_coronal.npy\")\n",
    "y_train = np.load(\"train_labels_coronal.npy\")\n",
    "X_val = np.load(\"val_features_coronal.npy\")\n",
    "y_val = np.load(\"val_labels_coronal.npy\")\n",
    "\n",
    "# y_train = np.where(y_train == 2, 1, 0)\n",
    "# y_val = np.where(y_val == 2, 1, 0)\n",
    "\n",
    "# Optional: if your MLP has 1024 input, pad image/text features accordingly\n",
    "# assert X_train.shape[1] == 1024\n",
    "\n",
    "# Scale inputs\n",
    "scaler = StandardScaler()\n",
    "X_train = scaler.fit_transform(X_train)\n",
    "X_val = scaler.transform(X_val)\n",
    "\n",
    "sm = SMOTE(random_state=42)\n",
    "X_train_bal, y_train_bal = sm.fit_resample(X_train, y_train)\n",
    "\n",
    "# Convert to PyTorch tensors\n",
    "X_train_tensor = torch.tensor(X_train_bal, dtype=torch.float32)\n",
    "y_train_tensor = torch.tensor(y_train_bal, dtype=torch.long)\n",
    "X_val_tensor = torch.tensor(X_val, dtype=torch.float32)\n",
    "y_val_tensor = torch.tensor(y_val, dtype=torch.long)\n",
    "\n",
    "# Create datasets and dataloaders\n",
    "train_dataset = TensorDataset(X_train_tensor, y_train_tensor)\n",
    "val_dataset = TensorDataset(X_val_tensor, y_val_tensor)\n",
    "\n",
    "train_loader = DataLoader(train_dataset, batch_size=128, shuffle=True)\n",
    "val_loader = DataLoader(val_dataset, batch_size=128)\n",
    "\n",
    "\n",
    "\n",
    "input_dim = X_train.shape[1]  # or manually set to 256 for image-only\n",
    "model = MLPWithDropout(input_dim).to(device).to(\"cuda\" if torch.cuda.is_available() else \"cpu\")\n",
    "criterion = nn.CrossEntropyLoss()\n",
    "optimizer = torch.optim.Adam(model.parameters(), lr=1e-4)\n",
    "\n",
    "# Early stop[ping variables\n",
    "num_epochs = 100\n",
    "patience = 5  # how many epochs to wait before early stopping\n",
    "\n",
    "train_losses = []\n",
    "val_losses = []\n",
    "\n",
    "best_val_loss = float(\"inf\")\n",
    "early_stop_epoch = -1\n",
    "epochs_no_improve = 0\n",
    "best_model_state = None\n",
    "\n",
    "\n",
    "for epoch in range(num_epochs):\n",
    "    model.train()\n",
    "    total_loss = 0\n",
    "\n",
    "    \n",
    "    for xb, yb in train_loader:\n",
    "        xb, yb = xb.to(device), yb.to(device)\n",
    "        optimizer.zero_grad()\n",
    "        out = model(xb)  # logits (batch, num_classes)\n",
    "        loss = criterion(out, yb)  # labels are ints 0..2\n",
    "        loss.backward()\n",
    "        optimizer.step()\n",
    "        total_loss += loss.item()\n",
    "\n",
    "    avg_train_loss = total_loss / len(train_loader)\n",
    "    train_losses.append(avg_train_loss)\n",
    "\n",
    "    # ---------------- Validation and Early Stopping ----------------\n",
    "    model.eval()\n",
    "    val_loss = 0.0\n",
    "    y_val_preds = []\n",
    "    y_val_true = []\n",
    "\n",
    "    with torch.no_grad():\n",
    "        for xb, yb in val_loader:\n",
    "            xb, yb = xb.to(device), yb.to(device)\n",
    "            out = model(xb)\n",
    "            loss = criterion(out, yb)\n",
    "            val_loss += loss.item()\n",
    "            preds = torch.argmax(out, dim=1)\n",
    "            y_val_preds.extend(preds.cpu().numpy())\n",
    "            y_val_true.extend(yb.cpu().numpy())\n",
    "\n",
    "    avg_val_loss = val_loss / len(val_loader)\n",
    "    val_losses.append(avg_val_loss)\n",
    "\n",
    "    print(f\"Epoch {epoch+1}/{num_epochs}, Train Loss: {avg_train_loss:.4f}, Val Loss: {avg_val_loss:.4f}\")\n",
    "\n",
    "    if avg_val_loss < best_val_loss:\n",
    "        best_val_loss = avg_val_loss\n",
    "        epochs_no_improve = 0\n",
    "        early_stop_epoch = epoch\n",
    "        best_model_state = model.state_dict()\n",
    "\n",
    "    else:\n",
    "        epochs_no_improve += 1\n",
    "        if epochs_no_improve >= patience:\n",
    "            early_stop_epoch = epoch  # ⏹️ Where stopping actually happens\n",
    "            print(f\" Early stopping triggered at epoch {epoch+1}\")\n",
    "            break\n",
    "# 🔹 Evaluate on Training Set\n",
    "model.eval()\n",
    "y_train_preds = []\n",
    "y_train_true = []\n",
    "with torch.no_grad():\n",
    "    for xb, yb in train_loader:\n",
    "        xb = xb.to(device)\n",
    "        out = model(xb)\n",
    "        preds = torch.argmax(out, dim=1)\n",
    "        y_train_preds.extend(preds.cpu().numpy())\n",
    "        y_train_true.extend(yb.numpy())\n",
    "\n",
    "    # Training Metrics\n",
    "    train_acc = accuracy_score(y_train_true, y_train_preds)\n",
    "    print(f\"📊 Training Accuracy: {train_acc:.4f}\")\n",
    "\n",
    "# Restore best model\n",
    "model.load_state_dict(best_model_state)\n",
    "\n",
    "# Final evaluation on validation set\n",
    "val_acc = accuracy_score(y_val_true, y_val_preds)\n",
    "print(f\" Validation Accuracy: {val_acc:.4f}\")\n",
    "print(\"Classification Report:\\n\", classification_report(y_val_true, y_val_preds, target_names=[\"AD\",\"CN\", \"MCI\"]))\n",
    "\n",
    "cm = confusion_matrix(y_val_true, y_val_preds)\n",
    "plt.figure(figsize=(6, 5))\n",
    "sns.heatmap(cm, annot=True, fmt=\"d\", cmap=\"Purples\", xticklabels=[\"AD\",\"CN\", \"MCI\"], yticklabels=[\"AD\",\"CN\", \"MCI\"])\n",
    "plt.xlabel(\"Predicted\")\n",
    "plt.ylabel(\"True\")\n",
    "plt.title(\"Confusion Matrix - MLP (Validation Set)\")\n",
    "plt.tight_layout()\n",
    "plt.show()"
   ]
  },
  {
   "cell_type": "code",
   "execution_count": 172,
   "id": "7dccc1fe",
   "metadata": {},
   "outputs": [
    {
     "data": {
      "image/png": "[encoded data removed]",
      "text/plain": [
       "<Figure size 800x500 with 1 Axes>"
      ]
     },
     "metadata": {},
     "output_type": "display_data"
    }
   ],
   "source": [
    "# 🔻 Loss Curve with Early Stopping Marker\n",
    "plt.figure(figsize=(8, 5))\n",
    "plt.plot(train_losses, label='Train Loss', color='blue', linewidth=2)\n",
    "plt.plot(val_losses, label='Validation Loss', color='orange', linewidth=2)\n",
    "\n",
    "# Mark early stopping epoch\n",
    "if early_stop_epoch != -1:\n",
    "    plt.axvline(early_stop_epoch, color='red', linestyle='--', label=f\"Early Stop @ Epoch {early_stop_epoch+1}\")\n",
    "\n",
    "plt.xlabel(\"Epoch\")\n",
    "plt.ylabel(\"Loss\")\n",
    "plt.title(\"Training vs Validation Loss Curve\")\n",
    "plt.legend()\n",
    "plt.grid(True)\n",
    "plt.tight_layout()\n",
    "plt.show()"
   ]
  },
  {
   "cell_type": "code",
   "execution_count": 173,
   "id": "82e51e25",
   "metadata": {},
   "outputs": [
    {
     "name": "stdout",
     "output_type": "stream",
     "text": [
      "\n",
      " Accuracy: 0.8889\n",
      "\n",
      " Classification Report:\n",
      "              precision    recall  f1-score   support\n",
      "\n",
      "          AD       0.73      1.00      0.85        30\n",
      "          CN       0.92      1.00      0.96        45\n",
      "         MCI       1.00      0.75      0.86        60\n",
      "\n",
      "    accuracy                           0.89       135\n",
      "   macro avg       0.88      0.92      0.89       135\n",
      "weighted avg       0.91      0.89      0.89       135\n",
      "\n"
     ]
    }
   ],
   "source": [
    "from sklearn.metrics import classification_report, accuracy_score\n",
    "\n",
    "# Assuming y_test and y_pred are already defined from your previous evaluation\n",
    "\n",
    "# Define class labels (you can update these if your label encoding is different)\n",
    "class_names = ['AD', 'CN', 'MCI']\n",
    "\n",
    "# Accuracy\n",
    "accuracy = accuracy_score(y_val_true, y_val_preds)\n",
    "print(f\"\\n Accuracy: {accuracy:.4f}\")\n",
    "\n",
    "# Precision, Recall, F1-score\n",
    "print(\"\\n Classification Report:\")\n",
    "print(classification_report(y_val_true, y_val_preds, target_names=class_names))\n"
   ]
  },
  {
   "cell_type": "code",
   "execution_count": 174,
   "id": "f517f460",
   "metadata": {},
   "outputs": [
    {
     "name": "stdout",
     "output_type": "stream",
     "text": [
      "🧪 Test Accuracy: 0.6148\n",
      "Classification Report (Test Set):\n",
      "               precision    recall  f1-score   support\n",
      "\n",
      "          AD       0.85      0.38      0.52        45\n",
      "          CN       0.61      0.91      0.73        45\n",
      "         MCI       0.52      0.56      0.54        45\n",
      "\n",
      "    accuracy                           0.61       135\n",
      "   macro avg       0.66      0.61      0.60       135\n",
      "weighted avg       0.66      0.61      0.60       135\n",
      "\n"
     ]
    },
    {
     "data": {
      "image/png": "[encoded data removed]",
      "text/plain": [
       "<Figure size 600x500 with 2 Axes>"
      ]
     },
     "metadata": {},
     "output_type": "display_data"
    }
   ],
   "source": [
    "# -------------------- Load Test Data --------------------\n",
    "X_test = np.load(\"test_features_coronal.npy\")\n",
    "y_test = np.load(\"test_labels_coronal.npy\")\n",
    "\n",
    "# Optional: same binary mapping as train/val if needed\n",
    "# y_test = np.where(y_test == 2, 1, 0)\n",
    "\n",
    "# Scale with the SAME scaler fitted on training data\n",
    "X_test = scaler.transform(X_test)\n",
    "\n",
    "# Convert to PyTorch tensors\n",
    "X_test_tensor = torch.tensor(X_test, dtype=torch.float32)\n",
    "y_test_tensor = torch.tensor(y_test, dtype=torch.long)\n",
    "\n",
    "# Create DataLoader for test set\n",
    "test_dataset = TensorDataset(X_test_tensor, y_test_tensor)\n",
    "test_loader = DataLoader(test_dataset, batch_size=128, shuffle=False)\n",
    "\n",
    "# -------------------- Evaluate on Test Set --------------------\n",
    "model.eval()  # put model in evaluation mode\n",
    "y_test_preds = []\n",
    "y_test_true = []\n",
    "\n",
    "with torch.no_grad():\n",
    "    for xb, yb in test_loader:\n",
    "        xb, yb = xb.to(device), yb.to(device)\n",
    "        out = model(xb)\n",
    "        preds = torch.argmax(out, dim=1)\n",
    "        y_test_preds.extend(preds.cpu().numpy())\n",
    "        y_test_true.extend(yb.cpu().numpy())\n",
    "\n",
    "# Test Accuracy\n",
    "test_acc = accuracy_score(y_test_true, y_test_preds)\n",
    "print(f\"🧪 Test Accuracy: {test_acc:.4f}\")\n",
    "\n",
    "# Classification Report\n",
    "print(\"Classification Report (Test Set):\\n\",\n",
    "      classification_report(y_test_true, y_test_preds, target_names=[\"AD\",\"CN\",\"MCI\"]))\n",
    "\n",
    "# Confusion Matrix\n",
    "cm_test = confusion_matrix(y_test_true, y_test_preds)\n",
    "plt.figure(figsize=(6, 5))\n",
    "sns.heatmap(cm_test, annot=True, fmt=\"d\", cmap=\"Blues\",\n",
    "            xticklabels=[\"AD\",\"CN\",\"MCI\"], yticklabels=[\"AD\",\"CN\",\"MCI\"])\n",
    "plt.xlabel(\"Predicted\")\n",
    "plt.ylabel(\"True\")\n",
    "plt.title(\"Confusion Matrix - MLP (Test Set)\")\n",
    "plt.tight_layout()\n",
    "plt.show()"
   ]
  },
  {
   "cell_type": "markdown",
   "id": "a46e7a2d",
   "metadata": {},
   "source": [
    "VISUALISE THE RAW DATA FEATURES"
   ]
  },
  {
   "cell_type": "code",
   "execution_count": 170,
   "id": "c5bed1f9",
   "metadata": {},
   "outputs": [
    {
     "name": "stderr",
     "output_type": "stream",
     "text": [
      "/opt/anaconda3/lib/python3.12/site-packages/umap/umap_.py:1952: UserWarning: n_jobs value 1 overridden to 1 by setting random_state. Use no seed for parallelism.\n",
      "  warn(\n"
     ]
    },
    {
     "data": {
      "image/png": "[encoded data removed]",
      "text/plain": [
       "<Figure size 800x600 with 1 Axes>"
      ]
     },
     "metadata": {},
     "output_type": "display_data"
    }
   ],
   "source": [
    "import numpy as np\n",
    "import matplotlib.pyplot as plt\n",
    "import umap.umap_ as umap\n",
    "from sklearn.preprocessing import StandardScaler\n",
    "\n",
    "\n",
    "# Load your features and labels (you can choose train/val/test)\n",
    "X = np.load(\"test_features_coronal.npy\")  # Shape: (samples, 640)\n",
    "y = np.load(\"test_labels_coronal.npy\")    # Shape: (samples,)\n",
    "\n",
    "# X = StandardScaler().fit_transform(X)\n",
    "\n",
    "# Initialize UMAP reducer\n",
    "reducer = umap.UMAP(\n",
    "    n_neighbors=4,   # controls local vs global structure\n",
    "    min_dist=0.1,     # smaller = more clustered points\n",
    "    n_components=3,   # 2D projection (set 3 for 3D)\n",
    "    random_state=42\n",
    ")\n",
    "\n",
    "# Fit and transform\n",
    "embedding = reducer.fit_transform(X)  # Shape: (samples, 2)\n",
    "\n",
    "# Plot\n",
    "plt.figure(figsize=(8, 6))\n",
    "scatter = plt.scatter(embedding[:, 0], embedding[:, 1], c=y, cmap='viridis', s=10, alpha=0.7)\n",
    "plt.legend(handles=scatter.legend_elements()[0], labels=[\"AD\", \"CN\", \"MCI\"])\n",
    "plt.title(\"UMAP Projection of Fused Features (Train Set)\")\n",
    "plt.xlabel(\"UMAP-1\")\n",
    "plt.ylabel(\"UMAP-2\")\n",
    "plt.show()"
   ]
  },
  {
   "cell_type": "code",
   "execution_count": 169,
   "id": "84524970",
   "metadata": {},
   "outputs": [
    {
     "name": "stderr",
     "output_type": "stream",
     "text": [
      "/opt/anaconda3/lib/python3.12/site-packages/umap/umap_.py:1952: UserWarning: n_jobs value 1 overridden to 1 by setting random_state. Use no seed for parallelism.\n",
      "  warn(\n"
     ]
    },
    {
     "data": {
      "image/png": "[encoded data removed]",
      "text/plain": [
       "<Figure size 800x600 with 1 Axes>"
      ]
     },
     "metadata": {},
     "output_type": "display_data"
    }
   ],
   "source": [
    "import umap.umap_ as umap\n",
    "import matplotlib.pyplot as plt\n",
    "import torch\n",
    "import numpy as np\n",
    "\n",
    "# Function to extract embeddings from the trained model\n",
    "def get_embeddings(model, dataloader, device):\n",
    "    model.eval()\n",
    "    embeddings = []\n",
    "    labels = []\n",
    "\n",
    "    # Extract everything except the final classification layer\n",
    "    feature_extractor = torch.nn.Sequential(*list(model.net.children())[:-1])\n",
    "\n",
    "    with torch.no_grad():\n",
    "        for xb, yb in dataloader:\n",
    "            xb = xb.to(device)\n",
    "            feats = feature_extractor(xb)  # shape: (batch, 64)\n",
    "            embeddings.append(feats.cpu().numpy())\n",
    "            labels.append(yb.numpy())\n",
    "\n",
    "    embeddings = np.vstack(embeddings)\n",
    "    labels = np.hstack(labels)\n",
    "    return embeddings, labels\n",
    "\n",
    "# Get embeddings for your test set\n",
    "test_embeddings, test_labels = get_embeddings(model, test_loader, device)\n",
    "\n",
    "# Scale for UMAP\n",
    "from sklearn.preprocessing import StandardScaler\n",
    "scaled_embeds = StandardScaler().fit_transform(test_embeddings)\n",
    "\n",
    "# UMAP projection to 2D\n",
    "reducer = umap.UMAP(n_neighbors=15, min_dist=0.1, n_components=2, random_state=42)\n",
    "umap_embeds = reducer.fit_transform(scaled_embeds)\n",
    "\n",
    "# Plot\n",
    "plt.figure(figsize=(8, 6))\n",
    "scatter = plt.scatter(umap_embeds[:, 0], umap_embeds[:, 1], c=test_labels, cmap='viridis', s=10, alpha=0.7)\n",
    "plt.legend(handles=scatter.legend_elements()[0], labels=[\"AD\", \"CN\", \"MCI\"])\n",
    "plt.title(\"UMAP Projection from Model's Last Hidden Layer (Test Set)\")\n",
    "plt.xlabel(\"UMAP-1\")\n",
    "plt.ylabel(\"UMAP-2\")\n",
    "plt.show()"
   ]
  },
  {
   "cell_type": "code",
   "execution_count": null,
   "id": "f9a86732",
   "metadata": {},
   "outputs": [],
   "source": []
  }
 ],
 "metadata": {
  "kernelspec": {
   "display_name": "base",
   "language": "python",
   "name": "python3"
  },
  "language_info": {
   "codemirror_mode": {
    "name": "ipython",
    "version": 3
   },
   "file_extension": ".py",
   "mimetype": "text/x-python",
   "name": "python",
   "nbconvert_exporter": "python",
   "pygments_lexer": "ipython3",
   "version": "3.12.4"
  }
 },
 "nbformat": 4,
 "nbformat_minor": 5
}
