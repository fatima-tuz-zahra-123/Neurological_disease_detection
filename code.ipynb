{
 "cells": [
  {
   "cell_type": "code",
   "execution_count": 46,
   "id": "15af0bb1",
   "metadata": {},
   "outputs": [
    {
     "name": "stdout",
     "output_type": "stream",
     "text": [
      "Total images in testing folder: 84825\n"
     ]
    }
   ],
   "source": [
    "import os\n",
    "total_images = 0\n",
    "base_dir = r\"/Users/fatimatuzzahra/Downloads/processed_slices/train\"\n",
    "\n",
    "for root, dirs, files in os.walk(base_dir):\n",
    "    for file in files:\n",
    "        if file.lower().endswith('.png'):\n",
    "            total_images += 1\n",
    "\n",
    "print(\"Total images in testing folder:\", total_images)\n"
   ]
  },
  {
   "cell_type": "code",
   "execution_count": 47,
   "id": "33933561",
   "metadata": {},
   "outputs": [
    {
     "name": "stdout",
     "output_type": "stream",
     "text": [
      "AD axial images: 17575\n",
      "CN axial images: 25795\n",
      "MCI axial images: 41455\n",
      "Total axial images: 84825\n"
     ]
    }
   ],
   "source": [
    "base_dir = r\"/Users/fatimatuzzahra/Downloads/processed_slices/train\"\n",
    "class_names = ['AD', 'CN', 'MCI']\n",
    "total_images = 0\n",
    "\n",
    "for class_name in class_names:\n",
    "    path = os.path.join(base_dir, class_name, 'axial')\n",
    "    if os.path.exists(path):\n",
    "        num_files = len([f for f in os.listdir(path) if f.lower().endswith('.png')])\n",
    "        print(f\"{class_name} axial images: {num_files}\")\n",
    "        total_images += num_files\n",
    "    else:\n",
    "        print(f\" Path not found: {path}\")\n",
    "\n",
    "print(\"Total axial images:\", total_images)\n"
   ]
  },
  {
   "cell_type": "code",
   "execution_count": 43,
   "id": "f4d13273",
   "metadata": {},
   "outputs": [
    {
     "name": "stdout",
     "output_type": "stream",
     "text": [
      "Collecting imgaug\n",
      "  Downloading imgaug-0.4.0-py2.py3-none-any.whl.metadata (1.8 kB)\n",
      "Requirement already satisfied: six in /opt/anaconda3/lib/python3.12/site-packages (from imgaug) (1.16.0)\n",
      "Requirement already satisfied: numpy>=1.15 in /opt/anaconda3/lib/python3.12/site-packages (from imgaug) (1.26.4)\n",
      "Requirement already satisfied: scipy in /opt/anaconda3/lib/python3.12/site-packages (from imgaug) (1.13.1)\n",
      "Requirement already satisfied: Pillow in /opt/anaconda3/lib/python3.12/site-packages (from imgaug) (10.3.0)\n",
      "Requirement already satisfied: matplotlib in /opt/anaconda3/lib/python3.12/site-packages (from imgaug) (3.8.4)\n",
      "Requirement already satisfied: scikit-image>=0.14.2 in /opt/anaconda3/lib/python3.12/site-packages (from imgaug) (0.23.2)\n",
      "Requirement already satisfied: opencv-python in /opt/anaconda3/lib/python3.12/site-packages (from imgaug) (4.11.0.86)\n",
      "Requirement already satisfied: imageio in /opt/anaconda3/lib/python3.12/site-packages (from imgaug) (2.33.1)\n",
      "Collecting Shapely (from imgaug)\n",
      "  Downloading shapely-2.1.1-cp312-cp312-macosx_11_0_arm64.whl.metadata (6.8 kB)\n",
      "Requirement already satisfied: networkx>=2.8 in /opt/anaconda3/lib/python3.12/site-packages (from scikit-image>=0.14.2->imgaug) (3.2.1)\n",
      "Requirement already satisfied: tifffile>=2022.8.12 in /opt/anaconda3/lib/python3.12/site-packages (from scikit-image>=0.14.2->imgaug) (2023.4.12)\n",
      "Requirement already satisfied: packaging>=21 in /opt/anaconda3/lib/python3.12/site-packages (from scikit-image>=0.14.2->imgaug) (23.2)\n",
      "Requirement already satisfied: lazy-loader>=0.4 in /opt/anaconda3/lib/python3.12/site-packages (from scikit-image>=0.14.2->imgaug) (0.4)\n",
      "Requirement already satisfied: contourpy>=1.0.1 in /opt/anaconda3/lib/python3.12/site-packages (from matplotlib->imgaug) (1.2.0)\n",
      "Requirement already satisfied: cycler>=0.10 in /opt/anaconda3/lib/python3.12/site-packages (from matplotlib->imgaug) (0.11.0)\n",
      "Requirement already satisfied: fonttools>=4.22.0 in /opt/anaconda3/lib/python3.12/site-packages (from matplotlib->imgaug) (4.51.0)\n",
      "Requirement already satisfied: kiwisolver>=1.3.1 in /opt/anaconda3/lib/python3.12/site-packages (from matplotlib->imgaug) (1.4.4)\n",
      "Requirement already satisfied: pyparsing>=2.3.1 in /opt/anaconda3/lib/python3.12/site-packages (from matplotlib->imgaug) (3.0.9)\n",
      "Requirement already satisfied: python-dateutil>=2.7 in /opt/anaconda3/lib/python3.12/site-packages (from matplotlib->imgaug) (2.9.0.post0)\n",
      "Downloading imgaug-0.4.0-py2.py3-none-any.whl (948 kB)\n",
      "\u001b[2K   \u001b[90m━━━━━━━━━━━━━━━━━━━━━━━━━━━━━━━━━━━━━━━━\u001b[0m \u001b[32m948.0/948.0 kB\u001b[0m \u001b[31m2.1 MB/s\u001b[0m eta \u001b[36m0:00:00\u001b[0m00:01\u001b[0m00:01\u001b[0mm\n",
      "\u001b[?25hDownloading shapely-2.1.1-cp312-cp312-macosx_11_0_arm64.whl (1.6 MB)\n",
      "\u001b[2K   \u001b[90m━━━━━━━━━━━━━━━━━━━━━━━━━━━━━━━━━━━━━━━━\u001b[0m \u001b[32m1.6/1.6 MB\u001b[0m \u001b[31m9.8 MB/s\u001b[0m eta \u001b[36m0:00:00\u001b[0mta \u001b[36m0:00:01\u001b[0m\n",
      "\u001b[?25hInstalling collected packages: Shapely, imgaug\n",
      "Successfully installed Shapely-2.1.1 imgaug-0.4.0\n"
     ]
    }
   ],
   "source": [
    "! pip install imgaug"
   ]
  },
  {
   "cell_type": "code",
   "execution_count": 78,
   "id": "992716d1",
   "metadata": {},
   "outputs": [
    {
     "name": "stdout",
     "output_type": "stream",
     "text": [
      "AD\n"
     ]
    },
    {
     "name": "stderr",
     "output_type": "stream",
     "text": [
      "Processing AD: 100%|██████████| 17575/17575 [33:42<00:00,  8.69it/s] \n"
     ]
    },
    {
     "name": "stdout",
     "output_type": "stream",
     "text": [
      "CN\n"
     ]
    },
    {
     "name": "stderr",
     "output_type": "stream",
     "text": [
      "Processing CN: 100%|██████████| 25795/25795 [48:58<00:00,  8.78it/s] \n"
     ]
    },
    {
     "name": "stdout",
     "output_type": "stream",
     "text": [
      "MCI\n"
     ]
    },
    {
     "name": "stderr",
     "output_type": "stream",
     "text": [
      "Processing MCI: 100%|██████████| 41455/41455 [2:51:52<00:00,  4.02it/s]     \n"
     ]
    },
    {
     "name": "stdout",
     "output_type": "stream",
     "text": [
      "Feature vectors saved:\n",
      "train_features_axial.npy\n",
      "train_labels_axial.npy\n",
      "train_image_paths_axial.npy\n"
     ]
    }
   ],
   "source": [
    "import os\n",
    "import numpy as np\n",
    "from tqdm import tqdm\n",
    "import imgaug.augmenters as iaa\n",
    "from tensorflow.keras.applications.efficientnet import EfficientNetB0, preprocess_input\n",
    "# from tensorflow.keras.applications import DenseNet121.  # densenet code\n",
    "from tensorflow.keras.preprocessing.image import load_img, img_to_array\n",
    "from tensorflow.keras.models import Model\n",
    "from tensorflow.keras.layers import GlobalAveragePooling2D, Dropout, Dense\n",
    "\n",
    "# Step 1: Load DenseNet121 architecture without weights for densenet\n",
    "# base_model = DenseNet121(weights=None, include_top=False, input_shape=(224, 224, 3))\n",
    "\n",
    "\n",
    "# Step 2: Load manually downloaded weights\n",
    "# weights_path = '/Users/fatimatuzzahra/Downloads/densenet121_weights_tf_dim_ordering_tf_kernels_notop.h5'\n",
    "# base_model.load_weights(weights_path)\n",
    "\n",
    "# EfficientNet ase model\n",
    "base_model = EfficientNetB0(weights='imagenet', include_top=False, input_shape=(224,224,3))\n",
    "# Step 3: Build feature extractor model (outputs 256-dim feature vectors)\n",
    "x = base_model.output\n",
    "x = GlobalAveragePooling2D()(x)\n",
    "x = Dropout(0.5)(x)\n",
    "x = Dense(256, activation='relu')(x)\n",
    "feature_extractor = Model(inputs=base_model.input, outputs=x)\n",
    "\n",
    "# Step 4: Setup paths and label mapping\n",
    "base_dir = r\"/Users/fatimatuzzahra/Downloads/processed_slices/train\"\n",
    "classes = ['AD', 'CN', 'MCI']\n",
    "label_map = {cls: idx for idx, cls in enumerate(classes)}\n",
    "\n",
    "features, labels, image_paths = [], [], []\n",
    "\n",
    "# Step 5: Loop through dataset and extract features\n",
    "for cls in classes:\n",
    "    print(cls)\n",
    "    class_dir = os.path.join(base_dir, cls, 'axial')\n",
    "    if not os.path.exists(class_dir):\n",
    "        print(f\"Directory not found: {class_dir}\")\n",
    "        continue\n",
    "\n",
    "    for fname in tqdm(os.listdir(class_dir), desc=f\"Processing {cls}\"):\n",
    "        if fname.lower().endswith('.png'):\n",
    "            img_path = os.path.join(class_dir, fname)\n",
    "            try:\n",
    "                img = load_img(img_path, target_size=(224, 224))\n",
    "                # Define augmentation pipeline\n",
    "                augmenter = iaa.Sequential([\n",
    "                    iaa.Fliplr(0.5),              # 50% chance to flip horizontally\n",
    "                    iaa.Affine(rotate=(-10, 10)),# Random rotation\n",
    "                    iaa.GaussianBlur(sigma=(0, 1.0))  # Optional: simulate motion blur\n",
    "                ])\n",
    "                # Load and convert image\n",
    "                img = load_img(img_path, target_size=(224, 224))\n",
    "                img_array = img_to_array(img).astype(np.uint8)\n",
    "\n",
    "                # --------- Original Image ---------\n",
    "                orig_array = np.expand_dims(preprocess_input(np.copy(img_array)), axis=0)\n",
    "                orig_feat = feature_extractor.predict(orig_array, verbose=0)[0]\n",
    "                features.append(orig_feat)\n",
    "                labels.append(label_map[cls])\n",
    "                image_paths.append(img_path)\n",
    "\n",
    "                # --------- Augmented Image ---------\n",
    "                aug_img = augmenter(image=np.copy(img_array))\n",
    "                aug_array = np.expand_dims(preprocess_input(aug_img), axis=0)\n",
    "                aug_feat = feature_extractor.predict(aug_array, verbose=0)[0]\n",
    "                features.append(aug_feat)\n",
    "                labels.append(label_map[cls])\n",
    "                image_paths.append(img_path + \"_aug\")  # optional: tag it for tracking\n",
    "\n",
    "            except Exception as e:\n",
    "                print(f\"Failed to process {img_path}: {e}\")\n",
    "\n",
    "# Step 6: Save features, labels, and paths\n",
    "features = np.array(features)\n",
    "labels = np.array(labels)\n",
    "image_paths = np.array(image_paths)\n",
    "\n",
    "np.save(\"train_features_axial.npy\", features)\n",
    "np.save(\"train_labels_axial.npy\", labels)\n",
    "np.save(\"train_image_paths_axial.npy\", image_paths)\n",
    "\n",
    "print(\"Feature vectors saved:\")\n",
    "print(\"train_features_axial.npy\")\n",
    "print(\"train_labels_axial.npy\")\n",
    "print(\"train_image_paths_axial.npy\")"
   ]
  },
  {
   "cell_type": "markdown",
   "id": "803ce3e5",
   "metadata": {},
   "source": [
    "same process as above for validation data"
   ]
  },
  {
   "cell_type": "code",
   "execution_count": 57,
   "id": "75cb0718",
   "metadata": {},
   "outputs": [
    {
     "name": "stdout",
     "output_type": "stream",
     "text": [
      "AD\n"
     ]
    },
    {
     "name": "stderr",
     "output_type": "stream",
     "text": [
      "Processing AD: 100%|██████████| 1870/1870 [01:49<00:00, 17.02it/s]\n"
     ]
    },
    {
     "name": "stdout",
     "output_type": "stream",
     "text": [
      "CN\n"
     ]
    },
    {
     "name": "stderr",
     "output_type": "stream",
     "text": [
      "Processing CN: 100%|██████████| 2585/2585 [02:29<00:00, 17.32it/s]\n"
     ]
    },
    {
     "name": "stdout",
     "output_type": "stream",
     "text": [
      "MCI\n"
     ]
    },
    {
     "name": "stderr",
     "output_type": "stream",
     "text": [
      "Processing MCI: 100%|██████████| 3960/3960 [03:51<00:00, 17.08it/s]"
     ]
    },
    {
     "name": "stdout",
     "output_type": "stream",
     "text": [
      "Feature vectors saved:\n",
      "val_features_axial.npy\n",
      "val_labels_axial.npy\n",
      "val_image_paths_axial.npy\n"
     ]
    },
    {
     "name": "stderr",
     "output_type": "stream",
     "text": [
      "\n"
     ]
    }
   ],
   "source": [
    "import os\n",
    "import numpy as np\n",
    "from tqdm import tqdm\n",
    "from tensorflow.keras.applications.efficientnet import EfficientNetB0, preprocess_input\n",
    "# from tensorflow.keras.applications import DenseNet121.  # densenet code\n",
    "from tensorflow.keras.preprocessing.image import load_img, img_to_array\n",
    "from tensorflow.keras.models import Model\n",
    "from tensorflow.keras.layers import GlobalAveragePooling2D, Dropout, Dense\n",
    "\n",
    "# Step 1: Load DenseNet121 architecture without weights for densenet\n",
    "# base_model = DenseNet121(weights=None, include_top=False, input_shape=(224, 224, 3))\n",
    "\n",
    "\n",
    "# Step 2: Load manually downloaded weights\n",
    "# weights_path = '/Users/fatimatuzzahra/Downloads/densenet121_weights_tf_dim_ordering_tf_kernels_notop.h5'\n",
    "# base_model.load_weights(weights_path)\n",
    "\n",
    "# EfficientNet ase model\n",
    "base_model = EfficientNetB0(weights='imagenet', include_top=False, input_shape=(224,224,3))\n",
    "# Step 3: Build feature extractor model (outputs 256-dim feature vectors)\n",
    "x = base_model.output\n",
    "x = GlobalAveragePooling2D()(x)\n",
    "x = Dropout(0.5)(x)\n",
    "x = Dense(256, activation='relu')(x)\n",
    "feature_extractor = Model(inputs=base_model.input, outputs=x)\n",
    "\n",
    "# Step 4: Setup paths and label mapping\n",
    "base_dir = r\"/Users/fatimatuzzahra/Downloads/processed_slices/val\"\n",
    "classes = ['AD', 'CN', 'MCI']\n",
    "label_map = {cls: idx for idx, cls in enumerate(classes)}\n",
    "\n",
    "features, labels, image_paths = [], [], []\n",
    "\n",
    "# Step 5: Loop through dataset and extract features\n",
    "for cls in classes:\n",
    "    print(cls)\n",
    "    class_dir = os.path.join(base_dir, cls, 'axial')\n",
    "    if not os.path.exists(class_dir):\n",
    "        print(f\"Directory not found: {class_dir}\")\n",
    "        continue\n",
    "\n",
    "    for fname in tqdm(os.listdir(class_dir), desc=f\"Processing {cls}\"):\n",
    "        if fname.lower().endswith('.png'):\n",
    "            img_path = os.path.join(class_dir, fname)\n",
    "            try:\n",
    "                img = load_img(img_path, target_size=(224, 224))\n",
    "                img_array = img_to_array(img)\n",
    "                img_array = np.expand_dims(img_array, axis=0)\n",
    "                img_array = preprocess_input(img_array)\n",
    "\n",
    "                feat = feature_extractor.predict(img_array, verbose=0)[0]\n",
    "                features.append(feat)\n",
    "                labels.append(label_map[cls])\n",
    "                image_paths.append(img_path)\n",
    "\n",
    "            except Exception as e:\n",
    "                print(f\"Failed to process {img_path}: {e}\")\n",
    "\n",
    "# Step 6: Save features, labels, and paths\n",
    "features = np.array(features)\n",
    "labels = np.array(labels)\n",
    "image_paths = np.array(image_paths)\n",
    "\n",
    "np.save(\"val_features_axial.npy\", features)\n",
    "np.save(\"val_labels_axial.npy\", labels)\n",
    "np.save(\"val_image_paths_axial.npy\", image_paths)\n",
    "\n",
    "print(\"Feature vectors saved:\")\n",
    "print(\"val_features_axial.npy\")\n",
    "print(\"val_labels_axial.npy\")\n",
    "print(\"val_image_paths_axial.npy\")"
   ]
  },
  {
   "cell_type": "code",
   "execution_count": 58,
   "id": "c2a5dcca",
   "metadata": {},
   "outputs": [
    {
     "ename": "FileNotFoundError",
     "evalue": "[Errno 2] No such file or directory: 'features_batches_axial'",
     "output_type": "error",
     "traceback": [
      "\u001b[0;31m---------------------------------------------------------------------------\u001b[0m",
      "\u001b[0;31mFileNotFoundError\u001b[0m                         Traceback (most recent call last)",
      "Cell \u001b[0;32mIn[58], line 8\u001b[0m\n\u001b[1;32m      5\u001b[0m counts \u001b[38;5;241m=\u001b[39m {\u001b[38;5;124m'\u001b[39m\u001b[38;5;124mAD\u001b[39m\u001b[38;5;124m'\u001b[39m: \u001b[38;5;241m0\u001b[39m, \u001b[38;5;124m'\u001b[39m\u001b[38;5;124mCN\u001b[39m\u001b[38;5;124m'\u001b[39m: \u001b[38;5;241m0\u001b[39m, \u001b[38;5;124m'\u001b[39m\u001b[38;5;124mMCI\u001b[39m\u001b[38;5;124m'\u001b[39m: \u001b[38;5;241m0\u001b[39m}\n\u001b[1;32m      6\u001b[0m label_map \u001b[38;5;241m=\u001b[39m {\u001b[38;5;241m0\u001b[39m: \u001b[38;5;124m'\u001b[39m\u001b[38;5;124mAD\u001b[39m\u001b[38;5;124m'\u001b[39m, \u001b[38;5;241m1\u001b[39m: \u001b[38;5;124m'\u001b[39m\u001b[38;5;124mCN\u001b[39m\u001b[38;5;124m'\u001b[39m, \u001b[38;5;241m2\u001b[39m: \u001b[38;5;124m'\u001b[39m\u001b[38;5;124mMCI\u001b[39m\u001b[38;5;124m'\u001b[39m}\n\u001b[0;32m----> 8\u001b[0m \u001b[38;5;28;01mfor\u001b[39;00m file \u001b[38;5;129;01min\u001b[39;00m \u001b[38;5;28msorted\u001b[39m(os\u001b[38;5;241m.\u001b[39mlistdir(batch_dir)):\n\u001b[1;32m      9\u001b[0m     \u001b[38;5;28;01mif\u001b[39;00m file\u001b[38;5;241m.\u001b[39mstartswith(\u001b[38;5;124m\"\u001b[39m\u001b[38;5;124mlabels_\u001b[39m\u001b[38;5;124m\"\u001b[39m) \u001b[38;5;129;01mand\u001b[39;00m file\u001b[38;5;241m.\u001b[39mendswith(\u001b[38;5;124m\"\u001b[39m\u001b[38;5;124m.npy\u001b[39m\u001b[38;5;124m\"\u001b[39m):\n\u001b[1;32m     10\u001b[0m         labels \u001b[38;5;241m=\u001b[39m np\u001b[38;5;241m.\u001b[39mload(os\u001b[38;5;241m.\u001b[39mpath\u001b[38;5;241m.\u001b[39mjoin(batch_dir, file))\n",
      "\u001b[0;31mFileNotFoundError\u001b[0m: [Errno 2] No such file or directory: 'features_batches_axial'"
     ]
    }
   ],
   "source": [
    "import os\n",
    "import numpy as np\n",
    "\n",
    "batch_dir = \"features_batches_axial\"\n",
    "counts = {'AD': 0, 'CN': 0, 'MCI': 0}\n",
    "label_map = {0: 'AD', 1: 'CN', 2: 'MCI'}\n",
    "\n",
    "for file in sorted(os.listdir(batch_dir)):\n",
    "    if file.startswith(\"labels_\") and file.endswith(\".npy\"):\n",
    "        labels = np.load(os.path.join(batch_dir, file))\n",
    "        for label in labels:\n",
    "            class_name = label_map[int(label)]\n",
    "            counts[class_name] += 1\n",
    "\n",
    "print(\" Processed image counts per class:\")\n",
    "for cls in counts:\n",
    "    print(f\"{cls}: {counts[cls]} images extracted\")\n"
   ]
  },
  {
   "cell_type": "code",
   "execution_count": null,
   "id": "c6a68cb0",
   "metadata": {},
   "outputs": [],
   "source": [
    "! ping storage.googleapis.com"
   ]
  },
  {
   "cell_type": "code",
   "execution_count": null,
   "id": "9b2e0a17",
   "metadata": {},
   "outputs": [],
   "source": []
  },
  {
   "cell_type": "code",
   "execution_count": null,
   "id": "8d40c432",
   "metadata": {},
   "outputs": [],
   "source": [
    "import os\n",
    "import numpy as np\n",
    "\n",
    "# Directory containing all feature batches\n",
    "batch_dir = \"features_batches_axial\"\n",
    "\n",
    "# Initialize full arrays\n",
    "all_features, all_labels, all_paths = [], [], []\n",
    "\n",
    "# Get sorted list of batch files (based on index number)\n",
    "batch_indices = sorted([\n",
    "    int(f.split(\"_\")[1].split(\".\")[0])\n",
    "    for f in os.listdir(batch_dir) if f.startswith(\"features_\")\n",
    "])\n",
    "\n",
    "print(f\" Merging {len(batch_indices)} batches...\")\n",
    "\n",
    "# Load and concatenate each batch\n",
    "for idx in batch_indices:\n",
    "    f_feat = os.path.join(batch_dir, f\"features_{idx}.npy\")\n",
    "    f_lbls = os.path.join(batch_dir, f\"labels_{idx}.npy\")\n",
    "    f_paths = os.path.join(batch_dir, f\"paths_{idx}.npy\")\n",
    "\n",
    "    features = np.load(f_feat)\n",
    "    labels = np.load(f_lbls)\n",
    "    paths = np.load(f_paths)\n",
    "\n",
    "    all_features.append(features)\n",
    "    all_labels.append(labels)\n",
    "    all_paths.append(paths)\n",
    "\n",
    "#  Stack everything\n",
    "all_features = np.vstack(all_features)\n",
    "all_labels = np.concatenate(all_labels)\n",
    "all_paths = np.concatenate(all_paths)\n",
    "\n",
    "# Save final merged files\n",
    "np.save(\"train_features_axial.npy\", all_features)\n",
    "np.save(\"train_labels_axial.npy\", all_labels)\n",
    "np.save(\"train_image_paths_axial.npy\", all_paths)\n",
    "\n",
    "print(\" Merge complete!\")\n",
    "print(f\" Total feature vectors: {all_features.shape[0]}\")\n",
    "print(f\" Feature shape per image: {all_features.shape[1]}\")\n"
   ]
  },
  {
   "cell_type": "code",
   "execution_count": 80,
   "id": "06d7369c",
   "metadata": {},
   "outputs": [
    {
     "name": "stdout",
     "output_type": "stream",
     "text": [
      "(169650, 256)\n",
      "(169650,)\n",
      "(169650,)\n"
     ]
    }
   ],
   "source": [
    "features = np.load(\"train_features_axial.npy\")       # Shape: (84755, 256)\n",
    "print(features.shape)\n",
    "labels = np.load(\"train_labels_axial.npy\")           # Shape: (84755,)\n",
    "print(labels.shape)\n",
    "image_paths = np.load(\"train_image_paths_axial.npy\") # Shape: (84755,)\n",
    "print(image_paths.shape)\n"
   ]
  },
  {
   "cell_type": "markdown",
   "id": "98bd24bc",
   "metadata": {},
   "source": [
    "loading and printing features and other things for validation data as well"
   ]
  },
  {
   "cell_type": "code",
   "execution_count": 79,
   "id": "e3b05433",
   "metadata": {},
   "outputs": [
    {
     "name": "stdout",
     "output_type": "stream",
     "text": [
      "(8415, 256)\n",
      "(8415,)\n",
      "(8415,)\n"
     ]
    }
   ],
   "source": [
    "features = np.load(\"val_features_axial.npy\")       # Shape: (84755, 256)\n",
    "print(features.shape)\n",
    "labels = np.load(\"val_labels_axial.npy\")           # Shape: (84755,)\n",
    "print(labels.shape)\n",
    "image_paths = np.load(\"val_image_paths_axial.npy\") # Shape: (84755,)\n",
    "print(image_paths.shape)\n"
   ]
  },
  {
   "cell_type": "code",
   "execution_count": 81,
   "id": "17262be6",
   "metadata": {},
   "outputs": [
    {
     "name": "stdout",
     "output_type": "stream",
     "text": [
      " Saved: train_axial_features_and_labels_only.csv\n"
     ]
    }
   ],
   "source": [
    "# Load the .npy files\n",
    "import pandas as pd\n",
    "features = np.load(\"train_features_axial.npy\")       # Shape: (84755, 256)\n",
    "labels = np.load(\"train_labels_axial.npy\")           # Shape: (84755,)\n",
    "\n",
    "# Combine features and labels\n",
    "combined = np.hstack((features, labels.reshape(-1, 1)))  # Shape: (84755, 257)\n",
    "\n",
    "# Create a DataFrame\n",
    "df = pd.DataFrame(combined)\n",
    "\n",
    "# Optionally name columns\n",
    "\n",
    "feature_columns = [f\"f{i}\" for i in range(256)]\n",
    "df.columns = feature_columns + [\"label\"]\n",
    "\n",
    "# Save to CSV\n",
    "df.to_csv(\"train_axial_features_and_labels_only.csv\", index=False)\n",
    "\n",
    "print(\" Saved: train_axial_features_and_labels_only.csv\")\n"
   ]
  },
  {
   "cell_type": "markdown",
   "id": "73b8f8f1",
   "metadata": {},
   "source": [
    "same process for validation set"
   ]
  },
  {
   "cell_type": "code",
   "execution_count": 82,
   "id": "9af99964",
   "metadata": {},
   "outputs": [
    {
     "name": "stdout",
     "output_type": "stream",
     "text": [
      " Saved: val_axial_features_and_labels_only.csv\n"
     ]
    }
   ],
   "source": [
    "# Load the .npy files\n",
    "features = np.load(\"val_features_axial.npy\")       # Shape: (84755, 256)\n",
    "labels = np.load(\"val_labels_axial.npy\")           # Shape: (84755,)\n",
    "\n",
    "# Combine features and labels\n",
    "combined = np.hstack((features, labels.reshape(-1, 1)))  # Shape: (84755, 257)\n",
    "\n",
    "# Create a DataFrame\n",
    "df = pd.DataFrame(combined)\n",
    "\n",
    "# Optionally name columns\n",
    "feature_columns = [f\"f{i}\" for i in range(256)]\n",
    "df.columns = feature_columns + [\"label\"]\n",
    "\n",
    "# Save to CSV\n",
    "df.to_csv(\"val_axial_features_and_labels_only.csv\", index=False)\n",
    "\n",
    "print(\" Saved: val_axial_features_and_labels_only.csv\")\n"
   ]
  },
  {
   "cell_type": "code",
   "execution_count": 83,
   "id": "526bf0cf",
   "metadata": {},
   "outputs": [
    {
     "name": "stdout",
     "output_type": "stream",
     "text": [
      "(2294, 12)\n"
     ]
    },
    {
     "data": {
      "text/html": [
       "<div>\n",
       "<style scoped>\n",
       "    .dataframe tbody tr th:only-of-type {\n",
       "        vertical-align: middle;\n",
       "    }\n",
       "\n",
       "    .dataframe tbody tr th {\n",
       "        vertical-align: top;\n",
       "    }\n",
       "\n",
       "    .dataframe thead th {\n",
       "        text-align: right;\n",
       "    }\n",
       "</style>\n",
       "<table border=\"1\" class=\"dataframe\">\n",
       "  <thead>\n",
       "    <tr style=\"text-align: right;\">\n",
       "      <th></th>\n",
       "      <th>Image Data ID</th>\n",
       "      <th>Subject</th>\n",
       "      <th>Group</th>\n",
       "      <th>Sex</th>\n",
       "      <th>Age</th>\n",
       "      <th>Visit</th>\n",
       "      <th>Modality</th>\n",
       "      <th>Description</th>\n",
       "      <th>Type</th>\n",
       "      <th>Acq Date</th>\n",
       "      <th>Format</th>\n",
       "      <th>Downloaded</th>\n",
       "    </tr>\n",
       "  </thead>\n",
       "  <tbody>\n",
       "    <tr>\n",
       "      <th>0</th>\n",
       "      <td>I112538</td>\n",
       "      <td>941_S_1311</td>\n",
       "      <td>MCI</td>\n",
       "      <td>M</td>\n",
       "      <td>70</td>\n",
       "      <td>m12</td>\n",
       "      <td>MRI</td>\n",
       "      <td>MPR; GradWarp; B1 Correction; N3; Scaled</td>\n",
       "      <td>Processed</td>\n",
       "      <td>6/01/2008</td>\n",
       "      <td>NiFTI</td>\n",
       "      <td>12/07/2024</td>\n",
       "    </tr>\n",
       "    <tr>\n",
       "      <th>1</th>\n",
       "      <td>I97341</td>\n",
       "      <td>941_S_1311</td>\n",
       "      <td>MCI</td>\n",
       "      <td>M</td>\n",
       "      <td>70</td>\n",
       "      <td>m06</td>\n",
       "      <td>MRI</td>\n",
       "      <td>MPR-R; GradWarp; B1 Correction; N3; Scaled</td>\n",
       "      <td>Processed</td>\n",
       "      <td>9/27/2007</td>\n",
       "      <td>NiFTI</td>\n",
       "      <td>12/07/2024</td>\n",
       "    </tr>\n",
       "    <tr>\n",
       "      <th>2</th>\n",
       "      <td>I97327</td>\n",
       "      <td>941_S_1311</td>\n",
       "      <td>MCI</td>\n",
       "      <td>M</td>\n",
       "      <td>69</td>\n",
       "      <td>sc</td>\n",
       "      <td>MRI</td>\n",
       "      <td>MPR; GradWarp; B1 Correction; N3; Scaled</td>\n",
       "      <td>Processed</td>\n",
       "      <td>3/02/2007</td>\n",
       "      <td>NiFTI</td>\n",
       "      <td>12/07/2024</td>\n",
       "    </tr>\n",
       "    <tr>\n",
       "      <th>3</th>\n",
       "      <td>I63874</td>\n",
       "      <td>941_S_1202</td>\n",
       "      <td>CN</td>\n",
       "      <td>M</td>\n",
       "      <td>78</td>\n",
       "      <td>sc</td>\n",
       "      <td>MRI</td>\n",
       "      <td>MPR-R; GradWarp; B1 Correction; N3; Scaled</td>\n",
       "      <td>Processed</td>\n",
       "      <td>1/30/2007</td>\n",
       "      <td>NiFTI</td>\n",
       "      <td>12/07/2024</td>\n",
       "    </tr>\n",
       "    <tr>\n",
       "      <th>4</th>\n",
       "      <td>I75150</td>\n",
       "      <td>941_S_1202</td>\n",
       "      <td>CN</td>\n",
       "      <td>M</td>\n",
       "      <td>78</td>\n",
       "      <td>m06</td>\n",
       "      <td>MRI</td>\n",
       "      <td>MPR; GradWarp; B1 Correction; N3; Scaled</td>\n",
       "      <td>Processed</td>\n",
       "      <td>8/24/2007</td>\n",
       "      <td>NiFTI</td>\n",
       "      <td>12/07/2024</td>\n",
       "    </tr>\n",
       "  </tbody>\n",
       "</table>\n",
       "</div>"
      ],
      "text/plain": [
       "  Image Data ID     Subject Group Sex  Age Visit Modality  \\\n",
       "0       I112538  941_S_1311   MCI   M   70   m12      MRI   \n",
       "1        I97341  941_S_1311   MCI   M   70   m06      MRI   \n",
       "2        I97327  941_S_1311   MCI   M   69    sc      MRI   \n",
       "3        I63874  941_S_1202    CN   M   78    sc      MRI   \n",
       "4        I75150  941_S_1202    CN   M   78   m06      MRI   \n",
       "\n",
       "                                  Description       Type   Acq Date Format  \\\n",
       "0    MPR; GradWarp; B1 Correction; N3; Scaled  Processed  6/01/2008  NiFTI   \n",
       "1  MPR-R; GradWarp; B1 Correction; N3; Scaled  Processed  9/27/2007  NiFTI   \n",
       "2    MPR; GradWarp; B1 Correction; N3; Scaled  Processed  3/02/2007  NiFTI   \n",
       "3  MPR-R; GradWarp; B1 Correction; N3; Scaled  Processed  1/30/2007  NiFTI   \n",
       "4    MPR; GradWarp; B1 Correction; N3; Scaled  Processed  8/24/2007  NiFTI   \n",
       "\n",
       "   Downloaded  \n",
       "0  12/07/2024  \n",
       "1  12/07/2024  \n",
       "2  12/07/2024  \n",
       "3  12/07/2024  \n",
       "4  12/07/2024  "
      ]
     },
     "execution_count": 83,
     "metadata": {},
     "output_type": "execute_result"
    }
   ],
   "source": [
    "# for text embeddings\n",
    "import pandas as pd\n",
    "\n",
    "# Load your file\n",
    "df = pd.read_csv(\"/Users/fatimatuzzahra/Downloads/ADNI1_Complete_1Yr_1.5T_12_20_2024.csv\")\n",
    "\n",
    "# Preview the first few rows\n",
    "print(df.shape)\n",
    "df.head()\n"
   ]
  },
  {
   "cell_type": "code",
   "execution_count": 84,
   "id": "ca69f41b",
   "metadata": {},
   "outputs": [
    {
     "data": {
      "application/vnd.jupyter.widget-view+json": {
       "model_id": "e5bd9d9a452145c3bed80d25b2276a89",
       "version_major": 2,
       "version_minor": 0
      },
      "text/plain": [
       "Batches:   0%|          | 0/72 [00:00<?, ?it/s]"
      ]
     },
     "metadata": {},
     "output_type": "display_data"
    }
   ],
   "source": [
    "import pandas as pd\n",
    "from sentence_transformers import SentenceTransformer\n",
    "\n",
    "# Load CSV\n",
    "df = pd.read_csv(\"ADNI1_Complete_1Yr_1.5T_12_20_2024.csv\")\n",
    "\n",
    "# Remove label \n",
    "df_cleaned = df.drop(columns=[\"Group\", \"Downloaded\", \"Modality\", \"Type\", \"Format\"])\n",
    "\n",
    "# Keep Image ID separately for future mapping\n",
    "image_ids = df_cleaned[\"Image Data ID\"].values\n",
    "\n",
    "# Drop ID from the text encoding input\n",
    "text_only = df_cleaned.drop(columns=[\"Image Data ID\"])\n",
    "\n",
    "# Convert each row to string and generate sentence embeddings\n",
    "texts = text_only.astype(str).agg(\" \".join, axis=1)\n",
    "\n",
    "# Generate embeddings\n",
    "model = SentenceTransformer(\"all-MiniLM-L6-v2\")\n",
    "textual_embeddings = model.encode(texts, show_progress_bar=True)\n",
    "\n",
    "# Save with Image IDs\n",
    "import numpy as np\n",
    "np.save(\"text_embeddings_cleaned.npy\", textual_embeddings)\n",
    "np.save(\"text_image_ids.npy\", image_ids)\n"
   ]
  },
  {
   "cell_type": "code",
   "execution_count": 85,
   "id": "580be165",
   "metadata": {},
   "outputs": [
    {
     "name": "stdout",
     "output_type": "stream",
     "text": [
      " Saved: text_embeddings_cleaned_with_ids.csv\n",
      " Shape: (2294, 385)\n"
     ]
    }
   ],
   "source": [
    "import numpy as np\n",
    "import pandas as pd\n",
    "\n",
    "# Load the cleaned text embeddings and associated image IDs\n",
    "text_embeddings = np.load(\"text_embeddings_cleaned.npy\")           # shape: (2294, 384)\n",
    "text_image_ids = np.load(\"text_image_ids.npy\", allow_pickle=True)  # shape: (2294,)\n",
    "\n",
    "# Convert to DataFrame and add IDs as the first column\n",
    "df = pd.DataFrame(text_embeddings)\n",
    "df.insert(0, \"Image_ID\", text_image_ids)\n",
    "\n",
    "# Save to CSV\n",
    "df.to_csv(\"text_embeddings_cleaned_with_ids.csv\", index=False)\n",
    "\n",
    "print(\" Saved: text_embeddings_cleaned_with_ids.csv\")\n",
    "print(\" Shape:\", df.shape)\n"
   ]
  },
  {
   "cell_type": "code",
   "execution_count": 86,
   "id": "917722db",
   "metadata": {},
   "outputs": [
    {
     "name": "stderr",
     "output_type": "stream",
     "text": [
      "100%|██████████| 169650/169650 [00:00<00:00, 397332.93it/s]\n"
     ]
    },
    {
     "name": "stdout",
     "output_type": "stream",
     "text": [
      " Matched samples: 169650\n",
      " Final train fused shape: (169650, 640)\n",
      " Labels shape: (169650,)\n"
     ]
    }
   ],
   "source": [
    "import numpy as np\n",
    "from tqdm import tqdm\n",
    "import os\n",
    "\n",
    "# Load image feature data\n",
    "image_features = np.load(\"train_features_axial.npy\")       # (84755, 256)\n",
    "image_labels = np.load(\"train_labels_axial.npy\")           # (84755,)\n",
    "image_paths = np.load(\"train_image_paths_axial.npy\")       # (84755,)\n",
    "\n",
    "# Load cleaned textual embeddings and IDs\n",
    "textual_embeddings = np.load(\"text_embeddings_cleaned.npy\")   # (2294, 384)\n",
    "text_ids = np.load(\"text_image_ids.npy\", allow_pickle=True)      # (2294,)\n",
    "\n",
    "# Step 1: Build a lookup from Image ID → text embedding\n",
    "text_lookup = {id_: emb for id_, emb in zip(text_ids, textual_embeddings)}\n",
    "\n",
    "# Step 2: Match each image with its text embedding (based on ID prefix)\n",
    "fused_features = []\n",
    "fused_labels = []\n",
    "matched_count = 0\n",
    "\n",
    "for i, (img_feat, label, path) in enumerate(tqdm(zip(image_features, image_labels, image_paths), total=len(image_paths))):\n",
    "    filename = os.path.basename(path)  # e.g., 'I31143_AD_axial_55.png'\n",
    "    img_id = filename.split('_')[0]             # 'I31143'\n",
    "\n",
    "    if img_id in text_lookup:\n",
    "        text_feat = text_lookup[img_id]\n",
    "        fused = np.concatenate([img_feat, text_feat])  # shape (640,)\n",
    "        fused_features.append(fused)\n",
    "        fused_labels.append(label)\n",
    "        matched_count += 1\n",
    "\n",
    "print(f\" Matched samples: {matched_count}\")\n",
    "\n",
    "# Convert to arrays and save\n",
    "fused_features = np.array(fused_features)\n",
    "fused_labels = np.array(fused_labels)\n",
    "\n",
    "np.save(\"train_fused_features_clean.npy\", fused_features)\n",
    "np.save(\"train_fused_labels_clean.npy\", fused_labels)\n",
    "\n",
    "print(\" Final train fused shape:\", fused_features.shape)\n",
    "print(\" Labels shape:\", fused_labels.shape)\n"
   ]
  },
  {
   "cell_type": "markdown",
   "id": "d05348e3",
   "metadata": {},
   "source": [
    "fusion for the validation set is done below"
   ]
  },
  {
   "cell_type": "code",
   "execution_count": 87,
   "id": "672a555e",
   "metadata": {},
   "outputs": [
    {
     "name": "stderr",
     "output_type": "stream",
     "text": [
      "100%|██████████| 8415/8415 [00:00<00:00, 379859.96it/s]"
     ]
    },
    {
     "name": "stdout",
     "output_type": "stream",
     "text": [
      " Matched samples: 8415\n",
      " Final val fused shape: (8415, 640)\n",
      " Labels shape: (8415,)\n"
     ]
    },
    {
     "name": "stderr",
     "output_type": "stream",
     "text": [
      "\n"
     ]
    }
   ],
   "source": [
    "import numpy as np\n",
    "from tqdm import tqdm\n",
    "import os\n",
    "\n",
    "# Load image feature data\n",
    "image_features = np.load(\"val_features_axial.npy\")       # (84755, 256)\n",
    "image_labels = np.load(\"val_labels_axial.npy\")           # (84755,)\n",
    "image_paths = np.load(\"val_image_paths_axial.npy\")       # (84755,)\n",
    "\n",
    "# Load cleaned textual embeddings and IDs\n",
    "textual_embeddings = np.load(\"text_embeddings_cleaned.npy\")   # (2294, 384)\n",
    "text_ids = np.load(\"text_image_ids.npy\", allow_pickle=True)      # (2294,)\n",
    "\n",
    "# Step 1: Build a lookup from Image ID → text embedding\n",
    "text_lookup = {id_: emb for id_, emb in zip(text_ids, textual_embeddings)}\n",
    "\n",
    "# Step 2: Match each image with its text embedding (based on ID prefix)\n",
    "fused_features = []\n",
    "fused_labels = []\n",
    "matched_count = 0\n",
    "\n",
    "for i, (img_feat, label, path) in enumerate(tqdm(zip(image_features, image_labels, image_paths), total=len(image_paths))):\n",
    "    filename = os.path.basename(path)  # e.g., 'I31143_AD_axial_55.png'\n",
    "    img_id = filename.split('_')[0]             # 'I31143'\n",
    "\n",
    "    if img_id in text_lookup:\n",
    "        text_feat = text_lookup[img_id]\n",
    "        fused = np.concatenate([img_feat, text_feat])  # shape (640,)\n",
    "        fused_features.append(fused)\n",
    "        fused_labels.append(label)\n",
    "        matched_count += 1\n",
    "\n",
    "print(f\" Matched samples: {matched_count}\")\n",
    "\n",
    "# Convert to arrays and save\n",
    "fused_features = np.array(fused_features)\n",
    "fused_labels = np.array(fused_labels)\n",
    "\n",
    "np.save(\"val_fused_features_clean.npy\", fused_features)\n",
    "np.save(\"val_fused_labels_clean.npy\", fused_labels)\n",
    "\n",
    "print(\" Final val fused shape:\", fused_features.shape)\n",
    "print(\" Labels shape:\", fused_labels.shape)\n"
   ]
  },
  {
   "cell_type": "code",
   "execution_count": 88,
   "id": "b11ac337",
   "metadata": {},
   "outputs": [
    {
     "name": "stdout",
     "output_type": "stream",
     "text": [
      " Saved: train_fused_embeddings_with_labels.csv\n"
     ]
    }
   ],
   "source": [
    "import numpy as np\n",
    "import pandas as pd\n",
    "\n",
    "# Load\n",
    "X = np.load(\"train_fused_features_clean.npy\")\n",
    "y = np.load(\"train_fused_labels_clean.npy\")\n",
    "\n",
    "# Combine into DataFrame\n",
    "df = pd.DataFrame(X)\n",
    "df[\"label\"] = y\n",
    "\n",
    "# Save to CSV\n",
    "df.to_csv(\"train_fused_embeddings_with_labels.csv\", index=False)\n",
    "print(\" Saved: train_fused_embeddings_with_labels.csv\")\n"
   ]
  },
  {
   "cell_type": "markdown",
   "id": "117c2db0",
   "metadata": {},
   "source": [
    "savinf into csv the validation fused sets"
   ]
  },
  {
   "cell_type": "code",
   "execution_count": 89,
   "id": "886ef189",
   "metadata": {},
   "outputs": [
    {
     "name": "stdout",
     "output_type": "stream",
     "text": [
      " Saved: val_fused_embeddings_with_labels.csv\n"
     ]
    }
   ],
   "source": [
    "import numpy as np\n",
    "import pandas as pd\n",
    "\n",
    "# Load\n",
    "X = np.load(\"val_fused_features_clean.npy\")\n",
    "y = np.load(\"val_fused_labels_clean.npy\")\n",
    "\n",
    "# Combine into DataFrame\n",
    "df = pd.DataFrame(X)\n",
    "df[\"label\"] = y\n",
    "\n",
    "# Save to CSV\n",
    "df.to_csv(\"val_fused_embeddings_with_labels.csv\", index=False)\n",
    "print(\" Saved: val_fused_embeddings_with_labels.csv\")\n"
   ]
  },
  {
   "cell_type": "markdown",
   "id": "50158e89",
   "metadata": {},
   "source": [
    "saving image and textual data separately for training dataset"
   ]
  },
  {
   "cell_type": "code",
   "execution_count": 90,
   "id": "315c40f4",
   "metadata": {},
   "outputs": [
    {
     "name": "stdout",
     "output_type": "stream",
     "text": [
      " Saved:\n",
      "  train_image_features_only.npy (shape: (169650, 256) )\n",
      "  train_text_features_only.npy  (shape: (169650, 384) )\n"
     ]
    }
   ],
   "source": [
    "import numpy as np\n",
    "\n",
    "# Load fused embeddings\n",
    "fused = np.load(\"train_fused_features_clean.npy\")  # (84755, 640)\n",
    "\n",
    "# Split features\n",
    "image_features = fused[:, :256]   # CNN-based\n",
    "text_features  = fused[:, 256:]   # Sentence-transformer-based\n",
    "\n",
    "# Save separately\n",
    "np.save(\"train_image_features_only.npy\", image_features)\n",
    "np.save(\"train_text_features_only.npy\", text_features)\n",
    "\n",
    "print(\" Saved:\")\n",
    "print(\"  train_image_features_only.npy (shape:\", image_features.shape, \")\")\n",
    "print(\"  train_text_features_only.npy  (shape:\", text_features.shape, \")\")\n"
   ]
  },
  {
   "cell_type": "markdown",
   "id": "1136a005",
   "metadata": {},
   "source": [
    "saving image and textual data separately for validation dataset"
   ]
  },
  {
   "cell_type": "code",
   "execution_count": 91,
   "id": "5e6e17f8",
   "metadata": {},
   "outputs": [
    {
     "name": "stdout",
     "output_type": "stream",
     "text": [
      " Saved:\n",
      "  val_image_features_only.npy (shape: (8415, 256) )\n",
      "  val_text_features_only.npy  (shape: (8415, 384) )\n"
     ]
    }
   ],
   "source": [
    "import numpy as np\n",
    "\n",
    "# Load fused embeddings\n",
    "fused = np.load(\"val_fused_features_clean.npy\")  # (84755, 640)\n",
    "\n",
    "# Split features\n",
    "image_features = fused[:, :256]   # CNN-based\n",
    "text_features  = fused[:, 256:]   # Sentence-transformer-based\n",
    "\n",
    "# Save separately\n",
    "np.save(\"val_image_features_only.npy\", image_features)\n",
    "np.save(\"val_text_features_only.npy\", text_features)\n",
    "\n",
    "print(\" Saved:\")\n",
    "print(\"  val_image_features_only.npy (shape:\", image_features.shape, \")\")\n",
    "print(\"  val_text_features_only.npy  (shape:\", text_features.shape, \")\")\n"
   ]
  },
  {
   "cell_type": "markdown",
   "id": "cc33f960",
   "metadata": {},
   "source": [
    "the code below is added just to save the progress"
   ]
  },
  {
   "cell_type": "markdown",
   "id": "24f29456",
   "metadata": {},
   "source": [
    "import numpy as np\n",
    "from sklearn.model_selection import train_test_split\n",
    "from sklearn.neural_network import MLPClassifier\n",
    "from sklearn.metrics import accuracy_score, classification_report, confusion_matrix\n",
    "import matplotlib.pyplot as plt\n",
    "import seaborn as sns\n",
    "\n",
    "# 🔹 Step 1: Load training set fused features and labels\n",
    "X_train = np.load(\"train_fused_features_clean.npy\")   # Shape: (84755, 640)\n",
    "y_train = np.load(\"train_fused_labels_clean.npy\")     # Shape: (84755,)\n",
    "\n",
    "# Step 2: Load validation set fused features and labels\n",
    "X_val = np.load(\"val_fused_features_clean.npy\")\n",
    "y_val = np.load(\"val_fused_labels_clean.npy\")\n",
    "\n",
    "# 🔹 Step 2: Train/test split (not used for testing file)\n",
    "# X_train, X_test, y_train, y_test = train_test_split(\n",
    "#     X, y, test_size=0.2, random_state=42, stratify=y\n",
    "# )\n",
    "\n",
    "# 🔹 Step 3: Define and train MLP (no need of fitting again in test set)\n",
    "mlp = MLPClassifier(\n",
    "    hidden_layer_sizes=(512, 256, 64),   # You can adjust the architecture\n",
    "    activation='relu',\n",
    "    learning_rate_init=0.0006,\n",
    "    solver='adam',\n",
    "    max_iter=50,          # Increase to 100–300 for better results if time allows\n",
    "    random_state=42,\n",
    "    verbose=True\n",
    ")\n",
    "mlp.fit(X_train, y_train)\n",
    "\n",
    "# 🔹 Step 4: Predict and evaluate\n",
    "y_pred = mlp.predict(X_test)\n",
    "\n",
    "acc = accuracy_score(y_test, y_pred)\n",
    "print(f\"\\n MLP Accuracy: {acc:.4f}\")\n",
    "print(\"\\n Classification Report:\")\n",
    "print(classification_report(y_test, y_pred, target_names=[\"AD\", \"CN\", \"MCI\"]))\n",
    "\n",
    "# 🔹 Step 5: Plot Confusion Matrix\n",
    "cm = confusion_matrix(y_test, y_pred)\n",
    "plt.figure(figsize=(6, 5))\n",
    "sns.heatmap(cm, annot=True, fmt=\"d\", cmap=\"Greens\", xticklabels=[\"AD\", \"CN\", \"MCI\"], yticklabels=[\"AD\", \"CN\", \"MCI\"])\n",
    "plt.xlabel(\"Predicted\")\n",
    "plt.ylabel(\"True\")\n",
    "plt.title(\" Confusion Matrix - MLP (Fused Features)\")\n",
    "plt.tight_layout()\n",
    "plt.show()\n"
   ]
  },
  {
   "cell_type": "code",
   "execution_count": 69,
   "id": "766f56d8",
   "metadata": {},
   "outputs": [
    {
     "name": "stdout",
     "output_type": "stream",
     "text": [
      "{0: 17575, 1: 25795, 2: 41455}\n"
     ]
    }
   ],
   "source": [
    "unique, counts = np.unique(y_train, return_counts=True)\n",
    "print(dict(zip(unique, counts)))"
   ]
  },
  {
   "cell_type": "code",
   "execution_count": 92,
   "id": "e1daffc6",
   "metadata": {},
   "outputs": [
    {
     "name": "stdout",
     "output_type": "stream",
     "text": [
      "[0]\tvalidation_0-mlogloss:1.09322\n",
      "[1]\tvalidation_0-mlogloss:1.08899\n",
      "[2]\tvalidation_0-mlogloss:1.08345\n",
      "[3]\tvalidation_0-mlogloss:1.07816\n",
      "[4]\tvalidation_0-mlogloss:1.07373\n",
      "[5]\tvalidation_0-mlogloss:1.06832\n",
      "[6]\tvalidation_0-mlogloss:1.06413\n",
      "[7]\tvalidation_0-mlogloss:1.06159\n",
      "[8]\tvalidation_0-mlogloss:1.05940\n",
      "[9]\tvalidation_0-mlogloss:1.05780\n",
      "[10]\tvalidation_0-mlogloss:1.05254\n",
      "[11]\tvalidation_0-mlogloss:1.04858\n",
      "[12]\tvalidation_0-mlogloss:1.04722\n",
      "[13]\tvalidation_0-mlogloss:1.04448\n",
      "[14]\tvalidation_0-mlogloss:1.04313\n",
      "[15]\tvalidation_0-mlogloss:1.04069\n",
      "[16]\tvalidation_0-mlogloss:1.03839\n",
      "[17]\tvalidation_0-mlogloss:1.03762\n",
      "[18]\tvalidation_0-mlogloss:1.03611\n",
      "[19]\tvalidation_0-mlogloss:1.03472\n",
      "[20]\tvalidation_0-mlogloss:1.03226\n",
      "[21]\tvalidation_0-mlogloss:1.03174\n",
      "[22]\tvalidation_0-mlogloss:1.02776\n",
      "[23]\tvalidation_0-mlogloss:1.02648\n",
      "[24]\tvalidation_0-mlogloss:1.02444\n",
      "[25]\tvalidation_0-mlogloss:1.02211\n",
      "[26]\tvalidation_0-mlogloss:1.02066\n",
      "[27]\tvalidation_0-mlogloss:1.01925\n",
      "[28]\tvalidation_0-mlogloss:1.01862\n",
      "[29]\tvalidation_0-mlogloss:1.01615\n",
      "[30]\tvalidation_0-mlogloss:1.01491\n",
      "[31]\tvalidation_0-mlogloss:1.01070\n",
      "[32]\tvalidation_0-mlogloss:1.00999\n",
      "[33]\tvalidation_0-mlogloss:1.00830\n",
      "[34]\tvalidation_0-mlogloss:1.00529\n",
      "[35]\tvalidation_0-mlogloss:1.00252\n",
      "[36]\tvalidation_0-mlogloss:1.00079\n",
      "[37]\tvalidation_0-mlogloss:1.00068\n",
      "[38]\tvalidation_0-mlogloss:0.99749\n",
      "[39]\tvalidation_0-mlogloss:0.99638\n",
      "[40]\tvalidation_0-mlogloss:0.99384\n",
      "[41]\tvalidation_0-mlogloss:0.99141\n",
      "[42]\tvalidation_0-mlogloss:0.99066\n",
      "[43]\tvalidation_0-mlogloss:0.98857\n",
      "[44]\tvalidation_0-mlogloss:0.98801\n",
      "[45]\tvalidation_0-mlogloss:0.98645\n",
      "[46]\tvalidation_0-mlogloss:0.98321\n",
      "[47]\tvalidation_0-mlogloss:0.98104\n",
      "[48]\tvalidation_0-mlogloss:0.97997\n",
      "[49]\tvalidation_0-mlogloss:0.97832\n",
      "[50]\tvalidation_0-mlogloss:0.97821\n",
      "[51]\tvalidation_0-mlogloss:0.97763\n",
      "[52]\tvalidation_0-mlogloss:0.97734\n",
      "[53]\tvalidation_0-mlogloss:0.97772\n",
      "[54]\tvalidation_0-mlogloss:0.97665\n",
      "[55]\tvalidation_0-mlogloss:0.97431\n",
      "[56]\tvalidation_0-mlogloss:0.97228\n",
      "[57]\tvalidation_0-mlogloss:0.97132\n",
      "[58]\tvalidation_0-mlogloss:0.97001\n",
      "[59]\tvalidation_0-mlogloss:0.96961\n",
      "[60]\tvalidation_0-mlogloss:0.96976\n",
      "[61]\tvalidation_0-mlogloss:0.96838\n",
      "[62]\tvalidation_0-mlogloss:0.96648\n",
      "[63]\tvalidation_0-mlogloss:0.96505\n",
      "[64]\tvalidation_0-mlogloss:0.96350\n",
      "[65]\tvalidation_0-mlogloss:0.96135\n",
      "[66]\tvalidation_0-mlogloss:0.96062\n",
      "[67]\tvalidation_0-mlogloss:0.95984\n",
      "[68]\tvalidation_0-mlogloss:0.95894\n",
      "[69]\tvalidation_0-mlogloss:0.95737\n",
      "[70]\tvalidation_0-mlogloss:0.95750\n",
      "[71]\tvalidation_0-mlogloss:0.95714\n",
      "[72]\tvalidation_0-mlogloss:0.95538\n",
      "[73]\tvalidation_0-mlogloss:0.95403\n",
      "[74]\tvalidation_0-mlogloss:0.95339\n",
      "[75]\tvalidation_0-mlogloss:0.95342\n",
      "[76]\tvalidation_0-mlogloss:0.95354\n",
      "[77]\tvalidation_0-mlogloss:0.95271\n",
      "[78]\tvalidation_0-mlogloss:0.95076\n",
      "[79]\tvalidation_0-mlogloss:0.95166\n",
      "[80]\tvalidation_0-mlogloss:0.95381\n",
      "[81]\tvalidation_0-mlogloss:0.95205\n",
      "[82]\tvalidation_0-mlogloss:0.95114\n",
      "[83]\tvalidation_0-mlogloss:0.95050\n",
      "[84]\tvalidation_0-mlogloss:0.94854\n",
      "[85]\tvalidation_0-mlogloss:0.94898\n",
      "[86]\tvalidation_0-mlogloss:0.94853\n",
      "[87]\tvalidation_0-mlogloss:0.94902\n",
      "[88]\tvalidation_0-mlogloss:0.94920\n",
      "[89]\tvalidation_0-mlogloss:0.94855\n",
      "[90]\tvalidation_0-mlogloss:0.94736\n",
      "[91]\tvalidation_0-mlogloss:0.94770\n",
      "[92]\tvalidation_0-mlogloss:0.94731\n",
      "[93]\tvalidation_0-mlogloss:0.94608\n",
      "[94]\tvalidation_0-mlogloss:0.94559\n",
      "[95]\tvalidation_0-mlogloss:0.94511\n",
      "[96]\tvalidation_0-mlogloss:0.94480\n",
      "[97]\tvalidation_0-mlogloss:0.94430\n",
      "[98]\tvalidation_0-mlogloss:0.94400\n",
      "[99]\tvalidation_0-mlogloss:0.94302\n",
      "[100]\tvalidation_0-mlogloss:0.94245\n",
      "[101]\tvalidation_0-mlogloss:0.94063\n",
      "[102]\tvalidation_0-mlogloss:0.94133\n",
      "[103]\tvalidation_0-mlogloss:0.94192\n",
      "[104]\tvalidation_0-mlogloss:0.94067\n",
      "[105]\tvalidation_0-mlogloss:0.94013\n",
      "[106]\tvalidation_0-mlogloss:0.94141\n",
      "[107]\tvalidation_0-mlogloss:0.93902\n",
      "[108]\tvalidation_0-mlogloss:0.93778\n",
      "[109]\tvalidation_0-mlogloss:0.93546\n",
      "[110]\tvalidation_0-mlogloss:0.93462\n",
      "[111]\tvalidation_0-mlogloss:0.93373\n",
      "[112]\tvalidation_0-mlogloss:0.93266\n",
      "[113]\tvalidation_0-mlogloss:0.93143\n",
      "[114]\tvalidation_0-mlogloss:0.93046\n",
      "[115]\tvalidation_0-mlogloss:0.93159\n",
      "[116]\tvalidation_0-mlogloss:0.93221\n",
      "[117]\tvalidation_0-mlogloss:0.93171\n",
      "[118]\tvalidation_0-mlogloss:0.93205\n",
      "[119]\tvalidation_0-mlogloss:0.93165\n",
      "[120]\tvalidation_0-mlogloss:0.93288\n",
      "[121]\tvalidation_0-mlogloss:0.93297\n",
      "[122]\tvalidation_0-mlogloss:0.93267\n",
      "[123]\tvalidation_0-mlogloss:0.93073\n",
      "[124]\tvalidation_0-mlogloss:0.92983\n",
      "[125]\tvalidation_0-mlogloss:0.92949\n",
      "[126]\tvalidation_0-mlogloss:0.92943\n",
      "[127]\tvalidation_0-mlogloss:0.92851\n",
      "[128]\tvalidation_0-mlogloss:0.92688\n",
      "[129]\tvalidation_0-mlogloss:0.92568\n",
      "[130]\tvalidation_0-mlogloss:0.92418\n",
      "[131]\tvalidation_0-mlogloss:0.92208\n",
      "[132]\tvalidation_0-mlogloss:0.92185\n",
      "[133]\tvalidation_0-mlogloss:0.92175\n",
      "[134]\tvalidation_0-mlogloss:0.92212\n",
      "[135]\tvalidation_0-mlogloss:0.92205\n",
      "[136]\tvalidation_0-mlogloss:0.92270\n",
      "[137]\tvalidation_0-mlogloss:0.92097\n",
      "[138]\tvalidation_0-mlogloss:0.92085\n",
      "[139]\tvalidation_0-mlogloss:0.92158\n",
      "[140]\tvalidation_0-mlogloss:0.92188\n",
      "[141]\tvalidation_0-mlogloss:0.92178\n",
      "[142]\tvalidation_0-mlogloss:0.91952\n",
      "[143]\tvalidation_0-mlogloss:0.92023\n",
      "[144]\tvalidation_0-mlogloss:0.92029\n",
      "[145]\tvalidation_0-mlogloss:0.91995\n",
      "[146]\tvalidation_0-mlogloss:0.92009\n",
      "[147]\tvalidation_0-mlogloss:0.91965\n",
      "[148]\tvalidation_0-mlogloss:0.91948\n",
      "[149]\tvalidation_0-mlogloss:0.91953\n",
      "[150]\tvalidation_0-mlogloss:0.91968\n",
      "[151]\tvalidation_0-mlogloss:0.91803\n",
      "[152]\tvalidation_0-mlogloss:0.91819\n",
      "[153]\tvalidation_0-mlogloss:0.91664\n",
      "[154]\tvalidation_0-mlogloss:0.91522\n",
      "[155]\tvalidation_0-mlogloss:0.91648\n",
      "[156]\tvalidation_0-mlogloss:0.91555\n",
      "[157]\tvalidation_0-mlogloss:0.91462\n",
      "[158]\tvalidation_0-mlogloss:0.91357\n",
      "[159]\tvalidation_0-mlogloss:0.91277\n",
      "[160]\tvalidation_0-mlogloss:0.91120\n",
      "[161]\tvalidation_0-mlogloss:0.91164\n",
      "[162]\tvalidation_0-mlogloss:0.91204\n",
      "[163]\tvalidation_0-mlogloss:0.91181\n",
      "[164]\tvalidation_0-mlogloss:0.91117\n",
      "[165]\tvalidation_0-mlogloss:0.90996\n",
      "[166]\tvalidation_0-mlogloss:0.90899\n",
      "[167]\tvalidation_0-mlogloss:0.90739\n",
      "[168]\tvalidation_0-mlogloss:0.90734\n",
      "[169]\tvalidation_0-mlogloss:0.90834\n",
      "[170]\tvalidation_0-mlogloss:0.90656\n",
      "[171]\tvalidation_0-mlogloss:0.90608\n",
      "[172]\tvalidation_0-mlogloss:0.90629\n",
      "[173]\tvalidation_0-mlogloss:0.90729\n",
      "[174]\tvalidation_0-mlogloss:0.90750\n",
      "[175]\tvalidation_0-mlogloss:0.90752\n",
      "[176]\tvalidation_0-mlogloss:0.90837\n",
      "[177]\tvalidation_0-mlogloss:0.90838\n",
      "[178]\tvalidation_0-mlogloss:0.90732\n",
      "[179]\tvalidation_0-mlogloss:0.90700\n",
      "[180]\tvalidation_0-mlogloss:0.90744\n",
      "[181]\tvalidation_0-mlogloss:0.90667\n",
      "[182]\tvalidation_0-mlogloss:0.90616\n",
      "[183]\tvalidation_0-mlogloss:0.90610\n",
      "[184]\tvalidation_0-mlogloss:0.90669\n",
      "[185]\tvalidation_0-mlogloss:0.90640\n",
      "[186]\tvalidation_0-mlogloss:0.90702\n",
      "[187]\tvalidation_0-mlogloss:0.90738\n",
      "[188]\tvalidation_0-mlogloss:0.90663\n",
      "[189]\tvalidation_0-mlogloss:0.90666\n",
      "[190]\tvalidation_0-mlogloss:0.90563\n",
      "[191]\tvalidation_0-mlogloss:0.90660\n",
      "[192]\tvalidation_0-mlogloss:0.90587\n",
      "[193]\tvalidation_0-mlogloss:0.90631\n",
      "[194]\tvalidation_0-mlogloss:0.90552\n",
      "[195]\tvalidation_0-mlogloss:0.90598\n",
      "[196]\tvalidation_0-mlogloss:0.90539\n",
      "[197]\tvalidation_0-mlogloss:0.90551\n",
      "[198]\tvalidation_0-mlogloss:0.90415\n",
      "[199]\tvalidation_0-mlogloss:0.90435\n",
      "[200]\tvalidation_0-mlogloss:0.90613\n",
      "[201]\tvalidation_0-mlogloss:0.90642\n",
      "[202]\tvalidation_0-mlogloss:0.90545\n",
      "[203]\tvalidation_0-mlogloss:0.90531\n",
      "[204]\tvalidation_0-mlogloss:0.90457\n",
      "[205]\tvalidation_0-mlogloss:0.90413\n",
      "[206]\tvalidation_0-mlogloss:0.90344\n",
      "[207]\tvalidation_0-mlogloss:0.90328\n",
      "[208]\tvalidation_0-mlogloss:0.90202\n",
      "[209]\tvalidation_0-mlogloss:0.90116\n",
      "[210]\tvalidation_0-mlogloss:0.90174\n",
      "[211]\tvalidation_0-mlogloss:0.90218\n",
      "[212]\tvalidation_0-mlogloss:0.90076\n",
      "[213]\tvalidation_0-mlogloss:0.90095\n",
      "[214]\tvalidation_0-mlogloss:0.90083\n",
      "[215]\tvalidation_0-mlogloss:0.90000\n",
      "[216]\tvalidation_0-mlogloss:0.89968\n",
      "[217]\tvalidation_0-mlogloss:0.90047\n",
      "[218]\tvalidation_0-mlogloss:0.90084\n",
      "[219]\tvalidation_0-mlogloss:0.90106\n",
      "[220]\tvalidation_0-mlogloss:0.90139\n",
      "[221]\tvalidation_0-mlogloss:0.90084\n",
      "[222]\tvalidation_0-mlogloss:0.90100\n",
      "[223]\tvalidation_0-mlogloss:0.90130\n",
      "[224]\tvalidation_0-mlogloss:0.90066\n",
      "[225]\tvalidation_0-mlogloss:0.90082\n",
      "[226]\tvalidation_0-mlogloss:0.89969\n",
      "[227]\tvalidation_0-mlogloss:0.89966\n",
      "[228]\tvalidation_0-mlogloss:0.89986\n",
      "[229]\tvalidation_0-mlogloss:0.90019\n",
      "[230]\tvalidation_0-mlogloss:0.90062\n",
      "[231]\tvalidation_0-mlogloss:0.90075\n",
      "[232]\tvalidation_0-mlogloss:0.89897\n",
      "[233]\tvalidation_0-mlogloss:0.89819\n",
      "[234]\tvalidation_0-mlogloss:0.89797\n",
      "[235]\tvalidation_0-mlogloss:0.89778\n",
      "[236]\tvalidation_0-mlogloss:0.89665\n",
      "[237]\tvalidation_0-mlogloss:0.89707\n",
      "[238]\tvalidation_0-mlogloss:0.89783\n",
      "[239]\tvalidation_0-mlogloss:0.89771\n",
      "[240]\tvalidation_0-mlogloss:0.89774\n",
      "[241]\tvalidation_0-mlogloss:0.89729\n",
      "[242]\tvalidation_0-mlogloss:0.89771\n",
      "[243]\tvalidation_0-mlogloss:0.89774\n",
      "[244]\tvalidation_0-mlogloss:0.89823\n",
      "[245]\tvalidation_0-mlogloss:0.89843\n",
      "[246]\tvalidation_0-mlogloss:0.89893\n",
      "[247]\tvalidation_0-mlogloss:0.89922\n",
      "[248]\tvalidation_0-mlogloss:0.89765\n",
      "[249]\tvalidation_0-mlogloss:0.89817\n",
      "[250]\tvalidation_0-mlogloss:0.89796\n",
      "[251]\tvalidation_0-mlogloss:0.89818\n",
      "[252]\tvalidation_0-mlogloss:0.89845\n",
      "[253]\tvalidation_0-mlogloss:0.89816\n",
      "[254]\tvalidation_0-mlogloss:0.89925\n",
      "[255]\tvalidation_0-mlogloss:0.89868\n",
      "[256]\tvalidation_0-mlogloss:0.89827\n",
      "[257]\tvalidation_0-mlogloss:0.89737\n",
      "[258]\tvalidation_0-mlogloss:0.89817\n",
      "[259]\tvalidation_0-mlogloss:0.89816\n",
      "[260]\tvalidation_0-mlogloss:0.89894\n",
      "[261]\tvalidation_0-mlogloss:0.89894\n",
      "[262]\tvalidation_0-mlogloss:0.89834\n",
      "[263]\tvalidation_0-mlogloss:0.89804\n",
      "[264]\tvalidation_0-mlogloss:0.89890\n",
      "[265]\tvalidation_0-mlogloss:0.89900\n",
      "[266]\tvalidation_0-mlogloss:0.89885\n",
      "[267]\tvalidation_0-mlogloss:0.89861\n",
      "[268]\tvalidation_0-mlogloss:0.89814\n",
      "[269]\tvalidation_0-mlogloss:0.89854\n",
      "[270]\tvalidation_0-mlogloss:0.89862\n",
      "[271]\tvalidation_0-mlogloss:0.89972\n",
      "[272]\tvalidation_0-mlogloss:0.89978\n",
      "[273]\tvalidation_0-mlogloss:0.90076\n",
      "[274]\tvalidation_0-mlogloss:0.90164\n",
      "[275]\tvalidation_0-mlogloss:0.90165\n",
      "[276]\tvalidation_0-mlogloss:0.90213\n",
      "[277]\tvalidation_0-mlogloss:0.90182\n",
      "[278]\tvalidation_0-mlogloss:0.90109\n",
      "[279]\tvalidation_0-mlogloss:0.90012\n",
      "[280]\tvalidation_0-mlogloss:0.90007\n",
      "[281]\tvalidation_0-mlogloss:0.90025\n",
      "[282]\tvalidation_0-mlogloss:0.90093\n",
      "[283]\tvalidation_0-mlogloss:0.90036\n",
      "[284]\tvalidation_0-mlogloss:0.90054\n",
      "[285]\tvalidation_0-mlogloss:0.89812\n",
      "[286]\tvalidation_0-mlogloss:0.89792\n",
      "[287]\tvalidation_0-mlogloss:0.89840\n",
      "[288]\tvalidation_0-mlogloss:0.89873\n",
      "[289]\tvalidation_0-mlogloss:0.89841\n",
      "[290]\tvalidation_0-mlogloss:0.89792\n",
      "[291]\tvalidation_0-mlogloss:0.89898\n",
      "[292]\tvalidation_0-mlogloss:0.89902\n",
      "[293]\tvalidation_0-mlogloss:0.89899\n",
      "[294]\tvalidation_0-mlogloss:0.89842\n",
      "[295]\tvalidation_0-mlogloss:0.89855\n",
      "[296]\tvalidation_0-mlogloss:0.89850\n",
      "[297]\tvalidation_0-mlogloss:0.89853\n",
      "[298]\tvalidation_0-mlogloss:0.89862\n",
      "[299]\tvalidation_0-mlogloss:0.89773\n",
      "\n",
      "Training Accuracy: 1.0000\n",
      "Validation Accuracy: 0.6014\n",
      "\n",
      "Validation Classification Report:\n",
      "              precision    recall  f1-score   support\n",
      "\n",
      "          AD       0.67      0.52      0.58      1870\n",
      "          CN       0.51      0.58      0.54      2585\n",
      "         MCI       0.65      0.65      0.65      3960\n",
      "\n",
      "    accuracy                           0.60      8415\n",
      "   macro avg       0.61      0.58      0.59      8415\n",
      "weighted avg       0.61      0.60      0.60      8415\n",
      "\n"
     ]
    },
    {
     "data": {
      "image/png": "[encoded data removed]",
      "text/plain": [
       "<Figure size 600x500 with 2 Axes>"
      ]
     },
     "metadata": {},
     "output_type": "display_data"
    }
   ],
   "source": [
    "from sklearn.metrics import accuracy_score, classification_report, confusion_matrix\n",
    "import matplotlib.pyplot as plt\n",
    "import numpy as np\n",
    "import seaborn as sns\n",
    "from imblearn.over_sampling import RandomOverSampler\n",
    "from sklearn.ensemble import RandomForestClassifier\n",
    "from xgboost import XGBClassifier\n",
    "import xgboost\n",
    "from sklearn.utils.class_weight import compute_sample_weight\n",
    "from imblearn.over_sampling import SMOTE\n",
    "\n",
    "# 🔹 Step 1: Load training set fused features and labels\n",
    "X_train = np.load(\"train_fused_features_clean.npy\")   # Shape: (84755, 640)\n",
    "y_train = np.load(\"train_fused_labels_clean.npy\")     # Shape: (84755,)\n",
    "\n",
    "# 🔹 Step 2: Load validation set fused features and labels\n",
    "X_val = np.load(\"val_fused_features_clean.npy\")\n",
    "y_val = np.load(\"val_fused_labels_clean.npy\")\n",
    "\n",
    "\n",
    "\n",
    "# 🔹 Step 3: Define and train MLP (no need of fitting again in test set)\n",
    "xgb = XGBClassifier(\n",
    "    n_estimators=300,\n",
    "    max_depth=6,\n",
    "    learning_rate=0.05,\n",
    "    subsample=0.8,\n",
    "    colsample_bytree=0.8,\n",
    "    objective='multi:softmax',\n",
    "    num_class=3,\n",
    "    reg_alpha=0.1,\n",
    "    \n",
    "    eval_metric='mlogloss',\n",
    "    n_jobs=-1,\n",
    "    random_state=42\n",
    ")\n",
    "# ros = RandomOverSampler(random_state=42)\n",
    "# X_train_resampled, y_train_resampled = ros.fit_resample(X_train, y_train)\n",
    "sm = SMOTE(random_state=42)\n",
    "X_train_bal, y_train_bal = sm.fit_resample(X_train, y_train)\n",
    "sample_weights = compute_sample_weight('balanced', y_train_bal)\n",
    "xgb.fit(\n",
    "    X_train_bal, y_train_bal,\n",
    "    sample_weight=sample_weights,  # optional\n",
    "    eval_set=[(X_val, y_val)],\n",
    "    verbose=True\n",
    ")\n",
    "\n",
    "# 🔹 Step 4: Evaluate on training set (to check for overfitting)\n",
    "y_train_pred = xgb.predict(X_train)\n",
    "train_acc = accuracy_score(y_train, y_train_pred)\n",
    "print(f\"\\nTraining Accuracy: {train_acc:.4f}\")\n",
    "\n",
    "# 🔹 Step 5: Evaluate on validation set\n",
    "y_val_pred = np.argmax(xgb.predict_proba(X_val), axis=1)\n",
    "val_acc = accuracy_score(y_val, y_val_pred)\n",
    "print(f\"Validation Accuracy: {val_acc:.4f}\\n\")\n",
    "\n",
    "# 🔹 Step 6: Detailed classification report (on validation set)\n",
    "print(\"Validation Classification Report:\")\n",
    "print(classification_report(y_val, y_val_pred, target_names=[\"AD\", \"CN\", \"MCI\"]))\n",
    "\n",
    "# 🔹 Step 7: Confusion matrix (on validation set)\n",
    "cm = confusion_matrix(y_val, y_val_pred)\n",
    "plt.figure(figsize=(6, 5))\n",
    "sns.heatmap(cm, annot=True, fmt=\"d\", cmap=\"Purples\", xticklabels=[\"AD\", \"CN\", \"MCI\"], yticklabels=[\"AD\", \"CN\", \"MCI\"])\n",
    "plt.xlabel(\"Predicted\")\n",
    "plt.ylabel(\"True\")\n",
    "plt.title(\"Confusion Matrix - Validation Set (MLP on Fused Features)\")\n",
    "plt.tight_layout()\n",
    "plt.show()\n"
   ]
  },
  {
   "cell_type": "code",
   "execution_count": null,
   "id": "79e520e6",
   "metadata": {},
   "outputs": [
    {
     "name": "stderr",
     "output_type": "stream",
     "text": [
      "/opt/anaconda3/lib/python3.12/site-packages/xgboost/training.py:183: UserWarning: [16:58:26] WARNING: /Users/runner/work/xgboost/xgboost/src/learner.cc:738: \n",
      "Parameters: { \"use_label_encoder\" } are not used.\n",
      "\n",
      "  bst.update(dtrain, iteration=i, fobj=obj)\n"
     ]
    },
    {
     "name": "stdout",
     "output_type": "stream",
     "text": [
      "\n",
      "Training Accuracy: 1.0000\n",
      "Validation Accuracy: 0.5306\n",
      "\n",
      "Validation Classification Report:\n",
      "              precision    recall  f1-score   support\n",
      "\n",
      "          AD       0.52      0.21      0.30      2640\n",
      "          CN       0.43      0.38      0.40      3795\n",
      "         MCI       0.57      0.77      0.66      5995\n",
      "\n",
      "    accuracy                           0.53     12430\n",
      "   macro avg       0.51      0.45      0.45     12430\n",
      "weighted avg       0.52      0.53      0.50     12430\n",
      "\n"
     ]
    },
    {
     "data": {
      "image/png": "[encoded data removed]",
      "text/plain": [
       "<Figure size 600x500 with 2 Axes>"
      ]
     },
     "metadata": {},
     "output_type": "display_data"
    }
   ],
   "source": [
    "from sklearn.metrics import accuracy_score, classification_report, confusion_matrix\n",
    "import matplotlib.pyplot as plt\n",
    "import seaborn as sns\n",
    "from imblearn.over_sampling import RandomOverSampler\n",
    "from sklearn.ensemble import RandomForestClassifier\n",
    "from xgboost import XGBClassifier\n",
    "\n",
    "# 🔹 Step 1: Load training set fused features and labels\n",
    "X_train = np.load(\"train_fused_features_clean.npy\")   # Shape: (84755, 640)\n",
    "y_train = np.load(\"train_fused_labels_clean.npy\")     # Shape: (84755,)\n",
    "\n",
    "# 🔹 Step 2: Load validation set fused features and labels\n",
    "X_val = np.load(\"val_fused_features_clean.npy\")\n",
    "y_val = np.load(\"val_fused_labels_clean.npy\")\n",
    "\n",
    "# 🔹 Step 3: Define and train MLP (no need of fitting again in test set)\n",
    "xgb = XGBClassifier(\n",
    "    n_estimators=300,\n",
    "    max_depth=10,\n",
    "    learning_rate=0.05,\n",
    "    objective='multi:softmax',\n",
    "    num_class=3,\n",
    "    eval_metric='mlogloss',\n",
    "    reg_lambda=1.0,       # L2 regularization\n",
    "    n_jobs=-1\n",
    ")\n",
    "# ros = RandomOverSampler(random_state=42)\n",
    "# X_train_resampled, y_train_resampled = ros.fit_resample(X_train, y_train)\n",
    "xgb.fit(X_train, y_train)\n",
    "\n",
    "# 🔹 Step 4: Evaluate on training set (to check for overfitting)\n",
    "y_train_pred = xgb.predict(X_train)\n",
    "train_acc = accuracy_score(y_train, y_train_pred)\n",
    "print(f\"\\nTraining Accuracy: {train_acc:.4f}\")\n",
    "\n",
    "# 🔹 Step 5: Evaluate on validation set\n",
    "y_val_pred = xgb.predict(X_val)\n",
    "val_acc = accuracy_score(y_val, y_val_pred)\n",
    "print(f\"Validation Accuracy: {val_acc:.4f}\\n\")\n",
    "\n",
    "# 🔹 Step 6: Detailed classification report (on validation set)\n",
    "print(\"Validation Classification Report:\")\n",
    "print(classification_report(y_val, y_val_pred, target_names=[\"AD\", \"CN\", \"MCI\"]))\n",
    "\n",
    "# 🔹 Step 7: Confusion matrix (on validation set)\n",
    "cm = confusion_matrix(y_val, y_val_pred)\n",
    "plt.figure(figsize=(6, 5))\n",
    "sns.heatmap(cm, annot=True, fmt=\"d\", cmap=\"Purples\", xticklabels=[\"AD\", \"CN\", \"MCI\"], yticklabels=[\"AD\", \"CN\", \"MCI\"])\n",
    "plt.xlabel(\"Predicted\")\n",
    "plt.ylabel(\"True\")\n",
    "plt.title(\"Confusion Matrix - Validation Set (MLP on Fused Features)\")\n",
    "plt.tight_layout()\n",
    "plt.show()"
   ]
  },
  {
   "cell_type": "code",
   "execution_count": 71,
   "id": "82e51e25",
   "metadata": {},
   "outputs": [
    {
     "name": "stdout",
     "output_type": "stream",
     "text": [
      "\n",
      " Accuracy: 0.5422\n",
      "\n",
      " Classification Report:\n",
      "              precision    recall  f1-score   support\n",
      "\n",
      "          AD       0.55      0.53      0.54      1870\n",
      "          CN       0.45      0.50      0.47      2585\n",
      "         MCI       0.61      0.58      0.59      3960\n",
      "\n",
      "    accuracy                           0.54      8415\n",
      "   macro avg       0.54      0.53      0.53      8415\n",
      "weighted avg       0.55      0.54      0.54      8415\n",
      "\n"
     ]
    }
   ],
   "source": [
    "from sklearn.metrics import classification_report, accuracy_score\n",
    "\n",
    "# Assuming y_test and y_pred are already defined from your previous evaluation\n",
    "\n",
    "# Define class labels (you can update these if your label encoding is different)\n",
    "class_names = ['AD', 'CN', 'MCI']\n",
    "\n",
    "# Accuracy\n",
    "accuracy = accuracy_score(y_val, y_val_pred)\n",
    "print(f\"\\n Accuracy: {accuracy:.4f}\")\n",
    "\n",
    "# Precision, Recall, F1-score\n",
    "print(\"\\n Classification Report:\")\n",
    "print(classification_report(y_val, y_val_pred, target_names=class_names))\n"
   ]
  },
  {
   "cell_type": "code",
   "execution_count": null,
   "id": "f517f460",
   "metadata": {},
   "outputs": [],
   "source": []
  }
 ],
 "metadata": {
  "kernelspec": {
   "display_name": "base",
   "language": "python",
   "name": "python3"
  },
  "language_info": {
   "codemirror_mode": {
    "name": "ipython",
    "version": 3
   },
   "file_extension": ".py",
   "mimetype": "text/x-python",
   "name": "python",
   "nbconvert_exporter": "python",
   "pygments_lexer": "ipython3",
   "version": "3.12.4"
  }
 },
 "nbformat": 4,
 "nbformat_minor": 5
}
